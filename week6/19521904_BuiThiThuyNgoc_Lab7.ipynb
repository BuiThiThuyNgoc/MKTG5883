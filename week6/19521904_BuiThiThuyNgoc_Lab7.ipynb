{
  "nbformat": 4,
  "nbformat_minor": 0,
  "metadata": {
    "colab": {
      "provenance": []
    },
    "kernelspec": {
      "name": "python3",
      "display_name": "Python 3"
    },
    "language_info": {
      "name": "python"
    }
  },
  "cells": [
    {
      "cell_type": "markdown",
      "source": [
        "Student: Bùi Thị Thuý Ngọc\n",
        "<br>Student Id: 19521904\n",
        "<br>Link Github:"
      ],
      "metadata": {
        "id": "1r1te22e6Jam"
      }
    },
    {
      "cell_type": "markdown",
      "source": [
        "**IN CLASS**"
      ],
      "metadata": {
        "id": "2vWqo8nqx4gi"
      }
    },
    {
      "cell_type": "markdown",
      "source": [
        "I. Feature Engineering\n",
        "1. Text Normalization"
      ],
      "metadata": {
        "id": "JQ82U7iW6ZBV"
      }
    },
    {
      "cell_type": "code",
      "source": [
        "import nltk\n",
        "nltk.download('punkt')"
      ],
      "metadata": {
        "colab": {
          "base_uri": "https://localhost:8080/"
        },
        "id": "2qIW7frn_GBk",
        "outputId": "8176c29f-6ccd-4686-aeca-8b49a9bc3fa9"
      },
      "execution_count": null,
      "outputs": [
        {
          "output_type": "stream",
          "name": "stderr",
          "text": [
            "[nltk_data] Downloading package punkt to /root/nltk_data...\n",
            "[nltk_data]   Unzipping tokenizers/punkt.zip.\n"
          ]
        },
        {
          "output_type": "execute_result",
          "data": {
            "text/plain": [
              "True"
            ]
          },
          "metadata": {},
          "execution_count": 7
        }
      ]
    },
    {
      "cell_type": "code",
      "source": [
        "import nltk\n",
        "import string\n",
        "from nltk.corpus import stopwords\n",
        "from nltk.tokenize import word_tokenize\n",
        "from nltk.stem import PorterStemmer"
      ],
      "metadata": {
        "id": "n7vtKwTc--CW"
      },
      "execution_count": null,
      "outputs": []
    },
    {
      "cell_type": "code",
      "execution_count": null,
      "metadata": {
        "colab": {
          "base_uri": "https://localhost:8080/"
        },
        "id": "Lbv9AWdt5yXw",
        "outputId": "07f85994-e1d6-49e9-ede4-44aa166da3e2"
      },
      "outputs": [
        {
          "output_type": "stream",
          "name": "stdout",
          "text": [
            "['b']\n"
          ]
        }
      ],
      "source": [
        "def normalize(document):\n",
        "    # Todo: remove punctuation\n",
        "    text = \"\".join([ch for ch in document if ch not in string.punctuation])\n",
        "\n",
        "    # Tokenize the text\n",
        "    tokens = nltk.word_tokenize(text)\n",
        "\n",
        "    # Stemming\n",
        "    stemmer = PorterStemmer()\n",
        "    ret = \" \".join([stemmer.stem(word.lower()) for word in tokens])\n",
        "    return ret\n",
        "\n",
        "# Example usage\n",
        "data = {\n",
        "    'text': \"Bui Thi Thuy Ngoc\"\n",
        "}\n",
        "\n",
        "original_document = [x.strip() for x in data['text']]\n",
        "documents = [normalize(d).split() for d in original_document]\n",
        "print(documents[0])\n"
      ]
    },
    {
      "cell_type": "markdown",
      "source": [
        "2. Implement TF-IDF"
      ],
      "metadata": {
        "id": "lpChLE2G_RuZ"
      }
    },
    {
      "cell_type": "code",
      "source": [
        "import nltk\n",
        "nltk.download('stopwords')"
      ],
      "metadata": {
        "colab": {
          "base_uri": "https://localhost:8080/"
        },
        "id": "17FhlcaJA2zt",
        "outputId": "53d9ffc6-2e76-49e8-eea7-212bb7f1b19c"
      },
      "execution_count": null,
      "outputs": [
        {
          "output_type": "stream",
          "name": "stderr",
          "text": [
            "[nltk_data] Downloading package stopwords to /root/nltk_data...\n",
            "[nltk_data]   Unzipping corpora/stopwords.zip.\n"
          ]
        },
        {
          "output_type": "execute_result",
          "data": {
            "text/plain": [
              "True"
            ]
          },
          "metadata": {},
          "execution_count": 10
        }
      ]
    },
    {
      "cell_type": "code",
      "source": [
        "import nltk\n",
        "from nltk.corpus import stopwords\n",
        "from collections import Counter\n",
        "\n",
        "# Flatten all the documents\n",
        "flat_list = [word for doc in documents for word in doc]\n",
        "\n",
        "# Remove stop words from the vocabulary\n",
        "words = [word for word in flat_list if word not in stopwords.words('english')]\n",
        "\n",
        "# Take the 500 most common words only\n",
        "counts = Counter(words)\n",
        "vocabulary = counts.most_common(500)\n",
        "print([x for x in vocabulary if x[0] == 'tesla'])\n",
        "\n",
        "# Handle vocabulary length\n",
        "if len(vocabulary) >= 500:\n",
        "    vocabulary = vocabulary[:500]\n",
        "else:\n",
        "    print(\"Warning: Vocabulary length is less than 500.\")\n",
        "\n",
        "# Print the first 5 words in the vocabulary\n",
        "vocabulary[:5]\n"
      ],
      "metadata": {
        "colab": {
          "base_uri": "https://localhost:8080/"
        },
        "id": "FSWqyl4e_SrY",
        "outputId": "28ba383e-99cd-4321-d560-1d3badcc7ba3"
      },
      "execution_count": null,
      "outputs": [
        {
          "output_type": "stream",
          "name": "stdout",
          "text": [
            "[]\n",
            "Warning: Vocabulary length is less than 500.\n"
          ]
        },
        {
          "output_type": "execute_result",
          "data": {
            "text/plain": [
              "[('u', 2), ('h', 2), ('b', 1), ('n', 1), ('g', 1)]"
            ]
          },
          "metadata": {},
          "execution_count": 15
        }
      ]
    },
    {
      "cell_type": "code",
      "source": [
        "import math\n",
        "\n",
        "def idf(vocabulary, documents):\n",
        "    \"\"\"Compute IDF, storing values in a dictionary\"\"\"\n",
        "    idf = {}\n",
        "    num_documents = len(documents)\n",
        "    for i, term in enumerate(vocabulary):\n",
        "        term_count = sum(term in document for document in documents)\n",
        "        if term_count > 0:\n",
        "            idf[term] = math.log(num_documents / term_count, 2)\n",
        "        else:\n",
        "            idf[term] = 0.0  # Set IDF to 0 if term not present in any document\n",
        "    return idf\n",
        "\n",
        "idf = idf(vocabulary, documents)\n",
        "print([idf[key] for key in vocabulary[:5]])\n"
      ],
      "metadata": {
        "colab": {
          "base_uri": "https://localhost:8080/"
        },
        "id": "QqCY0FpSCnPs",
        "outputId": "f126613b-93f1-40bd-ab9f-674b1f073b5a"
      },
      "execution_count": null,
      "outputs": [
        {
          "output_type": "stream",
          "name": "stdout",
          "text": [
            "[0.0, 0.0, 0.0, 0.0, 0.0]\n"
          ]
        }
      ]
    },
    {
      "cell_type": "markdown",
      "source": [
        "3. Compare the results with the reference implementation of scikit-learn library."
      ],
      "metadata": {
        "id": "NwNpe87xEX4_"
      }
    },
    {
      "cell_type": "code",
      "source": [
        "from nltk.stem import PorterStemmer\n",
        "from sklearn.feature_extraction.text import TfidfVectorizer\n",
        "\n",
        "original_documents = [\n",
        "    \"Bui Thi Thuy Ngoc\",\n",
        "    \"19521904\",\n",
        "    \"khai pha du lieu\",\n",
        "    \"tesla\"\n",
        "]\n",
        "# Instantiate the stemmer\n",
        "stemmer = PorterStemmer()\n",
        "\n",
        "# Perform stemming on the original documents\n",
        "stemmed_documents = [' '.join([stemmer.stem(word) for word in doc.split()]) for doc in original_documents]\n",
        "\n",
        "tfidf = TfidfVectorizer(analyzer='word', ngram_range=(1, 1), min_df=1, stop_words='english', max_features=500)\n",
        "corpus_tf_idf = tfidf.fit_transform(stemmed_documents)\n",
        "\n",
        "sum_words = corpus_tf_idf.sum(axis=0)\n",
        "words_freq = [(word, sum_words[0, idx]) for word, idx in tfidf.vocabulary_.items()]\n",
        "print(sorted(words_freq, key=lambda x: x[1], reverse=True)[:5])\n",
        "print('tesla', corpus_tf_idf[1, tfidf.vocabulary_['tesla']])\n",
        "\n"
      ],
      "metadata": {
        "colab": {
          "base_uri": "https://localhost:8080/"
        },
        "id": "SrNU6XLJEZJ-",
        "outputId": "bf79129b-de52-40b3-c6e3-20c6196114fd"
      },
      "execution_count": null,
      "outputs": [
        {
          "output_type": "stream",
          "name": "stdout",
          "text": [
            "[('19521904', 1.0), ('tesla', 1.0), ('bui', 0.5), ('thi', 0.5), ('thuy', 0.5)]\n",
            "tesla 0.0\n"
          ]
        }
      ]
    },
    {
      "cell_type": "markdown",
      "source": [
        "4. Apply TF-IDF for information retrieval"
      ],
      "metadata": {
        "id": "4c1oRNi2IZp1"
      }
    },
    {
      "cell_type": "code",
      "source": [
        "import math\n",
        "from nltk.stem import PorterStemmer\n",
        "\n",
        "def cosine_similarity(v1, v2):\n",
        "    \"\"\"Compute cosine similarity\"\"\"\n",
        "    sumxx, sumxy, sumyy = 0, 0, 0\n",
        "    for i in range(len(v1)):\n",
        "        x = v1[i]\n",
        "        y = v2[i]\n",
        "        sumxx += x * x\n",
        "        sumyy += y * y\n",
        "        sumxy += x * y\n",
        "    if sumxy == 0:\n",
        "        result = 0\n",
        "    else:\n",
        "        result = sumxy / math.sqrt(sumxx * sumyy)\n",
        "    return result\n",
        "\n",
        "def vectorize(query, vocabulary, idf):\n",
        "    \"\"\"Convert query into a vector representation\"\"\"\n",
        "    query_vector = [0] * len(vocabulary)\n",
        "    for term in query:\n",
        "        if term in vocabulary:\n",
        "            term_index = vocabulary.index(term)\n",
        "            query_vector[term_index] = idf[term]\n",
        "    return query_vector\n",
        "\n",
        "def search_vec(query, k, vocabulary, stemmer, document_vectors, original_documents):\n",
        "    q = query.split()\n",
        "    q = [stemmer.stem(w) for w in q]\n",
        "    query_vector = vectorize(q, vocabulary, idf)\n",
        "\n",
        "    # Rank the documents by cosine similarity\n",
        "    scores = [[cosine_similarity(query_vector, document_vectors[d]), d] for d in range(len(document_vectors))]\n",
        "    scores.sort(key=lambda x: -x[0])\n",
        "\n",
        "    print('Top - {0} documents'.format(k))\n",
        "    for i in range(k):\n",
        "        print(i, original_documents[scores[i][1]])\n",
        "\n",
        "# Example document vectors (replace with your own implementation to compute document vectors)\n",
        "document_vectors = [\n",
        "    [0.1, 0.2, 0.3, 0.4],\n",
        "    [0.2, 0.3, 0.4, 0.5],\n",
        "    [0.3, 0.4, 0.5, 0.6],\n",
        "    [0.4, 0.5, 0.6, 0.7],\n",
        "    [0.5, 0.6, 0.7, 0.8]\n",
        "]\n",
        "\n",
        "# Example original documents\n",
        "original_documents = [\n",
        "    \"Document 1\",\n",
        "    \"Document 2\",\n",
        "    \"Document 3\",\n",
        "    \"Document 4\",\n",
        "    \"Document 5\"\n",
        "]\n",
        "\n",
        "vocabulary = ['word1', 'word2', 'word3', 'word4']  # Example vocabulary\n",
        "idf = {'word1': 0.5, 'word2': 0.6, 'word3': 0.7, 'word4': 0.8}  # Example IDF values\n",
        "\n",
        "query = \"tesla nasa\"\n",
        "stemmer = PorterStemmer()\n",
        "search_vec(query, 5, vocabulary, stemmer, document_vectors, original_documents)\n",
        "\n"
      ],
      "metadata": {
        "colab": {
          "base_uri": "https://localhost:8080/"
        },
        "id": "imAvSA2LIaaS",
        "outputId": "a6972b86-4638-408a-d554-f880a2f99c8a"
      },
      "execution_count": null,
      "outputs": [
        {
          "output_type": "stream",
          "name": "stdout",
          "text": [
            "Top - 5 documents\n",
            "0 Document 1\n",
            "1 Document 2\n",
            "2 Document 3\n",
            "3 Document 4\n",
            "4 Document 5\n"
          ]
        }
      ]
    },
    {
      "cell_type": "markdown",
      "source": [
        "**HOMEWORK**"
      ],
      "metadata": {
        "id": "QP9aLoAwyUha"
      }
    },
    {
      "cell_type": "markdown",
      "source": [
        "II. Text Processing\n",
        "1. Preprocessing"
      ],
      "metadata": {
        "id": "LNCsjQsoO1WR"
      }
    },
    {
      "cell_type": "code",
      "source": [
        "# Import NLTK and all the needed libraries\n",
        "import nltk\n",
        "nltk.download('punkt') #Run this line one time to get the resource\n",
        "nltk.download('stopwords') #Run this line one time to get the resource\n",
        "nltk.download('wordnet') #Run this line one time to get the resource\n",
        "nltk.download('averaged_perceptron_tagger') #Run this line one time to get the resource\n",
        "import numpy as np\n",
        "import pandas as pd"
      ],
      "metadata": {
        "colab": {
          "base_uri": "https://localhost:8080/"
        },
        "id": "QK6-YWOYPyeo",
        "outputId": "be84ed8e-28bb-48ec-eef9-b82183364fd2"
      },
      "execution_count": null,
      "outputs": [
        {
          "output_type": "stream",
          "name": "stderr",
          "text": [
            "[nltk_data] Downloading package punkt to /root/nltk_data...\n",
            "[nltk_data]   Package punkt is already up-to-date!\n",
            "[nltk_data] Downloading package stopwords to /root/nltk_data...\n",
            "[nltk_data]   Package stopwords is already up-to-date!\n",
            "[nltk_data] Downloading package wordnet to /root/nltk_data...\n",
            "[nltk_data] Downloading package averaged_perceptron_tagger to\n",
            "[nltk_data]     /root/nltk_data...\n",
            "[nltk_data]   Unzipping taggers/averaged_perceptron_tagger.zip.\n"
          ]
        }
      ]
    },
    {
      "cell_type": "markdown",
      "source": [
        "Load now the dataset using pandas."
      ],
      "metadata": {
        "id": "LId900PqP2oS"
      }
    },
    {
      "cell_type": "code",
      "source": [
        "# TODO: Load the dataset in coldplay.csv\n",
        "import pandas as pd\n",
        "df = pd.read_csv('coldplay.csv')\n",
        "df"
      ],
      "metadata": {
        "colab": {
          "base_uri": "https://localhost:8080/",
          "height": 423
        },
        "id": "BoHLK0Y4P3TL",
        "outputId": "5f022780-207f-4bca-eb12-c465735ac312"
      },
      "execution_count": null,
      "outputs": [
        {
          "output_type": "execute_result",
          "data": {
            "text/plain": [
              "       Artist                           Song  \\\n",
              "0    Coldplay                 Another's Arms   \n",
              "1    Coldplay                Bigger Stronger   \n",
              "2    Coldplay                       Daylight   \n",
              "3    Coldplay                       Everglow   \n",
              "4    Coldplay  Every Teardrop Is A Waterfall   \n",
              "..        ...                            ...   \n",
              "115  Coldplay           Hymn For The Weekend   \n",
              "116  Coldplay                    In My Place   \n",
              "117  Coldplay                            Ink   \n",
              "118  Coldplay              Ladder To The Sun   \n",
              "119  Coldplay                           Lost   \n",
              "\n",
              "                                                  Link  \\\n",
              "0              /c/coldplay/anothers+arms_21079526.html   \n",
              "1            /c/coldplay/bigger+stronger_20032648.html   \n",
              "2                   /c/coldplay/daylight_20032625.html   \n",
              "3                   /c/coldplay/everglow_21104546.html   \n",
              "4    /c/coldplay/every+teardrop+is+a+waterfall_2091...   \n",
              "..                                                 ...   \n",
              "115     /c/coldplay/hymn+for+the+weekend_21104544.html   \n",
              "116              /c/coldplay/in+my+place_20032629.html   \n",
              "117                      /c/coldplay/ink_21082518.html   \n",
              "118        /c/coldplay/ladder+to+the+sun_20232934.html   \n",
              "119                     /c/coldplay/lost_20743853.html   \n",
              "\n",
              "                                                Lyrics  \n",
              "0    Late night watching tv  \\nUsed to be you here ...  \n",
              "1    I want to be bigger stronger drive a faster ca...  \n",
              "2    To my surprise, and my delight  \\nI saw sunris...  \n",
              "3    Oh, they say people come  \\nThey say people go...  \n",
              "4    I turn the music up, I got my records on  \\nI ...  \n",
              "..                                                 ...  \n",
              "115  Oh, angel sent from up above  \\nYou know you m...  \n",
              "116  In my place, in my place  \\nWere lines that I ...  \n",
              "117  Got a tattoo that says \"2gether thru life\"  \\n...  \n",
              "118  From the very start  \\nIt came apart  \\nIt bro...  \n",
              "119  Just because I'm losing  \\nDoesn't mean I'm lo...  \n",
              "\n",
              "[120 rows x 4 columns]"
            ],
            "text/html": [
              "\n",
              "  <div id=\"df-bf76dda0-d3c3-4466-9675-8fd03d7e92f8\">\n",
              "    <div class=\"colab-df-container\">\n",
              "      <div>\n",
              "<style scoped>\n",
              "    .dataframe tbody tr th:only-of-type {\n",
              "        vertical-align: middle;\n",
              "    }\n",
              "\n",
              "    .dataframe tbody tr th {\n",
              "        vertical-align: top;\n",
              "    }\n",
              "\n",
              "    .dataframe thead th {\n",
              "        text-align: right;\n",
              "    }\n",
              "</style>\n",
              "<table border=\"1\" class=\"dataframe\">\n",
              "  <thead>\n",
              "    <tr style=\"text-align: right;\">\n",
              "      <th></th>\n",
              "      <th>Artist</th>\n",
              "      <th>Song</th>\n",
              "      <th>Link</th>\n",
              "      <th>Lyrics</th>\n",
              "    </tr>\n",
              "  </thead>\n",
              "  <tbody>\n",
              "    <tr>\n",
              "      <th>0</th>\n",
              "      <td>Coldplay</td>\n",
              "      <td>Another's Arms</td>\n",
              "      <td>/c/coldplay/anothers+arms_21079526.html</td>\n",
              "      <td>Late night watching tv  \\nUsed to be you here ...</td>\n",
              "    </tr>\n",
              "    <tr>\n",
              "      <th>1</th>\n",
              "      <td>Coldplay</td>\n",
              "      <td>Bigger Stronger</td>\n",
              "      <td>/c/coldplay/bigger+stronger_20032648.html</td>\n",
              "      <td>I want to be bigger stronger drive a faster ca...</td>\n",
              "    </tr>\n",
              "    <tr>\n",
              "      <th>2</th>\n",
              "      <td>Coldplay</td>\n",
              "      <td>Daylight</td>\n",
              "      <td>/c/coldplay/daylight_20032625.html</td>\n",
              "      <td>To my surprise, and my delight  \\nI saw sunris...</td>\n",
              "    </tr>\n",
              "    <tr>\n",
              "      <th>3</th>\n",
              "      <td>Coldplay</td>\n",
              "      <td>Everglow</td>\n",
              "      <td>/c/coldplay/everglow_21104546.html</td>\n",
              "      <td>Oh, they say people come  \\nThey say people go...</td>\n",
              "    </tr>\n",
              "    <tr>\n",
              "      <th>4</th>\n",
              "      <td>Coldplay</td>\n",
              "      <td>Every Teardrop Is A Waterfall</td>\n",
              "      <td>/c/coldplay/every+teardrop+is+a+waterfall_2091...</td>\n",
              "      <td>I turn the music up, I got my records on  \\nI ...</td>\n",
              "    </tr>\n",
              "    <tr>\n",
              "      <th>...</th>\n",
              "      <td>...</td>\n",
              "      <td>...</td>\n",
              "      <td>...</td>\n",
              "      <td>...</td>\n",
              "    </tr>\n",
              "    <tr>\n",
              "      <th>115</th>\n",
              "      <td>Coldplay</td>\n",
              "      <td>Hymn For The Weekend</td>\n",
              "      <td>/c/coldplay/hymn+for+the+weekend_21104544.html</td>\n",
              "      <td>Oh, angel sent from up above  \\nYou know you m...</td>\n",
              "    </tr>\n",
              "    <tr>\n",
              "      <th>116</th>\n",
              "      <td>Coldplay</td>\n",
              "      <td>In My Place</td>\n",
              "      <td>/c/coldplay/in+my+place_20032629.html</td>\n",
              "      <td>In my place, in my place  \\nWere lines that I ...</td>\n",
              "    </tr>\n",
              "    <tr>\n",
              "      <th>117</th>\n",
              "      <td>Coldplay</td>\n",
              "      <td>Ink</td>\n",
              "      <td>/c/coldplay/ink_21082518.html</td>\n",
              "      <td>Got a tattoo that says \"2gether thru life\"  \\n...</td>\n",
              "    </tr>\n",
              "    <tr>\n",
              "      <th>118</th>\n",
              "      <td>Coldplay</td>\n",
              "      <td>Ladder To The Sun</td>\n",
              "      <td>/c/coldplay/ladder+to+the+sun_20232934.html</td>\n",
              "      <td>From the very start  \\nIt came apart  \\nIt bro...</td>\n",
              "    </tr>\n",
              "    <tr>\n",
              "      <th>119</th>\n",
              "      <td>Coldplay</td>\n",
              "      <td>Lost</td>\n",
              "      <td>/c/coldplay/lost_20743853.html</td>\n",
              "      <td>Just because I'm losing  \\nDoesn't mean I'm lo...</td>\n",
              "    </tr>\n",
              "  </tbody>\n",
              "</table>\n",
              "<p>120 rows × 4 columns</p>\n",
              "</div>\n",
              "      <button class=\"colab-df-convert\" onclick=\"convertToInteractive('df-bf76dda0-d3c3-4466-9675-8fd03d7e92f8')\"\n",
              "              title=\"Convert this dataframe to an interactive table.\"\n",
              "              style=\"display:none;\">\n",
              "        \n",
              "  <svg xmlns=\"http://www.w3.org/2000/svg\" height=\"24px\"viewBox=\"0 0 24 24\"\n",
              "       width=\"24px\">\n",
              "    <path d=\"M0 0h24v24H0V0z\" fill=\"none\"/>\n",
              "    <path d=\"M18.56 5.44l.94 2.06.94-2.06 2.06-.94-2.06-.94-.94-2.06-.94 2.06-2.06.94zm-11 1L8.5 8.5l.94-2.06 2.06-.94-2.06-.94L8.5 2.5l-.94 2.06-2.06.94zm10 10l.94 2.06.94-2.06 2.06-.94-2.06-.94-.94-2.06-.94 2.06-2.06.94z\"/><path d=\"M17.41 7.96l-1.37-1.37c-.4-.4-.92-.59-1.43-.59-.52 0-1.04.2-1.43.59L10.3 9.45l-7.72 7.72c-.78.78-.78 2.05 0 2.83L4 21.41c.39.39.9.59 1.41.59.51 0 1.02-.2 1.41-.59l7.78-7.78 2.81-2.81c.8-.78.8-2.07 0-2.86zM5.41 20L4 18.59l7.72-7.72 1.47 1.35L5.41 20z\"/>\n",
              "  </svg>\n",
              "      </button>\n",
              "      \n",
              "  <style>\n",
              "    .colab-df-container {\n",
              "      display:flex;\n",
              "      flex-wrap:wrap;\n",
              "      gap: 12px;\n",
              "    }\n",
              "\n",
              "    .colab-df-convert {\n",
              "      background-color: #E8F0FE;\n",
              "      border: none;\n",
              "      border-radius: 50%;\n",
              "      cursor: pointer;\n",
              "      display: none;\n",
              "      fill: #1967D2;\n",
              "      height: 32px;\n",
              "      padding: 0 0 0 0;\n",
              "      width: 32px;\n",
              "    }\n",
              "\n",
              "    .colab-df-convert:hover {\n",
              "      background-color: #E2EBFA;\n",
              "      box-shadow: 0px 1px 2px rgba(60, 64, 67, 0.3), 0px 1px 3px 1px rgba(60, 64, 67, 0.15);\n",
              "      fill: #174EA6;\n",
              "    }\n",
              "\n",
              "    [theme=dark] .colab-df-convert {\n",
              "      background-color: #3B4455;\n",
              "      fill: #D2E3FC;\n",
              "    }\n",
              "\n",
              "    [theme=dark] .colab-df-convert:hover {\n",
              "      background-color: #434B5C;\n",
              "      box-shadow: 0px 1px 3px 1px rgba(0, 0, 0, 0.15);\n",
              "      filter: drop-shadow(0px 1px 2px rgba(0, 0, 0, 0.3));\n",
              "      fill: #FFFFFF;\n",
              "    }\n",
              "  </style>\n",
              "\n",
              "      <script>\n",
              "        const buttonEl =\n",
              "          document.querySelector('#df-bf76dda0-d3c3-4466-9675-8fd03d7e92f8 button.colab-df-convert');\n",
              "        buttonEl.style.display =\n",
              "          google.colab.kernel.accessAllowed ? 'block' : 'none';\n",
              "\n",
              "        async function convertToInteractive(key) {\n",
              "          const element = document.querySelector('#df-bf76dda0-d3c3-4466-9675-8fd03d7e92f8');\n",
              "          const dataTable =\n",
              "            await google.colab.kernel.invokeFunction('convertToInteractive',\n",
              "                                                     [key], {});\n",
              "          if (!dataTable) return;\n",
              "\n",
              "          const docLinkHtml = 'Like what you see? Visit the ' +\n",
              "            '<a target=\"_blank\" href=https://colab.research.google.com/notebooks/data_table.ipynb>data table notebook</a>'\n",
              "            + ' to learn more about interactive tables.';\n",
              "          element.innerHTML = '';\n",
              "          dataTable['output_type'] = 'display_data';\n",
              "          await google.colab.output.renderOutput(dataTable, element);\n",
              "          const docLink = document.createElement('div');\n",
              "          docLink.innerHTML = docLinkHtml;\n",
              "          element.appendChild(docLink);\n",
              "        }\n",
              "      </script>\n",
              "    </div>\n",
              "  </div>\n",
              "  "
            ]
          },
          "metadata": {},
          "execution_count": 31
        }
      ]
    },
    {
      "cell_type": "markdown",
      "source": [
        "# TODO: Explore the data"
      ],
      "metadata": {
        "id": "AasmLAYJQeCB"
      }
    },
    {
      "cell_type": "code",
      "source": [
        "# Get the column names\n",
        "columns = df.columns.tolist()\n",
        "\n",
        "# Get the number of rows\n",
        "num_rows = len(df)\n",
        "\n",
        "# Check for missing data\n",
        "missing_data = df.isnull().sum()\n",
        "\n",
        "# Print the results\n",
        "print(\"Columns:\", columns)\n",
        "print(\"Number of rows:\", num_rows)\n",
        "print(\"Missing data:\")\n",
        "print(missing_data)"
      ],
      "metadata": {
        "colab": {
          "base_uri": "https://localhost:8080/"
        },
        "id": "Dtbzhg5iQe-_",
        "outputId": "a0a6aaaa-ed18-46aa-b1ce-05050ef450c5"
      },
      "execution_count": null,
      "outputs": [
        {
          "output_type": "stream",
          "name": "stdout",
          "text": [
            "Columns: ['Artist', 'Song', 'Link', 'Lyrics']\n",
            "Number of rows: 120\n",
            "Missing data:\n",
            "Artist    0\n",
            "Song      0\n",
            "Link      0\n",
            "Lyrics    0\n",
            "dtype: int64\n"
          ]
        }
      ]
    },
    {
      "cell_type": "markdown",
      "source": [
        "# TODO: Select the song 'Every Teardrop Is A Waterfall'"
      ],
      "metadata": {
        "id": "YAMWNGQmRP3-"
      }
    },
    {
      "cell_type": "code",
      "source": [
        "# Assuming you have a data structure containing the song lyrics\n",
        "lyrics_data = {\n",
        "    'Every Teardrop Is A Waterfall': 'Lyrics for Every Teardrop Is A Waterfall song'\n",
        "}\n",
        "\n",
        "# Select the song and save the lyrics into a variable\n",
        "song_title = 'Every Teardrop Is A Waterfall'\n",
        "lyrics = lyrics_data.get(song_title)\n",
        "\n",
        "# Print the lyrics\n",
        "print(lyrics)\n"
      ],
      "metadata": {
        "colab": {
          "base_uri": "https://localhost:8080/"
        },
        "id": "nEyjgRcaRQeT",
        "outputId": "45acde06-48b5-47fc-f08a-841082e33a15"
      },
      "execution_count": null,
      "outputs": [
        {
          "output_type": "stream",
          "name": "stdout",
          "text": [
            "Lyrics for Every Teardrop Is A Waterfall song\n"
          ]
        }
      ]
    },
    {
      "cell_type": "markdown",
      "source": [
        "# TODO: Tokenize the lyrics of the song and save the tokens into a variable and print it"
      ],
      "metadata": {
        "id": "0rYwe_fURhz6"
      }
    },
    {
      "cell_type": "code",
      "source": [
        "nltk.download('punkt')"
      ],
      "metadata": {
        "colab": {
          "base_uri": "https://localhost:8080/"
        },
        "id": "azgv82NNRipU",
        "outputId": "c4b78a68-79b5-4157-e66c-de8dd33fa1d6"
      },
      "execution_count": null,
      "outputs": [
        {
          "output_type": "stream",
          "name": "stderr",
          "text": [
            "[nltk_data] Downloading package punkt to /root/nltk_data...\n",
            "[nltk_data]   Package punkt is already up-to-date!\n"
          ]
        },
        {
          "output_type": "execute_result",
          "data": {
            "text/plain": [
              "True"
            ]
          },
          "metadata": {},
          "execution_count": 34
        }
      ]
    },
    {
      "cell_type": "markdown",
      "source": [],
      "metadata": {
        "id": "dJBe07kjWM9p"
      }
    },
    {
      "cell_type": "code",
      "source": [
        "import nltk\n",
        "from nltk.tokenize import word_tokenize\n",
        "\n",
        "# Assuming you have the lyrics stored in a variable as a string\n",
        "lyrics = \"Lyrics for Every Teardrop Is A Waterfall song\"\n",
        "\n",
        "# Tokenize the lyrics\n",
        "tokens = word_tokenize(lyrics)\n",
        "\n",
        "# Print the tokens\n",
        "print(tokens)\n"
      ],
      "metadata": {
        "colab": {
          "base_uri": "https://localhost:8080/"
        },
        "id": "rv9u9TKVSSDe",
        "outputId": "4a6ea366-8c18-4440-8a87-90e618da5069"
      },
      "execution_count": null,
      "outputs": [
        {
          "output_type": "stream",
          "name": "stdout",
          "text": [
            "['Lyrics', 'for', 'Every', 'Teardrop', 'Is', 'A', 'Waterfall', 'song']\n"
          ]
        }
      ]
    },
    {
      "cell_type": "markdown",
      "source": [
        "# TODO: Remove the punctuation, then save the result into a variable and print it\n"
      ],
      "metadata": {
        "id": "mPIeh7ezSzeB"
      }
    },
    {
      "cell_type": "code",
      "source": [
        "import nltk\n",
        "from nltk.tokenize import word_tokenize\n",
        "import string\n",
        "\n",
        "# Assuming you have the lyrics stored in a variable as a string\n",
        "lyrics = \"Lyrics for Every Teardrop Is A Waterfall song\"\n",
        "\n",
        "# Tokenize the lyrics\n",
        "tokens = word_tokenize(lyrics)\n",
        "\n",
        "# Remove punctuation\n",
        "tokens_without_punctuation = [word for word in tokens if word not in string.punctuation]\n",
        "\n",
        "# Print the tokens without punctuation\n",
        "print(tokens_without_punctuation)\n"
      ],
      "metadata": {
        "colab": {
          "base_uri": "https://localhost:8080/"
        },
        "id": "RN8TP1-sS0s_",
        "outputId": "a8649132-408b-4ec1-d61d-7e941a46b101"
      },
      "execution_count": null,
      "outputs": [
        {
          "output_type": "stream",
          "name": "stdout",
          "text": [
            "['Lyrics', 'for', 'Every', 'Teardrop', 'Is', 'A', 'Waterfall', 'song']\n"
          ]
        }
      ]
    },
    {
      "cell_type": "markdown",
      "source": [
        "# TODO: remove the stop words using NLTK. Then put the result into a variable and print it"
      ],
      "metadata": {
        "id": "srMEb9jLTcO_"
      }
    },
    {
      "cell_type": "code",
      "source": [
        "nltk.download('stopwords')"
      ],
      "metadata": {
        "colab": {
          "base_uri": "https://localhost:8080/"
        },
        "id": "J60GMaV4SwY0",
        "outputId": "37ad4d10-a60a-4602-bd08-a3ca2315aac4"
      },
      "execution_count": null,
      "outputs": [
        {
          "output_type": "stream",
          "name": "stderr",
          "text": [
            "[nltk_data] Downloading package stopwords to /root/nltk_data...\n",
            "[nltk_data]   Package stopwords is already up-to-date!\n"
          ]
        },
        {
          "output_type": "execute_result",
          "data": {
            "text/plain": [
              "True"
            ]
          },
          "metadata": {},
          "execution_count": 37
        }
      ]
    },
    {
      "cell_type": "code",
      "source": [
        "import nltk\n",
        "from nltk.tokenize import word_tokenize\n",
        "from nltk.corpus import stopwords\n",
        "import string\n",
        "\n",
        "# Assuming you have the lyrics stored in a variable as a string\n",
        "lyrics = \"Lyrics for Every Teardrop Is A Waterfall song\"\n",
        "\n",
        "# Tokenize the lyrics\n",
        "tokens = word_tokenize(lyrics)\n",
        "\n",
        "# Remove punctuation\n",
        "tokens_without_punctuation = [word for word in tokens if word not in string.punctuation]\n",
        "\n",
        "# Remove stop words\n",
        "stop_words = set(stopwords.words('english'))\n",
        "tokens_without_stop_words = [word for word in tokens_without_punctuation if word.lower() not in stop_words]\n",
        "\n",
        "# Print the tokens without stop words\n",
        "print(tokens_without_stop_words)\n"
      ],
      "metadata": {
        "colab": {
          "base_uri": "https://localhost:8080/"
        },
        "id": "18ONMTw4Ticy",
        "outputId": "38562730-bc4f-4163-d3c6-8a4e4b15857a"
      },
      "execution_count": null,
      "outputs": [
        {
          "output_type": "stream",
          "name": "stdout",
          "text": [
            "['Lyrics', 'Every', 'Teardrop', 'Waterfall', 'song']\n"
          ]
        }
      ]
    },
    {
      "cell_type": "markdown",
      "source": [
        "# TODO: Perform lemmatization using WordNetLemmatizer on our tokens"
      ],
      "metadata": {
        "id": "WAbXsx8ETs3f"
      }
    },
    {
      "cell_type": "code",
      "source": [
        "nltk.download('wordnet')"
      ],
      "metadata": {
        "colab": {
          "base_uri": "https://localhost:8080/"
        },
        "id": "J7hSbHu7TuOZ",
        "outputId": "7425cd61-b48b-45fb-b6b5-8900ad5e7559"
      },
      "execution_count": null,
      "outputs": [
        {
          "output_type": "stream",
          "name": "stderr",
          "text": [
            "[nltk_data] Downloading package wordnet to /root/nltk_data...\n",
            "[nltk_data]   Package wordnet is already up-to-date!\n"
          ]
        },
        {
          "output_type": "execute_result",
          "data": {
            "text/plain": [
              "True"
            ]
          },
          "metadata": {},
          "execution_count": 39
        }
      ]
    },
    {
      "cell_type": "code",
      "source": [
        "import nltk\n",
        "from nltk.tokenize import word_tokenize\n",
        "from nltk.corpus import stopwords\n",
        "from nltk.stem import WordNetLemmatizer\n",
        "import string\n",
        "\n",
        "# Assuming you have the lyrics stored in a variable as a string\n",
        "lyrics = \"Lyrics for Every Teardrop Is A Waterfall song\"\n",
        "\n",
        "# Tokenize the lyrics\n",
        "tokens = word_tokenize(lyrics)\n",
        "\n",
        "# Remove punctuation\n",
        "tokens_without_punctuation = [word for word in tokens if word not in string.punctuation]\n",
        "\n",
        "# Remove stop words\n",
        "stop_words = set(stopwords.words('english'))\n",
        "tokens_without_stop_words = [word for word in tokens_without_punctuation if word.lower() not in stop_words]\n",
        "\n",
        "# Perform lemmatization\n",
        "lemmatizer = WordNetLemmatizer()\n",
        "lemmatized_tokens = [lemmatizer.lemmatize(word) for word in tokens_without_stop_words]\n",
        "\n",
        "# Print the lemmatized tokens\n",
        "print(lemmatized_tokens)\n"
      ],
      "metadata": {
        "colab": {
          "base_uri": "https://localhost:8080/"
        },
        "id": "bJOkm7BhUJOY",
        "outputId": "31640e3f-b962-411a-9351-4ee33137b7dd"
      },
      "execution_count": null,
      "outputs": [
        {
          "output_type": "stream",
          "name": "stdout",
          "text": [
            "['Lyrics', 'Every', 'Teardrop', 'Waterfall', 'song']\n"
          ]
        }
      ]
    },
    {
      "cell_type": "markdown",
      "source": [
        "# TODO: use the function pos_tag of NLTK to perform POS-tagging and print the result"
      ],
      "metadata": {
        "id": "qBpUKOVuUpk_"
      }
    },
    {
      "cell_type": "code",
      "source": [
        "nltk.download('averaged_perceptron_tagger')"
      ],
      "metadata": {
        "colab": {
          "base_uri": "https://localhost:8080/"
        },
        "id": "9REu1w5KUqjm",
        "outputId": "77287978-e369-4619-aa7c-6ab96102bb29"
      },
      "execution_count": null,
      "outputs": [
        {
          "output_type": "stream",
          "name": "stderr",
          "text": [
            "[nltk_data] Downloading package averaged_perceptron_tagger to\n",
            "[nltk_data]     /root/nltk_data...\n",
            "[nltk_data]   Package averaged_perceptron_tagger is already up-to-\n",
            "[nltk_data]       date!\n"
          ]
        },
        {
          "output_type": "execute_result",
          "data": {
            "text/plain": [
              "True"
            ]
          },
          "metadata": {},
          "execution_count": 41
        }
      ]
    },
    {
      "cell_type": "code",
      "source": [
        "import nltk\n",
        "from nltk.tokenize import word_tokenize\n",
        "from nltk.corpus import stopwords\n",
        "from nltk.stem import WordNetLemmatizer\n",
        "from nltk.tag import pos_tag\n",
        "import string\n",
        "\n",
        "# Assuming you have the lyrics stored in a variable as a string\n",
        "lyrics = \"Lyrics for Every Teardrop Is A Waterfall song\"\n",
        "\n",
        "# Tokenize the lyrics\n",
        "tokens = word_tokenize(lyrics)\n",
        "\n",
        "# Remove punctuation\n",
        "tokens_without_punctuation = [word for word in tokens if word not in string.punctuation]\n",
        "\n",
        "# Remove stop words\n",
        "stop_words = set(stopwords.words('english'))\n",
        "tokens_without_stop_words = [word for word in tokens_without_punctuation if word.lower() not in stop_words]\n",
        "\n",
        "# Perform POS tagging\n",
        "tagged_tokens = pos_tag(tokens_without_stop_words)\n",
        "\n",
        "# Print the POS-tagged tokens\n",
        "print(tagged_tokens)\n"
      ],
      "metadata": {
        "colab": {
          "base_uri": "https://localhost:8080/"
        },
        "id": "GQKyvekMUzBb",
        "outputId": "15daa6a6-12a4-4dc5-d36f-d07f56aee317"
      },
      "execution_count": null,
      "outputs": [
        {
          "output_type": "stream",
          "name": "stdout",
          "text": [
            "[('Lyrics', 'NNS'), ('Every', 'NNP'), ('Teardrop', 'NNP'), ('Waterfall', 'NNP'), ('song', 'NN')]\n"
          ]
        }
      ]
    },
    {
      "cell_type": "code",
      "source": [
        "from nltk.corpus import wordnet\n",
        "\n",
        "def get_wordnet_pos(pos_tag):\n",
        "    output = np.asarray(pos_tag)\n",
        "    for i in range(len(pos_tag)):\n",
        "        if pos_tag[i][1].startswith('J'):\n",
        "            output[i][1] = wordnet.ADJ\n",
        "        elif pos_tag[i][1].startswith('V'):\n",
        "            output[i][1] = wordnet.VERB\n",
        "        elif pos_tag[i][1].startswith('R'):\n",
        "            output[i][1] = wordnet.ADV\n",
        "        else:\n",
        "            output[i][1] = wordnet.NOUN\n",
        "    return output"
      ],
      "metadata": {
        "id": "Bv5ci92-WlzL"
      },
      "execution_count": null,
      "outputs": []
    },
    {
      "cell_type": "markdown",
      "source": [
        "# TODO: Perform the lemmatization properly"
      ],
      "metadata": {
        "id": "_nywwTyNWqj9"
      }
    },
    {
      "cell_type": "code",
      "source": [
        "nltk.download('averaged_perceptron_tagger')\n",
        "nltk.download('omw')"
      ],
      "metadata": {
        "colab": {
          "base_uri": "https://localhost:8080/"
        },
        "id": "mPyeobwbWrdN",
        "outputId": "3866386b-a05c-4ab3-d6d1-93173313b328"
      },
      "execution_count": null,
      "outputs": [
        {
          "output_type": "stream",
          "name": "stderr",
          "text": [
            "[nltk_data] Downloading package averaged_perceptron_tagger to\n",
            "[nltk_data]     /root/nltk_data...\n",
            "[nltk_data]   Package averaged_perceptron_tagger is already up-to-\n",
            "[nltk_data]       date!\n",
            "[nltk_data] Downloading package omw to /root/nltk_data...\n"
          ]
        },
        {
          "output_type": "execute_result",
          "data": {
            "text/plain": [
              "True"
            ]
          },
          "metadata": {},
          "execution_count": 44
        }
      ]
    },
    {
      "cell_type": "code",
      "source": [
        "import nltk\n",
        "from nltk.tokenize import word_tokenize\n",
        "from nltk.corpus import stopwords\n",
        "from nltk.stem import WordNetLemmatizer\n",
        "from nltk.tag import pos_tag\n",
        "from nltk.corpus import wordnet\n",
        "import string\n",
        "\n",
        "# Assuming you have the lyrics stored in a variable as a string\n",
        "lyrics = \"Lyrics for Every Teardrop Is A Waterfall song\"\n",
        "\n",
        "# Tokenize the lyrics\n",
        "tokens = word_tokenize(lyrics)\n",
        "\n",
        "# Remove punctuation\n",
        "tokens_without_punctuation = [word for word in tokens if word not in string.punctuation]\n",
        "\n",
        "# Remove stop words\n",
        "stop_words = set(stopwords.words('english'))\n",
        "tokens_without_stop_words = [word for word in tokens_without_punctuation if word.lower() not in stop_words]\n",
        "\n",
        "# Perform POS tagging\n",
        "tagged_tokens = pos_tag(tokens_without_stop_words)\n",
        "\n",
        "# Function to map POS tags to WordNet POS tags\n",
        "def get_wordnet_pos(tag):\n",
        "    if tag.startswith('J'):\n",
        "        return wordnet.ADJ\n",
        "    elif tag.startswith('V'):\n",
        "        return wordnet.VERB\n",
        "    elif tag.startswith('N'):\n",
        "        return wordnet.NOUN\n",
        "    elif tag.startswith('R'):\n",
        "        return wordnet.ADV\n",
        "    else:\n",
        "        return wordnet.NOUN  # Default to noun if no match found\n",
        "\n",
        "# Lemmatize tokens with appropriate POS tags\n",
        "lemmatizer = WordNetLemmatizer()\n",
        "lemmatized_tokens = [lemmatizer.lemmatize(word, get_wordnet_pos(tag)) for word, tag in tagged_tokens]\n",
        "\n",
        "# Print the lemmatized tokens\n",
        "print(lemmatized_tokens)\n"
      ],
      "metadata": {
        "colab": {
          "base_uri": "https://localhost:8080/"
        },
        "id": "P4XttotvXMJ7",
        "outputId": "1f2c5931-15b2-4510-b305-d65c189deb5e"
      },
      "execution_count": null,
      "outputs": [
        {
          "output_type": "stream",
          "name": "stdout",
          "text": [
            "['Lyrics', 'Every', 'Teardrop', 'Waterfall', 'song']\n"
          ]
        }
      ]
    },
    {
      "cell_type": "markdown",
      "source": [
        "# TODO: Perform stemming"
      ],
      "metadata": {
        "id": "0hYTk1UkXVK3"
      }
    },
    {
      "cell_type": "code",
      "source": [
        "import nltk\n",
        "from nltk.tokenize import word_tokenize\n",
        "from nltk.corpus import stopwords\n",
        "from nltk.stem import PorterStemmer\n",
        "import string\n",
        "\n",
        "# Assuming you have the lyrics stored in a variable as a string\n",
        "lyrics = \"Lyrics for Every Teardrop Is A Waterfall song\"\n",
        "\n",
        "# Tokenize the lyrics\n",
        "tokens = word_tokenize(lyrics)\n",
        "\n",
        "# Remove punctuation\n",
        "tokens_without_punctuation = [word for word in tokens if word not in string.punctuation]\n",
        "\n",
        "# Remove stop words\n",
        "stop_words = set(stopwords.words('english'))\n",
        "tokens_without_stop_words = [word for word in tokens_without_punctuation if word.lower() not in stop_words]\n",
        "\n",
        "# Perform stemming\n",
        "stemmer = PorterStemmer()\n",
        "stemmed_tokens = [stemmer.stem(word) for word in tokens_without_stop_words]\n",
        "\n",
        "# Print the stemmed tokens\n",
        "print(stemmed_tokens)\n"
      ],
      "metadata": {
        "colab": {
          "base_uri": "https://localhost:8080/"
        },
        "id": "qaVbbU99XWD3",
        "outputId": "7974dbf4-f561-48b3-dddf-dbe63407bd0c"
      },
      "execution_count": null,
      "outputs": [
        {
          "output_type": "stream",
          "name": "stdout",
          "text": [
            "['lyric', 'everi', 'teardrop', 'waterfal', 'song']\n"
          ]
        }
      ]
    },
    {
      "cell_type": "markdown",
      "source": [
        "2. Bag-of-words"
      ],
      "metadata": {
        "id": "DqiS6FRsXzzm"
      }
    },
    {
      "cell_type": "code",
      "source": [
        "# Import NLTK and all the needed libraries\n",
        "import nltk\n",
        "import numpy as np\n",
        "import pandas as pd\n",
        "from sklearn.feature_extraction.text import CountVectorizer"
      ],
      "metadata": {
        "id": "C3HbQ-wRX1GZ"
      },
      "execution_count": null,
      "outputs": []
    },
    {
      "cell_type": "code",
      "source": [
        "pip install scikit-learn"
      ],
      "metadata": {
        "colab": {
          "base_uri": "https://localhost:8080/"
        },
        "id": "SvefFaf6Zxie",
        "outputId": "a771943a-0d10-4d36-c9f0-21b8cda77847"
      },
      "execution_count": null,
      "outputs": [
        {
          "output_type": "stream",
          "name": "stdout",
          "text": [
            "Looking in indexes: https://pypi.org/simple, https://us-python.pkg.dev/colab-wheels/public/simple/\n",
            "Requirement already satisfied: scikit-learn in /usr/local/lib/python3.10/dist-packages (1.2.2)\n",
            "Requirement already satisfied: numpy>=1.17.3 in /usr/local/lib/python3.10/dist-packages (from scikit-learn) (1.22.4)\n",
            "Requirement already satisfied: scipy>=1.3.2 in /usr/local/lib/python3.10/dist-packages (from scikit-learn) (1.10.1)\n",
            "Requirement already satisfied: joblib>=1.1.1 in /usr/local/lib/python3.10/dist-packages (from scikit-learn) (1.2.0)\n",
            "Requirement already satisfied: threadpoolctl>=2.0.0 in /usr/local/lib/python3.10/dist-packages (from scikit-learn) (3.1.0)\n"
          ]
        }
      ]
    },
    {
      "cell_type": "code",
      "source": [
        "pip install --upgrade scikit-learn\n"
      ],
      "metadata": {
        "colab": {
          "base_uri": "https://localhost:8080/"
        },
        "id": "T2vBqRf2aNbz",
        "outputId": "a0400c5b-6933-49e8-d8b5-37a7e78a06c9"
      },
      "execution_count": null,
      "outputs": [
        {
          "output_type": "stream",
          "name": "stdout",
          "text": [
            "Looking in indexes: https://pypi.org/simple, https://us-python.pkg.dev/colab-wheels/public/simple/\n",
            "Requirement already satisfied: scikit-learn in /usr/local/lib/python3.10/dist-packages (1.2.2)\n",
            "Requirement already satisfied: numpy>=1.17.3 in /usr/local/lib/python3.10/dist-packages (from scikit-learn) (1.22.4)\n",
            "Requirement already satisfied: scipy>=1.3.2 in /usr/local/lib/python3.10/dist-packages (from scikit-learn) (1.10.1)\n",
            "Requirement already satisfied: joblib>=1.1.1 in /usr/local/lib/python3.10/dist-packages (from scikit-learn) (1.2.0)\n",
            "Requirement already satisfied: threadpoolctl>=2.0.0 in /usr/local/lib/python3.10/dist-packages (from scikit-learn) (3.1.0)\n"
          ]
        }
      ]
    },
    {
      "cell_type": "code",
      "source": [
        "from sklearn.feature_extraction.text import CountVectorizer\n",
        "\n",
        "# Assuming you have a list called 'lyrics' containing all the lyrics of Coldplay\n",
        "lyrics = [\n",
        "    \"Lyrics for song 1\",\n",
        "    \"Lyrics for song 2\",\n",
        "    \"Lyrics for song 3\",\n",
        "    # Add more lyrics...\n",
        "]\n",
        "\n",
        "# Initialize the CountVectorizer\n",
        "vectorizer = CountVectorizer()\n",
        "\n",
        "# Fit and transform the lyrics to create the BOW representation\n",
        "bow = vectorizer.fit_transform(lyrics)\n",
        "\n",
        "# Get the feature names (vocabulary)\n",
        "vocabulary = vectorizer.get_feature_names()\n",
        "\n",
        "# Print the BOW representation\n",
        "print(bow.toarray())\n",
        "\n",
        "# Print the vocabulary\n",
        "print(vocabulary)\n"
      ],
      "metadata": {
        "colab": {
          "base_uri": "https://localhost:8080/",
          "height": 235
        },
        "id": "yO0gqEj3Y3Wg",
        "outputId": "1111ae44-fd6d-4676-e5b1-39611ab591ec"
      },
      "execution_count": null,
      "outputs": [
        {
          "output_type": "error",
          "ename": "AttributeError",
          "evalue": "ignored",
          "traceback": [
            "\u001b[0;31m---------------------------------------------------------------------------\u001b[0m",
            "\u001b[0;31mAttributeError\u001b[0m                            Traceback (most recent call last)",
            "\u001b[0;32m<ipython-input-6-f42a6ed1575b>\u001b[0m in \u001b[0;36m<cell line: 18>\u001b[0;34m()\u001b[0m\n\u001b[1;32m     16\u001b[0m \u001b[0;34m\u001b[0m\u001b[0m\n\u001b[1;32m     17\u001b[0m \u001b[0;31m# Get the feature names (vocabulary)\u001b[0m\u001b[0;34m\u001b[0m\u001b[0;34m\u001b[0m\u001b[0m\n\u001b[0;32m---> 18\u001b[0;31m \u001b[0mvocabulary\u001b[0m \u001b[0;34m=\u001b[0m \u001b[0mvectorizer\u001b[0m\u001b[0;34m.\u001b[0m\u001b[0mget_feature_names\u001b[0m\u001b[0;34m(\u001b[0m\u001b[0;34m)\u001b[0m\u001b[0;34m\u001b[0m\u001b[0;34m\u001b[0m\u001b[0m\n\u001b[0m\u001b[1;32m     19\u001b[0m \u001b[0;34m\u001b[0m\u001b[0m\n\u001b[1;32m     20\u001b[0m \u001b[0;31m# Print the BOW representation\u001b[0m\u001b[0;34m\u001b[0m\u001b[0;34m\u001b[0m\u001b[0m\n",
            "\u001b[0;31mAttributeError\u001b[0m: 'CountVectorizer' object has no attribute 'get_feature_names'"
          ]
        }
      ]
    },
    {
      "cell_type": "markdown",
      "source": [
        "III. Text Similarity\n",
        "1. Similarity metrics"
      ],
      "metadata": {
        "id": "QEKpXvY3PdSY"
      }
    },
    {
      "cell_type": "code",
      "source": [
        "# import needed libraries\n",
        "import nltk\n",
        "import numpy as np\n",
        "import pandas as pd"
      ],
      "metadata": {
        "id": "r0pfkSBwPkE1"
      },
      "execution_count": null,
      "outputs": []
    },
    {
      "cell_type": "code",
      "source": [
        "A = \"Outside the classroom, Stallman pursued his studies with even more diligence, rushing off to fulfill his laboratory-assistant duties at Rockefeller University during the week and dodging the Vietnam protesters on his way to Saturday school at Columbia. It was there, while the rest of the Science Honors Program students sat around discussing their college choices, that Stallman finally took a moment to participate in the preclass bull session.\"\n",
        "B = \"To facilitate the process, AI Lab hackers had built a system that displayed both the source and display modes on a split screen. Despite this innovative hack, switching from mode to mode was still a nuisance.\"\n",
        "C = \"With no dorm and no dancing, Stallman's social universe imploded. Like an astronaut experiencing the aftereffects of zero-gravity, Stallman found that his ability to interact with nonhackers, especially female nonhackers, had atrophied significantly. After 16 weeks in the AI Lab, the self confidence he'd been quietly accumulating during his 4 years at Harvard was virtually gone.\""
      ],
      "metadata": {
        "id": "Gc4f0N6_P-3r"
      },
      "execution_count": null,
      "outputs": []
    },
    {
      "cell_type": "code",
      "source": [
        "# TODO: compute the Jaccard similarities\n",
        "# Split the sentences\n",
        "\n",
        "# Compute the intersection and union\n",
        "\n",
        "# Compute and print the Jaccard Similarity\n",
        "\n",
        "def jaccard_similarity(setA, setB):\n",
        "    intersection = len(setA.intersection(setB))\n",
        "    union = len(setA.union(setB))\n",
        "    similarity = intersection / union\n",
        "    return similarity\n",
        "\n",
        "# Example sentences\n",
        "sentenceA = \"This is sentence A.\"\n",
        "sentenceB = \"This is sentence B.\"\n",
        "sentenceC = \"This is sentence C.\"\n",
        "\n",
        "# Split the sentences into sets of words\n",
        "setA = set(sentenceA.split())\n",
        "setB = set(sentenceB.split())\n",
        "setC = set(sentenceC.split())\n",
        "\n",
        "# Compute and print the Jaccard Similarity\n",
        "similarityAB = jaccard_similarity(setA, setB)\n",
        "similarityAC = jaccard_similarity(setA, setC)\n",
        "similarityBC = jaccard_similarity(setB, setC)\n",
        "\n",
        "print(\"Jaccard Similarity AB:\", similarityAB)\n",
        "print(\"Jaccard Similarity BC:\", similarityBC)\n",
        "print(\"Jaccard Similarity AC:\", similarityAC)\n"
      ],
      "metadata": {
        "colab": {
          "base_uri": "https://localhost:8080/"
        },
        "id": "W2rkhH3CQFoO",
        "outputId": "d7b2f760-a3a7-44b3-9ff4-093ba9cca05e"
      },
      "execution_count": null,
      "outputs": [
        {
          "output_type": "stream",
          "name": "stdout",
          "text": [
            "Jaccard Similarity AB: 0.6\n",
            "Jaccard Similarity BC: 0.6\n",
            "Jaccard Similarity AC: 0.6\n"
          ]
        }
      ]
    },
    {
      "cell_type": "code",
      "source": [
        "# TODO: compute the TF-IDF of A, B and C and the cosine similarities of all possibilities\n",
        "\n",
        "from sklearn.feature_extraction.text import TfidfVectorizer\n",
        "from sklearn.metrics.pairwise import cosine_similarity\n",
        "\n",
        "# Example documents\n",
        "document_A = \"This is document A.\"\n",
        "document_B = \"This is document B.\"\n",
        "document_C = \"This is document C.\"\n",
        "\n",
        "# Create a list of documents\n",
        "documents = [document_A, document_B, document_C]\n",
        "\n",
        "# Initialize the TF-IDF vectorizer\n",
        "vectorizer = TfidfVectorizer()\n",
        "\n",
        "# Compute the TF-IDF matrix\n",
        "tfidf_matrix = vectorizer.fit_transform(documents)\n",
        "\n",
        "# Compute the cosine similarities\n",
        "similarities = cosine_similarity(tfidf_matrix)\n",
        "\n",
        "# Print the TF-IDF matrix\n",
        "print(\"TF-IDF Matrix:\")\n",
        "print(tfidf_matrix.toarray())\n",
        "\n",
        "# Print the cosine similarities\n",
        "print(\"Cosine Similarities:\")\n",
        "for i in range(len(documents)):\n",
        "    for j in range(i + 1, len(documents)):\n",
        "        similarity = similarities[i, j]\n",
        "        print(f\"Similarity between document {i+1} and document {j+1}: {similarity}\")\n"
      ],
      "metadata": {
        "colab": {
          "base_uri": "https://localhost:8080/"
        },
        "id": "pmHpQ9-VSfa3",
        "outputId": "89ef006c-a0cc-4564-a28f-537342a7e5ed"
      },
      "execution_count": null,
      "outputs": [
        {
          "output_type": "stream",
          "name": "stdout",
          "text": [
            "TF-IDF Matrix:\n",
            "[[0.57735027 0.57735027 0.57735027]\n",
            " [0.57735027 0.57735027 0.57735027]\n",
            " [0.57735027 0.57735027 0.57735027]]\n",
            "Cosine Similarities:\n",
            "Similarity between document 1 and document 2: 1.0000000000000002\n",
            "Similarity between document 1 and document 3: 1.0000000000000002\n",
            "Similarity between document 2 and document 3: 1.0000000000000002\n"
          ]
        }
      ]
    },
    {
      "cell_type": "markdown",
      "source": [
        "2. TF-IDF"
      ],
      "metadata": {
        "id": "0HBEGa_2S6IS"
      }
    },
    {
      "cell_type": "code",
      "source": [
        "# import needed libraries\n",
        "import nltk\n",
        "import numpy as np\n",
        "import pandas as pd"
      ],
      "metadata": {
        "id": "HTwucVv2S68H"
      },
      "execution_count": null,
      "outputs": []
    },
    {
      "cell_type": "code",
      "source": [
        "# TODO: Load the dataset\n",
        "df = pd.read_csv('headlines.csv')\n",
        "df"
      ],
      "metadata": {
        "colab": {
          "base_uri": "https://localhost:8080/",
          "height": 423
        },
        "id": "ukohSR40TI-d",
        "outputId": "afa82f30-1d0b-48a0-de43-2466f893de6d"
      },
      "execution_count": null,
      "outputs": [
        {
          "output_type": "execute_result",
          "data": {
            "text/plain": [
              "      publish_date                                      headline_text\n",
              "0         20170721  algorithms can make decisions on behalf of fed...\n",
              "1         20170721  andrew forrests fmg to appeal pilbara native t...\n",
              "2         20170721                           a rural mural in thallan\n",
              "3         20170721  australia church risks becoming haven for abusers\n",
              "4         20170721  australian company usgfx embroiled in shanghai...\n",
              "...            ...                                                ...\n",
              "1994      20170624  constitution avenue wins top prize at act arch...\n",
              "1995      20170624                         dark mofo numbers crunched\n",
              "1996      20170624  david petraeus says australia must be firm on ...\n",
              "1997      20170624  driverless cars in australia face challenge of...\n",
              "1998      20170624           drug company criticised over price hikes\n",
              "\n",
              "[1999 rows x 2 columns]"
            ],
            "text/html": [
              "\n",
              "  <div id=\"df-85eb036b-bdf7-4dd8-a37f-3d8af9ce3e5d\">\n",
              "    <div class=\"colab-df-container\">\n",
              "      <div>\n",
              "<style scoped>\n",
              "    .dataframe tbody tr th:only-of-type {\n",
              "        vertical-align: middle;\n",
              "    }\n",
              "\n",
              "    .dataframe tbody tr th {\n",
              "        vertical-align: top;\n",
              "    }\n",
              "\n",
              "    .dataframe thead th {\n",
              "        text-align: right;\n",
              "    }\n",
              "</style>\n",
              "<table border=\"1\" class=\"dataframe\">\n",
              "  <thead>\n",
              "    <tr style=\"text-align: right;\">\n",
              "      <th></th>\n",
              "      <th>publish_date</th>\n",
              "      <th>headline_text</th>\n",
              "    </tr>\n",
              "  </thead>\n",
              "  <tbody>\n",
              "    <tr>\n",
              "      <th>0</th>\n",
              "      <td>20170721</td>\n",
              "      <td>algorithms can make decisions on behalf of fed...</td>\n",
              "    </tr>\n",
              "    <tr>\n",
              "      <th>1</th>\n",
              "      <td>20170721</td>\n",
              "      <td>andrew forrests fmg to appeal pilbara native t...</td>\n",
              "    </tr>\n",
              "    <tr>\n",
              "      <th>2</th>\n",
              "      <td>20170721</td>\n",
              "      <td>a rural mural in thallan</td>\n",
              "    </tr>\n",
              "    <tr>\n",
              "      <th>3</th>\n",
              "      <td>20170721</td>\n",
              "      <td>australia church risks becoming haven for abusers</td>\n",
              "    </tr>\n",
              "    <tr>\n",
              "      <th>4</th>\n",
              "      <td>20170721</td>\n",
              "      <td>australian company usgfx embroiled in shanghai...</td>\n",
              "    </tr>\n",
              "    <tr>\n",
              "      <th>...</th>\n",
              "      <td>...</td>\n",
              "      <td>...</td>\n",
              "    </tr>\n",
              "    <tr>\n",
              "      <th>1994</th>\n",
              "      <td>20170624</td>\n",
              "      <td>constitution avenue wins top prize at act arch...</td>\n",
              "    </tr>\n",
              "    <tr>\n",
              "      <th>1995</th>\n",
              "      <td>20170624</td>\n",
              "      <td>dark mofo numbers crunched</td>\n",
              "    </tr>\n",
              "    <tr>\n",
              "      <th>1996</th>\n",
              "      <td>20170624</td>\n",
              "      <td>david petraeus says australia must be firm on ...</td>\n",
              "    </tr>\n",
              "    <tr>\n",
              "      <th>1997</th>\n",
              "      <td>20170624</td>\n",
              "      <td>driverless cars in australia face challenge of...</td>\n",
              "    </tr>\n",
              "    <tr>\n",
              "      <th>1998</th>\n",
              "      <td>20170624</td>\n",
              "      <td>drug company criticised over price hikes</td>\n",
              "    </tr>\n",
              "  </tbody>\n",
              "</table>\n",
              "<p>1999 rows × 2 columns</p>\n",
              "</div>\n",
              "      <button class=\"colab-df-convert\" onclick=\"convertToInteractive('df-85eb036b-bdf7-4dd8-a37f-3d8af9ce3e5d')\"\n",
              "              title=\"Convert this dataframe to an interactive table.\"\n",
              "              style=\"display:none;\">\n",
              "        \n",
              "  <svg xmlns=\"http://www.w3.org/2000/svg\" height=\"24px\"viewBox=\"0 0 24 24\"\n",
              "       width=\"24px\">\n",
              "    <path d=\"M0 0h24v24H0V0z\" fill=\"none\"/>\n",
              "    <path d=\"M18.56 5.44l.94 2.06.94-2.06 2.06-.94-2.06-.94-.94-2.06-.94 2.06-2.06.94zm-11 1L8.5 8.5l.94-2.06 2.06-.94-2.06-.94L8.5 2.5l-.94 2.06-2.06.94zm10 10l.94 2.06.94-2.06 2.06-.94-2.06-.94-.94-2.06-.94 2.06-2.06.94z\"/><path d=\"M17.41 7.96l-1.37-1.37c-.4-.4-.92-.59-1.43-.59-.52 0-1.04.2-1.43.59L10.3 9.45l-7.72 7.72c-.78.78-.78 2.05 0 2.83L4 21.41c.39.39.9.59 1.41.59.51 0 1.02-.2 1.41-.59l7.78-7.78 2.81-2.81c.8-.78.8-2.07 0-2.86zM5.41 20L4 18.59l7.72-7.72 1.47 1.35L5.41 20z\"/>\n",
              "  </svg>\n",
              "      </button>\n",
              "      \n",
              "  <style>\n",
              "    .colab-df-container {\n",
              "      display:flex;\n",
              "      flex-wrap:wrap;\n",
              "      gap: 12px;\n",
              "    }\n",
              "\n",
              "    .colab-df-convert {\n",
              "      background-color: #E8F0FE;\n",
              "      border: none;\n",
              "      border-radius: 50%;\n",
              "      cursor: pointer;\n",
              "      display: none;\n",
              "      fill: #1967D2;\n",
              "      height: 32px;\n",
              "      padding: 0 0 0 0;\n",
              "      width: 32px;\n",
              "    }\n",
              "\n",
              "    .colab-df-convert:hover {\n",
              "      background-color: #E2EBFA;\n",
              "      box-shadow: 0px 1px 2px rgba(60, 64, 67, 0.3), 0px 1px 3px 1px rgba(60, 64, 67, 0.15);\n",
              "      fill: #174EA6;\n",
              "    }\n",
              "\n",
              "    [theme=dark] .colab-df-convert {\n",
              "      background-color: #3B4455;\n",
              "      fill: #D2E3FC;\n",
              "    }\n",
              "\n",
              "    [theme=dark] .colab-df-convert:hover {\n",
              "      background-color: #434B5C;\n",
              "      box-shadow: 0px 1px 3px 1px rgba(0, 0, 0, 0.15);\n",
              "      filter: drop-shadow(0px 1px 2px rgba(0, 0, 0, 0.3));\n",
              "      fill: #FFFFFF;\n",
              "    }\n",
              "  </style>\n",
              "\n",
              "      <script>\n",
              "        const buttonEl =\n",
              "          document.querySelector('#df-85eb036b-bdf7-4dd8-a37f-3d8af9ce3e5d button.colab-df-convert');\n",
              "        buttonEl.style.display =\n",
              "          google.colab.kernel.accessAllowed ? 'block' : 'none';\n",
              "\n",
              "        async function convertToInteractive(key) {\n",
              "          const element = document.querySelector('#df-85eb036b-bdf7-4dd8-a37f-3d8af9ce3e5d');\n",
              "          const dataTable =\n",
              "            await google.colab.kernel.invokeFunction('convertToInteractive',\n",
              "                                                     [key], {});\n",
              "          if (!dataTable) return;\n",
              "\n",
              "          const docLinkHtml = 'Like what you see? Visit the ' +\n",
              "            '<a target=\"_blank\" href=https://colab.research.google.com/notebooks/data_table.ipynb>data table notebook</a>'\n",
              "            + ' to learn more about interactive tables.';\n",
              "          element.innerHTML = '';\n",
              "          dataTable['output_type'] = 'display_data';\n",
              "          await google.colab.output.renderOutput(dataTable, element);\n",
              "          const docLink = document.createElement('div');\n",
              "          docLink.innerHTML = docLinkHtml;\n",
              "          element.appendChild(docLink);\n",
              "        }\n",
              "      </script>\n",
              "    </div>\n",
              "  </div>\n",
              "  "
            ]
          },
          "metadata": {},
          "execution_count": 13
        }
      ]
    },
    {
      "cell_type": "code",
      "source": [
        "# TODO: Have a look at the data\n",
        "\n",
        "# Read the dataset\n",
        "dataset_path = \"headlines.csv\"  # Replace with the actual path to your dataset file\n",
        "data = pd.read_csv(dataset_path)\n",
        "\n",
        "# Display the basic information\n",
        "print(\"Dataset Shape:\")\n",
        "print(data.shape)\n",
        "\n",
        "print(\"\\nDataset Columns:\")\n",
        "print(data.columns)\n",
        "\n",
        "print(\"\\nDataset Info:\")\n",
        "print(data.info())\n",
        "\n",
        "print(\"\\nDataset Summary Statistics:\")\n",
        "print(data.describe())\n",
        "\n"
      ],
      "metadata": {
        "colab": {
          "base_uri": "https://localhost:8080/"
        },
        "id": "DSiUoucJTs8u",
        "outputId": "7baf18c4-f198-46db-b111-f34f99248f9e"
      },
      "execution_count": null,
      "outputs": [
        {
          "output_type": "stream",
          "name": "stdout",
          "text": [
            "Dataset Shape:\n",
            "(1999, 2)\n",
            "\n",
            "Dataset Columns:\n",
            "Index(['publish_date', 'headline_text'], dtype='object')\n",
            "\n",
            "Dataset Info:\n",
            "<class 'pandas.core.frame.DataFrame'>\n",
            "RangeIndex: 1999 entries, 0 to 1998\n",
            "Data columns (total 2 columns):\n",
            " #   Column         Non-Null Count  Dtype \n",
            "---  ------         --------------  ----- \n",
            " 0   publish_date   1999 non-null   int64 \n",
            " 1   headline_text  1999 non-null   object\n",
            "dtypes: int64(1), object(1)\n",
            "memory usage: 31.4+ KB\n",
            "None\n",
            "\n",
            "Dataset Summary Statistics:\n",
            "       publish_date\n",
            "count  1.999000e+03\n",
            "mean   2.017069e+07\n",
            "std    3.926710e+01\n",
            "min    2.017062e+07\n",
            "25%    2.017063e+07\n",
            "50%    2.017071e+07\n",
            "75%    2.017072e+07\n",
            "max    2.017072e+07\n"
          ]
        }
      ]
    },
    {
      "cell_type": "code",
      "source": [
        "# TODO: Perform preprocessing\n",
        "# import needed modules\n",
        "\n",
        "# Tokenize\n",
        "\n",
        "# Remove punctuation\n",
        "\n",
        "# Remove stop words\n",
        "\n",
        "# Stem\n",
        "\n",
        "import nltk\n",
        "from nltk.tokenize import word_tokenize\n",
        "from nltk.corpus import stopwords\n",
        "from nltk.stem import PorterStemmer\n",
        "import string\n",
        "import pandas as pd\n",
        "\n",
        "# Download NLTK resources (only required for the first time)\n",
        "nltk.download('punkt')\n",
        "nltk.download('stopwords')\n",
        "\n",
        "# Example DataFrame\n",
        "data = pd.DataFrame({'text': [\"This is an example sentence for preprocessing.\",\n",
        "                              \"Another sentence for testing purposes.\"]})\n",
        "\n",
        "# Tokenize function\n",
        "def tokenize(text):\n",
        "    return word_tokenize(text)\n",
        "\n",
        "# Remove punctuation function\n",
        "def remove_punctuation(tokens):\n",
        "    return [token for token in tokens if token not in string.punctuation]\n",
        "\n",
        "# Remove stop words function\n",
        "def remove_stopwords(tokens):\n",
        "    stop_words = set(stopwords.words('english'))\n",
        "    return [token for token in tokens if token not in stop_words]\n",
        "\n",
        "# Stemming function\n",
        "def stem(tokens):\n",
        "    stemmer = PorterStemmer()\n",
        "    return [stemmer.stem(token) for token in tokens]\n",
        "\n",
        "# Apply preprocessing steps using lambda functions and list comprehension\n",
        "data['preprocessed_text'] = data['text'].apply(lambda x: stem(remove_stopwords(remove_punctuation(tokenize(x)))))\n",
        "\n",
        "# Print the preprocessed text\n",
        "print(data['preprocessed_text'])\n"
      ],
      "metadata": {
        "colab": {
          "base_uri": "https://localhost:8080/"
        },
        "id": "Xj6vBa6qUSK-",
        "outputId": "6e842fe5-4e47-45cd-b836-59b4ec84b8bb"
      },
      "execution_count": null,
      "outputs": [
        {
          "output_type": "stream",
          "name": "stdout",
          "text": [
            "0    [thi, exampl, sentenc, preprocess]\n",
            "1        [anoth, sentenc, test, purpos]\n",
            "Name: preprocessed_text, dtype: object\n"
          ]
        },
        {
          "output_type": "stream",
          "name": "stderr",
          "text": [
            "[nltk_data] Downloading package punkt to /root/nltk_data...\n",
            "[nltk_data]   Package punkt is already up-to-date!\n",
            "[nltk_data] Downloading package stopwords to /root/nltk_data...\n",
            "[nltk_data]   Package stopwords is already up-to-date!\n"
          ]
        }
      ]
    },
    {
      "cell_type": "code",
      "source": [
        "# TODO: Compute the BOW of the preprocessed data\n",
        "\n",
        "from sklearn.feature_extraction.text import CountVectorizer\n",
        "\n",
        "# Preprocessed data\n",
        "preprocessed_data = [\n",
        "    [\"example\", \"sentenc\", \"preprocess\"],\n",
        "    [\"anoth\", \"sentenc\", \"test\", \"purpos\"]\n",
        "]\n",
        "\n",
        "# Initialize the CountVectorizer\n",
        "vectorizer = CountVectorizer()\n",
        "\n",
        "# Fit and transform the preprocessed data to create the BOW representation\n",
        "bow = vectorizer.fit_transform([\" \".join(tokens) for tokens in preprocessed_data])\n",
        "\n",
        "# Get the feature names (vocabulary)\n",
        "vocabulary = vectorizer.get_feature_names()\n",
        "\n",
        "# Print the BOW representation\n",
        "print(bow.toarray())\n",
        "\n",
        "# Print the vocabulary\n",
        "print(vocabulary)\n",
        "\n"
      ],
      "metadata": {
        "colab": {
          "base_uri": "https://localhost:8080/",
          "height": 235
        },
        "id": "3dF8U4ToV0mr",
        "outputId": "d0729726-4126-435f-f38f-f87bb366b2f3"
      },
      "execution_count": null,
      "outputs": [
        {
          "output_type": "error",
          "ename": "AttributeError",
          "evalue": "ignored",
          "traceback": [
            "\u001b[0;31m---------------------------------------------------------------------------\u001b[0m",
            "\u001b[0;31mAttributeError\u001b[0m                            Traceback (most recent call last)",
            "\u001b[0;32m<ipython-input-19-0088b2530195>\u001b[0m in \u001b[0;36m<cell line: 18>\u001b[0;34m()\u001b[0m\n\u001b[1;32m     16\u001b[0m \u001b[0;34m\u001b[0m\u001b[0m\n\u001b[1;32m     17\u001b[0m \u001b[0;31m# Get the feature names (vocabulary)\u001b[0m\u001b[0;34m\u001b[0m\u001b[0;34m\u001b[0m\u001b[0m\n\u001b[0;32m---> 18\u001b[0;31m \u001b[0mvocabulary\u001b[0m \u001b[0;34m=\u001b[0m \u001b[0mvectorizer\u001b[0m\u001b[0;34m.\u001b[0m\u001b[0mget_feature_names\u001b[0m\u001b[0;34m(\u001b[0m\u001b[0;34m)\u001b[0m\u001b[0;34m\u001b[0m\u001b[0;34m\u001b[0m\u001b[0m\n\u001b[0m\u001b[1;32m     19\u001b[0m \u001b[0;34m\u001b[0m\u001b[0m\n\u001b[1;32m     20\u001b[0m \u001b[0;31m# Print the BOW representation\u001b[0m\u001b[0;34m\u001b[0m\u001b[0;34m\u001b[0m\u001b[0m\n",
            "\u001b[0;31mAttributeError\u001b[0m: 'CountVectorizer' object has no attribute 'get_feature_names'"
          ]
        }
      ]
    },
    {
      "cell_type": "code",
      "source": [
        "# TODO: Compute the TF using the BOW\n",
        "\n",
        "from sklearn.feature_extraction.text import CountVectorizer, TfidfTransformer\n",
        "\n",
        "# Preprocessed data\n",
        "preprocessed_data = [\n",
        "    [\"example\", \"sentenc\", \"preprocess\"],\n",
        "    [\"anoth\", \"sentenc\", \"test\", \"purpos\"]\n",
        "]\n",
        "\n",
        "# Initialize the CountVectorizer\n",
        "vectorizer = CountVectorizer()\n",
        "\n",
        "# Fit and transform the preprocessed data to create the BOW representation\n",
        "bow = vectorizer.fit_transform([\" \".join(tokens) for tokens in preprocessed_data])\n",
        "\n",
        "# Initialize the TfidfTransformer and compute the TF\n",
        "tf_transformer = TfidfTransformer(use_idf=False)\n",
        "tf = tf_transformer.fit_transform(bow)\n",
        "\n",
        "# Print the TF matrix\n",
        "print(tf.toarray())\n"
      ],
      "metadata": {
        "colab": {
          "base_uri": "https://localhost:8080/"
        },
        "id": "vs0dlXaAWh3n",
        "outputId": "84ff04e6-17ba-4932-c11d-7d9ba40aca41"
      },
      "execution_count": null,
      "outputs": [
        {
          "output_type": "stream",
          "name": "stdout",
          "text": [
            "[[0.         0.57735027 0.57735027 0.         0.57735027 0.        ]\n",
            " [0.5        0.         0.         0.5        0.5        0.5       ]]\n"
          ]
        }
      ]
    },
    {
      "cell_type": "code",
      "source": [
        "# TODO: Compute the IDF\n",
        "\n",
        "from sklearn.feature_extraction.text import TfidfVectorizer\n",
        "\n",
        "# Preprocessed data\n",
        "preprocessed_data = [\n",
        "    [\"example\", \"sentenc\", \"preprocess\"],\n",
        "    [\"anoth\", \"sentenc\", \"test\", \"purpos\"]\n",
        "]\n",
        "\n",
        "# Initialize the TfidfVectorizer and compute the IDF\n",
        "vectorizer = TfidfVectorizer(use_idf=True)\n",
        "idf = vectorizer.fit_transform([\" \".join(tokens) for tokens in preprocessed_data])\n",
        "\n",
        "# Print the IDF matrix\n",
        "print(idf.toarray())\n"
      ],
      "metadata": {
        "colab": {
          "base_uri": "https://localhost:8080/"
        },
        "id": "rKGr2PA8W0hs",
        "outputId": "d4ab38ac-d71d-485b-e2b8-fd415251fb60"
      },
      "execution_count": null,
      "outputs": [
        {
          "output_type": "stream",
          "name": "stdout",
          "text": [
            "[[0.         0.6316672  0.6316672  0.         0.44943642 0.        ]\n",
            " [0.53404633 0.         0.         0.53404633 0.37997836 0.53404633]]\n"
          ]
        }
      ]
    },
    {
      "cell_type": "code",
      "source": [
        "# TODO: compute the TF-IDF\n",
        "\n",
        "from sklearn.feature_extraction.text import TfidfVectorizer\n",
        "\n",
        "# Preprocessed data\n",
        "preprocessed_data = [\n",
        "    [\"example\", \"sentenc\", \"preprocess\"],\n",
        "    [\"anoth\", \"sentenc\", \"test\", \"purpos\"]\n",
        "]\n",
        "\n",
        "# Initialize the TfidfVectorizer and compute the TF-IDF\n",
        "vectorizer = TfidfVectorizer()\n",
        "tfidf = vectorizer.fit_transform([\" \".join(tokens) for tokens in preprocessed_data])\n",
        "\n",
        "# Print the TF-IDF matrix\n",
        "print(tfidf.toarray())\n"
      ],
      "metadata": {
        "colab": {
          "base_uri": "https://localhost:8080/"
        },
        "id": "VoPohsecXJUr",
        "outputId": "702fdd65-69dd-4f3d-8ac5-98f0ceeaeebc"
      },
      "execution_count": null,
      "outputs": [
        {
          "output_type": "stream",
          "name": "stdout",
          "text": [
            "[[0.         0.6316672  0.6316672  0.         0.44943642 0.        ]\n",
            " [0.53404633 0.         0.         0.53404633 0.37997836 0.53404633]]\n"
          ]
        }
      ]
    },
    {
      "cell_type": "code",
      "source": [
        "# TODO: Print the 10 words with the highest and lowest TF-IDF on average\n",
        "\n",
        "from sklearn.feature_extraction.text import TfidfVectorizer\n",
        "\n",
        "# Preprocessed data\n",
        "preprocessed_data = [\n",
        "    [\"example\", \"sentence\", \"preprocess\"],\n",
        "    [\"another\", \"sentence\", \"test\", \"purpose\"]\n",
        "]\n",
        "\n",
        "# Initialize the TfidfVectorizer and compute the TF-IDF\n",
        "vectorizer = TfidfVectorizer()\n",
        "tfidf = vectorizer.fit_transform([\" \".join(tokens) for tokens in preprocessed_data])\n",
        "\n",
        "# Get the average TF-IDF values across all documents\n",
        "average_tfidf = tfidf.mean(axis=0).A1\n",
        "\n",
        "# Get the indices of the 10 words with the highest and lowest average TF-IDF values\n",
        "highest_indices = average_tfidf.argsort()[-10:][::-1]\n",
        "lowest_indices = average_tfidf.argsort()[:10]\n",
        "\n",
        "# Get the feature names (vocabulary)\n",
        "vocabulary = vectorizer.get_feature_names()\n",
        "\n",
        "# Print the 10 words with the highest average TF-IDF values\n",
        "print(\"Words with highest TF-IDF:\")\n",
        "for index in highest_indices:\n",
        "    word = vocabulary[index]\n",
        "    tfidf_value = average_tfidf[index]\n",
        "    print(f\"{word}: {tfidf_value}\")\n",
        "\n",
        "# Print the 10 words with the lowest average TF-IDF values\n",
        "print(\"\\nWords with lowest TF-IDF:\")\n",
        "for index in lowest_indices:\n",
        "    word = vocabulary[index]\n",
        "    tfidf_value = average_tfidf[index]\n",
        "    print(f\"{word}: {tfidf_value}\")\n"
      ],
      "metadata": {
        "colab": {
          "base_uri": "https://localhost:8080/",
          "height": 235
        },
        "id": "vj8VT6EdXmHP",
        "outputId": "31cfb231-d890-44b1-8140-deb25de345c5"
      },
      "execution_count": null,
      "outputs": [
        {
          "output_type": "error",
          "ename": "AttributeError",
          "evalue": "ignored",
          "traceback": [
            "\u001b[0;31m---------------------------------------------------------------------------\u001b[0m",
            "\u001b[0;31mAttributeError\u001b[0m                            Traceback (most recent call last)",
            "\u001b[0;32m<ipython-input-23-c8e969564f3c>\u001b[0m in \u001b[0;36m<cell line: 23>\u001b[0;34m()\u001b[0m\n\u001b[1;32m     21\u001b[0m \u001b[0;34m\u001b[0m\u001b[0m\n\u001b[1;32m     22\u001b[0m \u001b[0;31m# Get the feature names (vocabulary)\u001b[0m\u001b[0;34m\u001b[0m\u001b[0;34m\u001b[0m\u001b[0m\n\u001b[0;32m---> 23\u001b[0;31m \u001b[0mvocabulary\u001b[0m \u001b[0;34m=\u001b[0m \u001b[0mvectorizer\u001b[0m\u001b[0;34m.\u001b[0m\u001b[0mget_feature_names\u001b[0m\u001b[0;34m(\u001b[0m\u001b[0;34m)\u001b[0m\u001b[0;34m\u001b[0m\u001b[0;34m\u001b[0m\u001b[0m\n\u001b[0m\u001b[1;32m     24\u001b[0m \u001b[0;34m\u001b[0m\u001b[0m\n\u001b[1;32m     25\u001b[0m \u001b[0;31m# Print the 10 words with the highest average TF-IDF values\u001b[0m\u001b[0;34m\u001b[0m\u001b[0;34m\u001b[0m\u001b[0m\n",
            "\u001b[0;31mAttributeError\u001b[0m: 'TfidfVectorizer' object has no attribute 'get_feature_names'"
          ]
        }
      ]
    },
    {
      "cell_type": "code",
      "source": [
        "# TODO: Compute the TF-IDF using scikit learn\n",
        "# Import the module\n",
        "\n",
        "# Instantiate the TF-IDF vectorizer\n",
        "\n",
        "# Compute the TF-IDF\n",
        "\n",
        "from sklearn.feature_extraction.text import TfidfVectorizer\n",
        "\n",
        "# Preprocessed data\n",
        "preprocessed_data = [\n",
        "    \"example sentence preprocess\",\n",
        "    \"another sentence test purpose\"\n",
        "]\n",
        "\n",
        "# Instantiate the TF-IDF vectorizer\n",
        "vectorizer = TfidfVectorizer()\n",
        "\n",
        "# Compute the TF-IDF\n",
        "tfidf = vectorizer.fit_transform(preprocessed_data)\n",
        "\n",
        "# Print the TF-IDF matrix\n",
        "print(tfidf.toarray())\n"
      ],
      "metadata": {
        "colab": {
          "base_uri": "https://localhost:8080/"
        },
        "id": "BytyZpXmX-aU",
        "outputId": "3ed2a5eb-e924-4dd9-99f4-0e4e045b334c"
      },
      "execution_count": null,
      "outputs": [
        {
          "output_type": "stream",
          "name": "stdout",
          "text": [
            "[[0.         0.6316672  0.6316672  0.         0.44943642 0.        ]\n",
            " [0.53404633 0.         0.         0.53404633 0.37997836 0.53404633]]\n"
          ]
        }
      ]
    },
    {
      "cell_type": "code",
      "source": [
        "# TODO: Print the 10 words with the highest and lowest TF-IDF on average\n",
        "\n",
        "from sklearn.feature_extraction.text import TfidfVectorizer\n",
        "\n",
        "# Preprocessed data\n",
        "preprocessed_data = [\n",
        "    \"example sentence preprocess\",\n",
        "    \"another sentence test purpose\"\n",
        "]\n",
        "\n",
        "# Instantiate the TF-IDF vectorizer\n",
        "vectorizer = TfidfVectorizer()\n",
        "\n",
        "# Compute the TF-IDF\n",
        "tfidf = vectorizer.fit_transform(preprocessed_data)\n",
        "\n",
        "# Compute the average TF-IDF values across all documents\n",
        "average_tfidf = tfidf.mean(axis=0).A1\n",
        "\n",
        "# Get the indices of the 10 words with the highest and lowest average TF-IDF values\n",
        "highest_indices = average_tfidf.argsort()[-10:][::-1]\n",
        "lowest_indices = average_tfidf.argsort()[:10]\n",
        "\n",
        "# Get the feature names (vocabulary)\n",
        "vocabulary = vectorizer.get_feature_names()\n",
        "\n",
        "# Print the 10 words with the highest average TF-IDF values\n",
        "print(\"Words with highest TF-IDF:\")\n",
        "for index in highest_indices:\n",
        "    word = vocabulary[index]\n",
        "    tfidf_value = average_tfidf[index]\n",
        "    print(f\"{word}: {tfidf_value}\")\n",
        "\n",
        "# Print the 10 words with the lowest average TF-IDF values\n",
        "print(\"\\nWords with lowest TF-IDF:\")\n",
        "for index in lowest_indices:\n",
        "    word = vocabulary[index]\n",
        "    tfidf_value = average_tfidf[index]\n",
        "    print(f\"{word}: {tfidf_value}\")\n"
      ],
      "metadata": {
        "colab": {
          "base_uri": "https://localhost:8080/",
          "height": 235
        },
        "id": "Kj8x2uTAZUHP",
        "outputId": "7365ff1c-313f-4e79-fd6d-bbe8de31c7e9"
      },
      "execution_count": null,
      "outputs": [
        {
          "output_type": "error",
          "ename": "AttributeError",
          "evalue": "ignored",
          "traceback": [
            "\u001b[0;31m---------------------------------------------------------------------------\u001b[0m",
            "\u001b[0;31mAttributeError\u001b[0m                            Traceback (most recent call last)",
            "\u001b[0;32m<ipython-input-28-af0fef6134f2>\u001b[0m in \u001b[0;36m<cell line: 25>\u001b[0;34m()\u001b[0m\n\u001b[1;32m     23\u001b[0m \u001b[0;34m\u001b[0m\u001b[0m\n\u001b[1;32m     24\u001b[0m \u001b[0;31m# Get the feature names (vocabulary)\u001b[0m\u001b[0;34m\u001b[0m\u001b[0;34m\u001b[0m\u001b[0m\n\u001b[0;32m---> 25\u001b[0;31m \u001b[0mvocabulary\u001b[0m \u001b[0;34m=\u001b[0m \u001b[0mvectorizer\u001b[0m\u001b[0;34m.\u001b[0m\u001b[0mget_feature_names\u001b[0m\u001b[0;34m(\u001b[0m\u001b[0;34m)\u001b[0m\u001b[0;34m\u001b[0m\u001b[0;34m\u001b[0m\u001b[0m\n\u001b[0m\u001b[1;32m     26\u001b[0m \u001b[0;34m\u001b[0m\u001b[0m\n\u001b[1;32m     27\u001b[0m \u001b[0;31m# Print the 10 words with the highest average TF-IDF values\u001b[0m\u001b[0;34m\u001b[0m\u001b[0;34m\u001b[0m\u001b[0m\n",
            "\u001b[0;31mAttributeError\u001b[0m: 'TfidfVectorizer' object has no attribute 'get_feature_names'"
          ]
        }
      ]
    },
    {
      "cell_type": "markdown",
      "source": [
        "3. Plagiarism checker"
      ],
      "metadata": {
        "id": "mvu9G-jDZicb"
      }
    },
    {
      "cell_type": "markdown",
      "source": [
        "Data loading"
      ],
      "metadata": {
        "id": "kF-vrmb6a1dF"
      }
    },
    {
      "cell_type": "code",
      "source": [
        "\n",
        "file = open('A1.txt', 'r') \n",
        "A1 = file.readlines()[0]\n",
        "\n",
        "file = open('Asource.txt', 'r') \n",
        "A0 = file.readlines()[0]\n",
        "\n",
        "file = open('B1.txt', 'r') \n",
        "B1 = file.readlines()[0]\n",
        "\n",
        "file = open('Bsource.txt', 'r') \n",
        "B0 = file.readlines()[0]\n",
        "\n",
        "file = open('C1.txt', 'r') \n",
        "C1 = file.readlines()[0]\n",
        "\n",
        "file = open('Csource.txt', 'r') \n",
        "C0 = file.readlines()[0]\n",
        "\n",
        "file = open('D1.txt', 'r') \n",
        "D1 = file.readlines()[0]\n",
        "\n",
        "file = open('D2.txt', 'r') \n",
        "D2 = file.readlines()[0]\n",
        "\n",
        "file = open('Dsource.txt', 'r') \n",
        "D0 = file.readlines()[0]"
      ],
      "metadata": {
        "id": "5rqnzqt_Zjob"
      },
      "execution_count": null,
      "outputs": []
    },
    {
      "cell_type": "code",
      "source": [
        "C0"
      ],
      "metadata": {
        "colab": {
          "base_uri": "https://localhost:8080/",
          "height": 105
        },
        "id": "6MSX2X0yarHh",
        "outputId": "96e7052c-5474-4649-85d4-7392834dffd0"
      },
      "execution_count": null,
      "outputs": [
        {
          "output_type": "execute_result",
          "data": {
            "text/plain": [
              "'Descartes has been heralded as the first modern philosopher. He is famous for having made an important connection between geometry and algebra, which allowed for the solving of geometrical problems by way of algebraic equations. He is also famous for having promoted a new conception of matter, which allowed for the accounting of physical phenomena by way of mechanical explanations. However, he is most famous for having written a relatively short work, Meditationes de Prima Philosophia (Meditations On First Philosophy), published in 1641, in which he provides a philosophical groundwork for the possibility of the sciences. (Smith, 2007).\\n'"
            ],
            "application/vnd.google.colaboratory.intrinsic+json": {
              "type": "string"
            }
          },
          "metadata": {},
          "execution_count": 31
        }
      ]
    },
    {
      "cell_type": "code",
      "source": [
        "alldata = [A0, A1, B0, B1, C0, C1, D0, D1, D2]"
      ],
      "metadata": {
        "id": "DbEIcEInauxF"
      },
      "execution_count": null,
      "outputs": []
    },
    {
      "cell_type": "markdown",
      "source": [
        "Data preprocessing"
      ],
      "metadata": {
        "id": "3oAT-YLma4Y1"
      }
    },
    {
      "cell_type": "code",
      "source": [
        "#TODO: Compute tf-idf for all documents\n",
        "\n",
        "from sklearn.feature_extraction.text import TfidfVectorizer\n",
        "\n",
        "# Define the documents\n",
        "A0 = \"This is document A0\"\n",
        "A1 = \"Another document for A\"\n",
        "B0 = \"Document B0 is different\"\n",
        "B1 = \"This is document B1\"\n",
        "C0 = \"Document C0 has some content\"\n",
        "C1 = \"C1 is another document\"\n",
        "D0 = \"D0 document is here\"\n",
        "D1 = \"Another D document\"\n",
        "D2 = \"This is the last document D\"\n",
        "\n",
        "# Initialize the TfidfVectorizer\n",
        "tfvect = TfidfVectorizer()\n",
        "\n",
        "# Fit the TfidfVectorizer on the documents\n",
        "documents = [A0, A1, B0, B1, C0, C1, D0, D1, D2]\n",
        "tfvect.fit(documents)\n",
        "\n",
        "# Compute the TF-IDF\n",
        "TFIDFA = tfvect.transform([A0, A1]).toarray()\n",
        "TFIDFB = tfvect.transform([B0, B1]).toarray()\n",
        "TFIDFC = tfvect.transform([C0, C1]).toarray()\n",
        "TFIDFD = tfvect.transform([D0, D1, D2]).toarray()\n",
        "\n",
        "# Print the TF-IDF matrices\n",
        "print(\"TF-IDF matrix for documents A:\")\n",
        "print(TFIDFA)\n",
        "\n",
        "print(\"\\nTF-IDF matrix for documents B:\")\n",
        "print(TFIDFB)\n",
        "\n",
        "print(\"\\nTF-IDF matrix for documents C:\")\n",
        "print(TFIDFC)\n",
        "\n",
        "print(\"\\nTF-IDF matrix for documents D:\")\n",
        "print(TFIDFD)\n"
      ],
      "metadata": {
        "colab": {
          "base_uri": "https://localhost:8080/"
        },
        "id": "vXLpJyhta7A3",
        "outputId": "190fd1a5-6dfd-4818-a5bb-f959e5d1b6bc"
      },
      "execution_count": null,
      "outputs": [
        {
          "output_type": "stream",
          "name": "stdout",
          "text": [
            "TF-IDF matrix for documents A:\n",
            "[[0.71493051 0.         0.         0.         0.         0.\n",
            "  0.         0.         0.         0.27397874 0.         0.\n",
            "  0.         0.37170009 0.         0.         0.         0.52502292]\n",
            " [0.         0.56554241 0.         0.         0.         0.\n",
            "  0.         0.         0.         0.29512349 0.77010643 0.\n",
            "  0.         0.         0.         0.         0.         0.        ]]\n",
            "\n",
            "TF-IDF matrix for documents B:\n",
            "[[0.         0.         0.6432008  0.         0.         0.\n",
            "  0.         0.         0.6432008  0.24649017 0.         0.\n",
            "  0.         0.33440704 0.         0.         0.         0.        ]\n",
            " [0.         0.         0.         0.71493051 0.         0.\n",
            "  0.         0.         0.         0.27397874 0.         0.\n",
            "  0.         0.37170009 0.         0.         0.         0.52502292]]\n",
            "\n",
            "TF-IDF matrix for documents C:\n",
            "[[0.         0.         0.         0.         0.49106645 0.\n",
            "  0.49106645 0.         0.         0.1881886  0.         0.49106645\n",
            "  0.         0.         0.         0.49106645 0.         0.        ]\n",
            " [0.         0.52502292 0.         0.         0.         0.71493051\n",
            "  0.         0.         0.         0.27397874 0.         0.\n",
            "  0.         0.37170009 0.         0.         0.         0.        ]]\n",
            "\n",
            "TF-IDF matrix for documents D:\n",
            "[[0.         0.         0.         0.         0.         0.\n",
            "  0.         0.6432008  0.         0.24649017 0.         0.\n",
            "  0.6432008  0.33440704 0.         0.         0.         0.        ]\n",
            " [0.         0.88654763 0.         0.         0.         0.\n",
            "  0.         0.         0.         0.46263733 0.         0.\n",
            "  0.         0.         0.         0.         0.         0.        ]\n",
            " [0.         0.         0.         0.         0.         0.\n",
            "  0.         0.         0.         0.22287768 0.         0.\n",
            "  0.         0.30237256 0.58158546 0.         0.58158546 0.42709843]]\n"
          ]
        }
      ]
    },
    {
      "cell_type": "markdown",
      "source": [
        "Similarity computation"
      ],
      "metadata": {
        "id": "gTYm0fyFcPPN"
      }
    },
    {
      "cell_type": "code",
      "source": [
        "#TODO: pair-wise similarity\n",
        "similarityAA = cosine_similarity(TFIDFA, TFIDFA)\n",
        "similarityBB = cosine_similarity(TFIDFB, TFIDFB)\n",
        "similarityCC = cosine_similarity(TFIDFC, TFIDFC)\n",
        "similarityDD = cosine_similarity(TFIDFD, TFIDFD)\n",
        "\n",
        "similarityAll = cosine_similarity(tfidf, tfidf)"
      ],
      "metadata": {
        "id": "O7GbGn_EcP7p"
      },
      "execution_count": null,
      "outputs": []
    },
    {
      "cell_type": "code",
      "source": [
        "similarityAA"
      ],
      "metadata": {
        "colab": {
          "base_uri": "https://localhost:8080/"
        },
        "id": "M1LqnmUZdf_2",
        "outputId": "c0fe2498-7296-46fe-d869-3ad0d6b6d3cc"
      },
      "execution_count": null,
      "outputs": [
        {
          "output_type": "execute_result",
          "data": {
            "text/plain": [
              "array([[1.        , 0.08085756],\n",
              "       [0.08085756, 1.        ]])"
            ]
          },
          "metadata": {},
          "execution_count": 36
        }
      ]
    },
    {
      "cell_type": "code",
      "source": [
        "similarityBB"
      ],
      "metadata": {
        "colab": {
          "base_uri": "https://localhost:8080/"
        },
        "id": "A2QVygTrdipX",
        "outputId": "9618dedc-ecb6-4912-b2ad-07c917c95220"
      },
      "execution_count": null,
      "outputs": [
        {
          "output_type": "execute_result",
          "data": {
            "text/plain": [
              "array([[1.        , 0.19183219],\n",
              "       [0.19183219, 1.        ]])"
            ]
          },
          "metadata": {},
          "execution_count": 37
        }
      ]
    },
    {
      "cell_type": "code",
      "source": [
        "similarityCC"
      ],
      "metadata": {
        "colab": {
          "base_uri": "https://localhost:8080/"
        },
        "id": "0cSYh6VMdmfv",
        "outputId": "235afd0f-2554-4148-d897-d40873321a9e"
      },
      "execution_count": null,
      "outputs": [
        {
          "output_type": "execute_result",
          "data": {
            "text/plain": [
              "array([[1.        , 0.05155967],\n",
              "       [0.05155967, 1.        ]])"
            ]
          },
          "metadata": {},
          "execution_count": 38
        }
      ]
    },
    {
      "cell_type": "code",
      "source": [
        "similarityDD"
      ],
      "metadata": {
        "colab": {
          "base_uri": "https://localhost:8080/"
        },
        "id": "f4rmyb36dort",
        "outputId": "5ae17a10-c9ad-490c-da2b-dcec71d614cb"
      },
      "execution_count": null,
      "outputs": [
        {
          "output_type": "execute_result",
          "data": {
            "text/plain": [
              "array([[1.        , 0.11403555, 0.15605267],\n",
              "       [0.11403555, 1.        , 0.10311153],\n",
              "       [0.15605267, 0.10311153, 1.        ]])"
            ]
          },
          "metadata": {},
          "execution_count": 39
        }
      ]
    },
    {
      "cell_type": "code",
      "source": [
        "similarityAll"
      ],
      "metadata": {
        "colab": {
          "base_uri": "https://localhost:8080/"
        },
        "id": "YcyMjrdjdq2b",
        "outputId": "525fc81c-65cf-44c1-b9c4-c529bdc1efe4"
      },
      "execution_count": null,
      "outputs": [
        {
          "output_type": "execute_result",
          "data": {
            "text/plain": [
              "array([[1.        , 0.17077611],\n",
              "       [0.17077611, 1.        ]])"
            ]
          },
          "metadata": {},
          "execution_count": 40
        }
      ]
    },
    {
      "cell_type": "code",
      "source": [
        "import matplotlib.pyplot as plt\n",
        "import numpy as np\n",
        "import seaborn as sns\n",
        "\n",
        "#TODO: show pair-wise similarity\n",
        "\n",
        "plt.figure(figsize=(8, 6))\n",
        "sns.heatmap(similarityAll, annot=True, cmap='coolwarm', vmin=0, vmax=1)\n",
        "plt.xticks(np.arange(len(documents)), range(len(documents)))\n",
        "plt.yticks(np.arange(len(documents)), range(len(documents)))\n",
        "plt.show()"
      ],
      "metadata": {
        "colab": {
          "base_uri": "https://localhost:8080/",
          "height": 528
        },
        "id": "yrkneXtLd1Dj",
        "outputId": "4d9a878a-b959-447d-f06f-2f8c8bf7fe7f"
      },
      "execution_count": null,
      "outputs": [
        {
          "output_type": "display_data",
          "data": {
            "text/plain": [
              "<Figure size 800x600 with 2 Axes>"
            ],
            "image/png": "[encoded data removed]"
          },
          "metadata": {}
        }
      ]
    },
    {
      "cell_type": "markdown",
      "source": [
        "Threshold definition"
      ],
      "metadata": {
        "id": "t4IM4o__jZcX"
      }
    },
    {
      "cell_type": "code",
      "source": [
        "pred_plagiarism = similarityAll>0.2\n",
        "print(pred_plagiarism)\n",
        "\n",
        "#TODO: show pair-wise similarity\n",
        "real_plagiarism = np.zeros((8,6))\n",
        "sns.heatmap(pred_plagiarism, annot=True, cmap='coolwarm', vmin=0, vmax=1)\n",
        "plt.xticks(np.arange(len(documents)), range(len(documents)))\n",
        "plt.yticks(np.arange(len(documents)), range(len(documents)))\n",
        "plt.show()\n"
      ],
      "metadata": {
        "colab": {
          "base_uri": "https://localhost:8080/",
          "height": 470
        },
        "id": "yLAWgx1MjaFn",
        "outputId": "d4957141-06d7-4737-c755-bfdb3a190d29"
      },
      "execution_count": null,
      "outputs": [
        {
          "output_type": "stream",
          "name": "stdout",
          "text": [
            "[[ True False]\n",
            " [False  True]]\n"
          ]
        },
        {
          "output_type": "display_data",
          "data": {
            "text/plain": [
              "<Figure size 640x480 with 2 Axes>"
            ],
            "image/png": "[encoded data removed]"
          },
          "metadata": {}
        }
      ]
    },
    {
      "cell_type": "markdown",
      "source": [
        "Perf estimation"
      ],
      "metadata": {
        "id": "uH_mHFerkPK3"
      }
    },
    {
      "cell_type": "code",
      "source": [
        "import numpy as np\n",
        "real_plagiarism = np.zeros((9,9))\n",
        "\n",
        "# TODO: build the true labels matrix (to do automatically would be better...)   \n",
        "import numpy as np\n",
        "\n",
        "# List of documents\n",
        "documents = ['A0', 'A1', 'B0', 'B1']\n",
        "\n",
        "# Initialize the true labels matrix\n",
        "true_labels = np.zeros((4, 4), dtype=int)\n",
        "\n",
        "# Populate the true labels matrix\n",
        "for i in range(len(documents)):\n",
        "    for j in range(len(documents)):\n",
        "        if documents[i][0] == documents[j][0]:\n",
        "            true_labels[i, j] = 1\n",
        "\n",
        "print(true_labels)\n"
      ],
      "metadata": {
        "colab": {
          "base_uri": "https://localhost:8080/"
        },
        "id": "aec1wvuJln5B",
        "outputId": "56542a17-3480-4f34-cf91-211d9ff44965"
      },
      "execution_count": null,
      "outputs": [
        {
          "output_type": "stream",
          "name": "stdout",
          "text": [
            "[[1 1 0 0]\n",
            " [1 1 0 0]\n",
            " [0 0 1 1]\n",
            " [0 0 1 1]]\n"
          ]
        }
      ]
    },
    {
      "cell_type": "code",
      "source": [
        "import matplotlib.pyplot as plt\n",
        "plt.imshow(real_plagiarism)\n",
        "plt.show()"
      ],
      "metadata": {
        "colab": {
          "base_uri": "https://localhost:8080/",
          "height": 430
        },
        "id": "Yoz7WYULlwIK",
        "outputId": "599eed88-e2cb-41f8-decc-0864a0de5ef7"
      },
      "execution_count": null,
      "outputs": [
        {
          "output_type": "display_data",
          "data": {
            "text/plain": [
              "<Figure size 640x480 with 1 Axes>"
            ],
            "image/png": "[encoded data removed]"
          },
          "metadata": {}
        }
      ]
    },
    {
      "cell_type": "code",
      "source": [
        "from sklearn.metrics import accuracy_score\n",
        "#TODO: compute the accuracy score based on true matrices\n",
        "\n",
        "# Assuming you have the true labels matrix and predicted labels matrix\n",
        "true_labels = np.array([[1, 1, 0, 0],\n",
        "                        [1, 1, 0, 0],\n",
        "                        [0, 0, 1, 1],\n",
        "                        [0, 0, 1, 1]])\n",
        "\n",
        "predicted_labels = np.array([[1, 0, 0, 0],\n",
        "                             [1, 1, 0, 0],\n",
        "                             [0, 0, 1, 0],\n",
        "                             [0, 0, 1, 1]])\n",
        "\n",
        "# Flatten the matrices to compare them\n",
        "true_labels_flat = true_labels.flatten()\n",
        "predicted_labels_flat = predicted_labels.flatten()\n",
        "\n",
        "# Compute the accuracy score\n",
        "accuracy = accuracy_score(true_labels_flat, predicted_labels_flat)\n",
        "\n",
        "print(\"Accuracy:\", accuracy)"
      ],
      "metadata": {
        "colab": {
          "base_uri": "https://localhost:8080/"
        },
        "id": "ucnh71g6mpMB",
        "outputId": "f27bbe41-cd6d-41b8-c0a0-6beab4e067b6"
      },
      "execution_count": null,
      "outputs": [
        {
          "output_type": "stream",
          "name": "stdout",
          "text": [
            "Accuracy: 0.875\n"
          ]
        }
      ]
    },
    {
      "cell_type": "markdown",
      "source": [
        "III. Text Classification"
      ],
      "metadata": {
        "id": "LG6MfHdaytMC"
      }
    },
    {
      "cell_type": "code",
      "source": [
        "# Import NLTK and all the needed libraries\n",
        "import nltk\n",
        "import numpy as np\n",
        "import pandas as pd\n",
        "from sklearn.feature_extraction.text import CountVectorizer"
      ],
      "metadata": {
        "id": "DJGPLuJsyuJV"
      },
      "execution_count": 1,
      "outputs": []
    },
    {
      "cell_type": "code",
      "source": [
        "# TODO: Load the dataset \n",
        "data = pd.read_csv('spam.csv')\n",
        "data"
      ],
      "metadata": {
        "colab": {
          "base_uri": "https://localhost:8080/",
          "height": 478
        },
        "id": "4k9JA32azKLK",
        "outputId": "dce02c37-f47d-4b3c-d3ea-740f0f4fd12d"
      },
      "execution_count": 42,
      "outputs": [
        {
          "output_type": "stream",
          "name": "stderr",
          "text": [
            "/usr/local/lib/python3.10/dist-packages/ipykernel/ipkernel.py:283: DeprecationWarning: `should_run_async` will not call `transform_cell` automatically in the future. Please pass the result to `transformed_cell` argument and any exception that happen during thetransform in `preprocessing_exc_tuple` in IPython 7.17 and above.\n",
            "  and should_run_async(code)\n"
          ]
        },
        {
          "output_type": "execute_result",
          "data": {
            "text/plain": [
              "     Class                                            Message\n",
              "0      ham  Go until jurong point, crazy.. Available only ...\n",
              "1      ham                      Ok lar... Joking wif u oni...\n",
              "2     spam  Free entry in 2 a wkly comp to win FA Cup fina...\n",
              "3      ham  U dun say so early hor... U c already then say...\n",
              "4      ham  Nah I don't think he goes to usf, he lives aro...\n",
              "...    ...                                                ...\n",
              "5567  spam  This is the 2nd time we have tried 2 contact u...\n",
              "5568   ham              Will �_ b going to esplanade fr home?\n",
              "5569   ham  Pity, * was in mood for that. So...any other s...\n",
              "5570   ham  The guy did some bitching but I acted like i'd...\n",
              "5571   ham                         Rofl. Its true to its name\n",
              "\n",
              "[5572 rows x 2 columns]"
            ],
            "text/html": [
              "\n",
              "  <div id=\"df-79967516-d87a-467e-8b32-6c3042838902\">\n",
              "    <div class=\"colab-df-container\">\n",
              "      <div>\n",
              "<style scoped>\n",
              "    .dataframe tbody tr th:only-of-type {\n",
              "        vertical-align: middle;\n",
              "    }\n",
              "\n",
              "    .dataframe tbody tr th {\n",
              "        vertical-align: top;\n",
              "    }\n",
              "\n",
              "    .dataframe thead th {\n",
              "        text-align: right;\n",
              "    }\n",
              "</style>\n",
              "<table border=\"1\" class=\"dataframe\">\n",
              "  <thead>\n",
              "    <tr style=\"text-align: right;\">\n",
              "      <th></th>\n",
              "      <th>Class</th>\n",
              "      <th>Message</th>\n",
              "    </tr>\n",
              "  </thead>\n",
              "  <tbody>\n",
              "    <tr>\n",
              "      <th>0</th>\n",
              "      <td>ham</td>\n",
              "      <td>Go until jurong point, crazy.. Available only ...</td>\n",
              "    </tr>\n",
              "    <tr>\n",
              "      <th>1</th>\n",
              "      <td>ham</td>\n",
              "      <td>Ok lar... Joking wif u oni...</td>\n",
              "    </tr>\n",
              "    <tr>\n",
              "      <th>2</th>\n",
              "      <td>spam</td>\n",
              "      <td>Free entry in 2 a wkly comp to win FA Cup fina...</td>\n",
              "    </tr>\n",
              "    <tr>\n",
              "      <th>3</th>\n",
              "      <td>ham</td>\n",
              "      <td>U dun say so early hor... U c already then say...</td>\n",
              "    </tr>\n",
              "    <tr>\n",
              "      <th>4</th>\n",
              "      <td>ham</td>\n",
              "      <td>Nah I don't think he goes to usf, he lives aro...</td>\n",
              "    </tr>\n",
              "    <tr>\n",
              "      <th>...</th>\n",
              "      <td>...</td>\n",
              "      <td>...</td>\n",
              "    </tr>\n",
              "    <tr>\n",
              "      <th>5567</th>\n",
              "      <td>spam</td>\n",
              "      <td>This is the 2nd time we have tried 2 contact u...</td>\n",
              "    </tr>\n",
              "    <tr>\n",
              "      <th>5568</th>\n",
              "      <td>ham</td>\n",
              "      <td>Will �_ b going to esplanade fr home?</td>\n",
              "    </tr>\n",
              "    <tr>\n",
              "      <th>5569</th>\n",
              "      <td>ham</td>\n",
              "      <td>Pity, * was in mood for that. So...any other s...</td>\n",
              "    </tr>\n",
              "    <tr>\n",
              "      <th>5570</th>\n",
              "      <td>ham</td>\n",
              "      <td>The guy did some bitching but I acted like i'd...</td>\n",
              "    </tr>\n",
              "    <tr>\n",
              "      <th>5571</th>\n",
              "      <td>ham</td>\n",
              "      <td>Rofl. Its true to its name</td>\n",
              "    </tr>\n",
              "  </tbody>\n",
              "</table>\n",
              "<p>5572 rows × 2 columns</p>\n",
              "</div>\n",
              "      <button class=\"colab-df-convert\" onclick=\"convertToInteractive('df-79967516-d87a-467e-8b32-6c3042838902')\"\n",
              "              title=\"Convert this dataframe to an interactive table.\"\n",
              "              style=\"display:none;\">\n",
              "        \n",
              "  <svg xmlns=\"http://www.w3.org/2000/svg\" height=\"24px\"viewBox=\"0 0 24 24\"\n",
              "       width=\"24px\">\n",
              "    <path d=\"M0 0h24v24H0V0z\" fill=\"none\"/>\n",
              "    <path d=\"M18.56 5.44l.94 2.06.94-2.06 2.06-.94-2.06-.94-.94-2.06-.94 2.06-2.06.94zm-11 1L8.5 8.5l.94-2.06 2.06-.94-2.06-.94L8.5 2.5l-.94 2.06-2.06.94zm10 10l.94 2.06.94-2.06 2.06-.94-2.06-.94-.94-2.06-.94 2.06-2.06.94z\"/><path d=\"M17.41 7.96l-1.37-1.37c-.4-.4-.92-.59-1.43-.59-.52 0-1.04.2-1.43.59L10.3 9.45l-7.72 7.72c-.78.78-.78 2.05 0 2.83L4 21.41c.39.39.9.59 1.41.59.51 0 1.02-.2 1.41-.59l7.78-7.78 2.81-2.81c.8-.78.8-2.07 0-2.86zM5.41 20L4 18.59l7.72-7.72 1.47 1.35L5.41 20z\"/>\n",
              "  </svg>\n",
              "      </button>\n",
              "      \n",
              "  <style>\n",
              "    .colab-df-container {\n",
              "      display:flex;\n",
              "      flex-wrap:wrap;\n",
              "      gap: 12px;\n",
              "    }\n",
              "\n",
              "    .colab-df-convert {\n",
              "      background-color: #E8F0FE;\n",
              "      border: none;\n",
              "      border-radius: 50%;\n",
              "      cursor: pointer;\n",
              "      display: none;\n",
              "      fill: #1967D2;\n",
              "      height: 32px;\n",
              "      padding: 0 0 0 0;\n",
              "      width: 32px;\n",
              "    }\n",
              "\n",
              "    .colab-df-convert:hover {\n",
              "      background-color: #E2EBFA;\n",
              "      box-shadow: 0px 1px 2px rgba(60, 64, 67, 0.3), 0px 1px 3px 1px rgba(60, 64, 67, 0.15);\n",
              "      fill: #174EA6;\n",
              "    }\n",
              "\n",
              "    [theme=dark] .colab-df-convert {\n",
              "      background-color: #3B4455;\n",
              "      fill: #D2E3FC;\n",
              "    }\n",
              "\n",
              "    [theme=dark] .colab-df-convert:hover {\n",
              "      background-color: #434B5C;\n",
              "      box-shadow: 0px 1px 3px 1px rgba(0, 0, 0, 0.15);\n",
              "      filter: drop-shadow(0px 1px 2px rgba(0, 0, 0, 0.3));\n",
              "      fill: #FFFFFF;\n",
              "    }\n",
              "  </style>\n",
              "\n",
              "      <script>\n",
              "        const buttonEl =\n",
              "          document.querySelector('#df-79967516-d87a-467e-8b32-6c3042838902 button.colab-df-convert');\n",
              "        buttonEl.style.display =\n",
              "          google.colab.kernel.accessAllowed ? 'block' : 'none';\n",
              "\n",
              "        async function convertToInteractive(key) {\n",
              "          const element = document.querySelector('#df-79967516-d87a-467e-8b32-6c3042838902');\n",
              "          const dataTable =\n",
              "            await google.colab.kernel.invokeFunction('convertToInteractive',\n",
              "                                                     [key], {});\n",
              "          if (!dataTable) return;\n",
              "\n",
              "          const docLinkHtml = 'Like what you see? Visit the ' +\n",
              "            '<a target=\"_blank\" href=https://colab.research.google.com/notebooks/data_table.ipynb>data table notebook</a>'\n",
              "            + ' to learn more about interactive tables.';\n",
              "          element.innerHTML = '';\n",
              "          dataTable['output_type'] = 'display_data';\n",
              "          await google.colab.output.renderOutput(dataTable, element);\n",
              "          const docLink = document.createElement('div');\n",
              "          docLink.innerHTML = docLinkHtml;\n",
              "          element.appendChild(docLink);\n",
              "        }\n",
              "      </script>\n",
              "    </div>\n",
              "  </div>\n",
              "  "
            ]
          },
          "metadata": {},
          "execution_count": 42
        }
      ]
    },
    {
      "cell_type": "code",
      "source": [
        "# TODO: explore the dataset\n",
        "\n",
        "print(\"First few rows:\")\n",
        "print(\"\\nDataset dimensions:\")\n",
        "print(data.shape)\n",
        "\n",
        "# View the column names\n",
        "print(\"\\nColumn names:\")\n",
        "print(data.columns)\n",
        "\n",
        "# Get summary statistics of the numerical columns\n",
        "print(\"\\nSummary statistics:\")\n",
        "print(data.describe())\n",
        "\n",
        "# Count the number of non-null values in each column\n",
        "print(\"\\nCount of non-null values:\")\n",
        "print(data.count())\n",
        "\n",
        "# Check the data types of each column\n",
        "print(\"\\nData types:\")\n",
        "print(data.dtypes)"
      ],
      "metadata": {
        "colab": {
          "base_uri": "https://localhost:8080/"
        },
        "id": "k9j_tz4XzmmM",
        "outputId": "9f2a7b52-aa3a-4edf-d5f3-03671e005036"
      },
      "execution_count": 4,
      "outputs": [
        {
          "output_type": "stream",
          "name": "stdout",
          "text": [
            "First few rows:\n",
            "\n",
            "Dataset dimensions:\n",
            "(5572, 2)\n",
            "\n",
            "Column names:\n",
            "Index(['Class', 'Message'], dtype='object')\n",
            "\n",
            "Summary statistics:\n",
            "       Class                 Message\n",
            "count   5572                    5572\n",
            "unique     2                    5170\n",
            "top      ham  Sorry, I'll call later\n",
            "freq    4825                      30\n",
            "\n",
            "Count of non-null values:\n",
            "Class      5572\n",
            "Message    5572\n",
            "dtype: int64\n",
            "\n",
            "Data types:\n",
            "Class      object\n",
            "Message    object\n",
            "dtype: object\n"
          ]
        }
      ]
    },
    {
      "cell_type": "code",
      "source": [
        "# TODO: Perform preprocessing over all the text\n",
        "\n",
        "import nltk\n",
        "from nltk.tokenize import word_tokenize\n",
        "from nltk.corpus import stopwords\n",
        "from nltk.stem import WordNetLemmatizer\n",
        "import string\n",
        "\n",
        "# Download NLTK resources (if not already downloaded)\n",
        "nltk.download('punkt')\n",
        "nltk.download('stopwords')\n",
        "nltk.download('wordnet')\n",
        "\n",
        "# Define preprocessing functions\n",
        "def preprocess_text(text):\n",
        "    # Tokenize the text\n",
        "    tokens = word_tokenize(text)\n",
        "\n",
        "    # Remove punctuation\n",
        "    tokens = [token for token in tokens if token not in string.punctuation]\n",
        "\n",
        "    # Convert to lowercase\n",
        "    tokens = [token.lower() for token in tokens]\n",
        "\n",
        "    # Remove stopwords\n",
        "    stop_words = set(stopwords.words('english'))\n",
        "    tokens = [token for token in tokens if token not in stop_words]\n",
        "\n",
        "    # Lemmatize the tokens\n",
        "    lemmatizer = WordNetLemmatizer()\n",
        "    tokens = [lemmatizer.lemmatize(token) for token in tokens]\n",
        "\n",
        "    # Join the tokens back into a single string\n",
        "    preprocessed_text = ' '.join(tokens)\n",
        "\n",
        "    return preprocessed_text\n",
        "\n",
        "# Example usage\n",
        "text = \"This is an example sentence. It needs to be preprocessed.\"\n",
        "preprocessed_text = preprocess_text(text)\n",
        "print(preprocessed_text)"
      ],
      "metadata": {
        "colab": {
          "base_uri": "https://localhost:8080/"
        },
        "id": "hgJSQ8K90DtZ",
        "outputId": "0b5a67d1-b5fd-48d9-cfaa-75a8ac9f97b2"
      },
      "execution_count": 6,
      "outputs": [
        {
          "output_type": "stream",
          "name": "stdout",
          "text": [
            "example sentence need preprocessed\n"
          ]
        },
        {
          "output_type": "stream",
          "name": "stderr",
          "text": [
            "[nltk_data] Downloading package punkt to /root/nltk_data...\n",
            "[nltk_data]   Package punkt is already up-to-date!\n",
            "[nltk_data] Downloading package stopwords to /root/nltk_data...\n",
            "[nltk_data]   Package stopwords is already up-to-date!\n",
            "[nltk_data] Downloading package wordnet to /root/nltk_data...\n",
            "[nltk_data]   Package wordnet is already up-to-date!\n"
          ]
        }
      ]
    },
    {
      "cell_type": "code",
      "source": [
        "# TODO: compute the BOW\n",
        "\n",
        "from sklearn.feature_extraction.text import CountVectorizer\n",
        "\n",
        "# Example list of preprocessed text\n",
        "preprocessed_texts = [\n",
        "    \"This is an example sentence\",\n",
        "    \"Another example sentence\",\n",
        "    \"Yet another example\"\n",
        "]\n",
        "\n",
        "# Create an instance of CountVectorizer\n",
        "vectorizer = CountVectorizer()\n",
        "\n",
        "# Fit the vectorizer on the preprocessed text\n",
        "vectorizer.fit(preprocessed_texts)\n",
        "\n",
        "# Transform the preprocessed text into BOW representation\n",
        "bow = vectorizer.transform(preprocessed_texts)\n",
        "\n",
        "# Get the feature names (vocabulary) of the BOW representation\n",
        "feature_names = vectorizer.get_feature_names()\n",
        "\n",
        "# Print the BOW representation\n",
        "print(\"BOW representation:\")\n",
        "print(bow.toarray())\n",
        "\n",
        "# Print the feature names\n",
        "print(\"\\nFeature names (vocabulary):\")\n",
        "print(feature_names)\n"
      ],
      "metadata": {
        "colab": {
          "base_uri": "https://localhost:8080/",
          "height": 235
        },
        "id": "QQO0UNi20wNj",
        "outputId": "d82f387d-cbf3-4a26-82cb-70bff272bbbc"
      },
      "execution_count": 7,
      "outputs": [
        {
          "output_type": "error",
          "ename": "AttributeError",
          "evalue": "ignored",
          "traceback": [
            "\u001b[0;31m---------------------------------------------------------------------------\u001b[0m",
            "\u001b[0;31mAttributeError\u001b[0m                            Traceback (most recent call last)",
            "\u001b[0;32m<ipython-input-7-ea227cc96cb5>\u001b[0m in \u001b[0;36m<cell line: 22>\u001b[0;34m()\u001b[0m\n\u001b[1;32m     20\u001b[0m \u001b[0;34m\u001b[0m\u001b[0m\n\u001b[1;32m     21\u001b[0m \u001b[0;31m# Get the feature names (vocabulary) of the BOW representation\u001b[0m\u001b[0;34m\u001b[0m\u001b[0;34m\u001b[0m\u001b[0m\n\u001b[0;32m---> 22\u001b[0;31m \u001b[0mfeature_names\u001b[0m \u001b[0;34m=\u001b[0m \u001b[0mvectorizer\u001b[0m\u001b[0;34m.\u001b[0m\u001b[0mget_feature_names\u001b[0m\u001b[0;34m(\u001b[0m\u001b[0;34m)\u001b[0m\u001b[0;34m\u001b[0m\u001b[0;34m\u001b[0m\u001b[0m\n\u001b[0m\u001b[1;32m     23\u001b[0m \u001b[0;34m\u001b[0m\u001b[0m\n\u001b[1;32m     24\u001b[0m \u001b[0;31m# Print the BOW representation\u001b[0m\u001b[0;34m\u001b[0m\u001b[0;34m\u001b[0m\u001b[0m\n",
            "\u001b[0;31mAttributeError\u001b[0m: 'CountVectorizer' object has no attribute 'get_feature_names'"
          ]
        }
      ]
    },
    {
      "cell_type": "code",
      "source": [
        "# TODO: Make a new dataframe with the BOW\n",
        "\n",
        "from sklearn.feature_extraction.text import CountVectorizer\n",
        "\n",
        "# Example list of preprocessed text\n",
        "preprocessed_texts = [\n",
        "    \"This is an example sentence\",\n",
        "    \"Another example sentence\",\n",
        "    \"Yet another example\"\n",
        "]\n",
        "\n",
        "# Create an instance of CountVectorizer\n",
        "vectorizer = CountVectorizer()\n",
        "\n",
        "# Fit the vectorizer on the preprocessed text\n",
        "vectorizer.fit(preprocessed_texts)\n",
        "\n",
        "# Transform the preprocessed text into BOW representation\n",
        "bow = vectorizer.transform(preprocessed_texts)\n",
        "\n",
        "# Get the feature names (vocabulary) of the BOW representation\n",
        "feature_names = vectorizer.get_feature_names()\n",
        "\n",
        "# Create a new DataFrame with BOW representation\n",
        "bow_df = pd.DataFrame(bow.toarray(), columns=feature_names)\n",
        "\n",
        "# Print the new DataFrame\n",
        "print(bow_df)\n"
      ],
      "metadata": {
        "colab": {
          "base_uri": "https://localhost:8080/",
          "height": 235
        },
        "id": "h55N6WJ_1XK6",
        "outputId": "2f02194c-d8a4-4b56-a991-c0681a373bcb"
      },
      "execution_count": 8,
      "outputs": [
        {
          "output_type": "error",
          "ename": "AttributeError",
          "evalue": "ignored",
          "traceback": [
            "\u001b[0;31m---------------------------------------------------------------------------\u001b[0m",
            "\u001b[0;31mAttributeError\u001b[0m                            Traceback (most recent call last)",
            "\u001b[0;32m<ipython-input-8-9f729d8881fe>\u001b[0m in \u001b[0;36m<cell line: 22>\u001b[0;34m()\u001b[0m\n\u001b[1;32m     20\u001b[0m \u001b[0;34m\u001b[0m\u001b[0m\n\u001b[1;32m     21\u001b[0m \u001b[0;31m# Get the feature names (vocabulary) of the BOW representation\u001b[0m\u001b[0;34m\u001b[0m\u001b[0;34m\u001b[0m\u001b[0m\n\u001b[0;32m---> 22\u001b[0;31m \u001b[0mfeature_names\u001b[0m \u001b[0;34m=\u001b[0m \u001b[0mvectorizer\u001b[0m\u001b[0;34m.\u001b[0m\u001b[0mget_feature_names\u001b[0m\u001b[0;34m(\u001b[0m\u001b[0;34m)\u001b[0m\u001b[0;34m\u001b[0m\u001b[0;34m\u001b[0m\u001b[0m\n\u001b[0m\u001b[1;32m     23\u001b[0m \u001b[0;34m\u001b[0m\u001b[0m\n\u001b[1;32m     24\u001b[0m \u001b[0;31m# Create a new DataFrame with BOW representation\u001b[0m\u001b[0;34m\u001b[0m\u001b[0;34m\u001b[0m\u001b[0m\n",
            "\u001b[0;31mAttributeError\u001b[0m: 'CountVectorizer' object has no attribute 'get_feature_names'"
          ]
        }
      ]
    },
    {
      "cell_type": "markdown",
      "source": [
        "4. Topic Modelling"
      ],
      "metadata": {
        "id": "D1oQLWh32Vfj"
      }
    },
    {
      "cell_type": "code",
      "source": [
        "# TODO: import needed libraries\n",
        "import nltk\n",
        "import numpy as np\n",
        "import pandas as pd\n",
        "from sklearn.feature_extraction.text import CountVectorizer"
      ],
      "metadata": {
        "id": "TGAshSAb2Wdm"
      },
      "execution_count": 9,
      "outputs": []
    },
    {
      "cell_type": "code",
      "source": [
        "# TODO: import needed libraries\n",
        "data = pd.read_csv('random_headlines.csv')\n",
        "data"
      ],
      "metadata": {
        "colab": {
          "base_uri": "https://localhost:8080/",
          "height": 478
        },
        "id": "Qfvlt4Y-3CyB",
        "outputId": "43b09cde-d0b8-4cc4-dac4-3dac7ac149d0"
      },
      "execution_count": 41,
      "outputs": [
        {
          "output_type": "stream",
          "name": "stderr",
          "text": [
            "/usr/local/lib/python3.10/dist-packages/ipykernel/ipkernel.py:283: DeprecationWarning: `should_run_async` will not call `transform_cell` automatically in the future. Please pass the result to `transformed_cell` argument and any exception that happen during thetransform in `preprocessing_exc_tuple` in IPython 7.17 and above.\n",
            "  and should_run_async(code)\n"
          ]
        },
        {
          "output_type": "execute_result",
          "data": {
            "text/plain": [
              "       publish_date                                      headline_text\n",
              "0          20120305              ute driver hurt in intersection crash\n",
              "1          20081128                       6yo dies in cycling accident\n",
              "2          20090325                      bumper olive harvest expected\n",
              "3          20100201                 replica replaces northernmost sign\n",
              "4          20080225                       woods targets perfect season\n",
              "...             ...                                                ...\n",
              "19995      20030301    judge attacks walkinshaw over running of arrows\n",
              "19996      20070908    polish govt collapses elections to be held next\n",
              "19997      20150529                             the drum friday may 29\n",
              "19998      20071006          winterbottom on bathurst provisional pole\n",
              "19999      20150226  pulled pork and pawpaw salad are a local succe...\n",
              "\n",
              "[20000 rows x 2 columns]"
            ],
            "text/html": [
              "\n",
              "  <div id=\"df-d36c2788-9b42-4129-984c-733816eb53e8\">\n",
              "    <div class=\"colab-df-container\">\n",
              "      <div>\n",
              "<style scoped>\n",
              "    .dataframe tbody tr th:only-of-type {\n",
              "        vertical-align: middle;\n",
              "    }\n",
              "\n",
              "    .dataframe tbody tr th {\n",
              "        vertical-align: top;\n",
              "    }\n",
              "\n",
              "    .dataframe thead th {\n",
              "        text-align: right;\n",
              "    }\n",
              "</style>\n",
              "<table border=\"1\" class=\"dataframe\">\n",
              "  <thead>\n",
              "    <tr style=\"text-align: right;\">\n",
              "      <th></th>\n",
              "      <th>publish_date</th>\n",
              "      <th>headline_text</th>\n",
              "    </tr>\n",
              "  </thead>\n",
              "  <tbody>\n",
              "    <tr>\n",
              "      <th>0</th>\n",
              "      <td>20120305</td>\n",
              "      <td>ute driver hurt in intersection crash</td>\n",
              "    </tr>\n",
              "    <tr>\n",
              "      <th>1</th>\n",
              "      <td>20081128</td>\n",
              "      <td>6yo dies in cycling accident</td>\n",
              "    </tr>\n",
              "    <tr>\n",
              "      <th>2</th>\n",
              "      <td>20090325</td>\n",
              "      <td>bumper olive harvest expected</td>\n",
              "    </tr>\n",
              "    <tr>\n",
              "      <th>3</th>\n",
              "      <td>20100201</td>\n",
              "      <td>replica replaces northernmost sign</td>\n",
              "    </tr>\n",
              "    <tr>\n",
              "      <th>4</th>\n",
              "      <td>20080225</td>\n",
              "      <td>woods targets perfect season</td>\n",
              "    </tr>\n",
              "    <tr>\n",
              "      <th>...</th>\n",
              "      <td>...</td>\n",
              "      <td>...</td>\n",
              "    </tr>\n",
              "    <tr>\n",
              "      <th>19995</th>\n",
              "      <td>20030301</td>\n",
              "      <td>judge attacks walkinshaw over running of arrows</td>\n",
              "    </tr>\n",
              "    <tr>\n",
              "      <th>19996</th>\n",
              "      <td>20070908</td>\n",
              "      <td>polish govt collapses elections to be held next</td>\n",
              "    </tr>\n",
              "    <tr>\n",
              "      <th>19997</th>\n",
              "      <td>20150529</td>\n",
              "      <td>the drum friday may 29</td>\n",
              "    </tr>\n",
              "    <tr>\n",
              "      <th>19998</th>\n",
              "      <td>20071006</td>\n",
              "      <td>winterbottom on bathurst provisional pole</td>\n",
              "    </tr>\n",
              "    <tr>\n",
              "      <th>19999</th>\n",
              "      <td>20150226</td>\n",
              "      <td>pulled pork and pawpaw salad are a local succe...</td>\n",
              "    </tr>\n",
              "  </tbody>\n",
              "</table>\n",
              "<p>20000 rows × 2 columns</p>\n",
              "</div>\n",
              "      <button class=\"colab-df-convert\" onclick=\"convertToInteractive('df-d36c2788-9b42-4129-984c-733816eb53e8')\"\n",
              "              title=\"Convert this dataframe to an interactive table.\"\n",
              "              style=\"display:none;\">\n",
              "        \n",
              "  <svg xmlns=\"http://www.w3.org/2000/svg\" height=\"24px\"viewBox=\"0 0 24 24\"\n",
              "       width=\"24px\">\n",
              "    <path d=\"M0 0h24v24H0V0z\" fill=\"none\"/>\n",
              "    <path d=\"M18.56 5.44l.94 2.06.94-2.06 2.06-.94-2.06-.94-.94-2.06-.94 2.06-2.06.94zm-11 1L8.5 8.5l.94-2.06 2.06-.94-2.06-.94L8.5 2.5l-.94 2.06-2.06.94zm10 10l.94 2.06.94-2.06 2.06-.94-2.06-.94-.94-2.06-.94 2.06-2.06.94z\"/><path d=\"M17.41 7.96l-1.37-1.37c-.4-.4-.92-.59-1.43-.59-.52 0-1.04.2-1.43.59L10.3 9.45l-7.72 7.72c-.78.78-.78 2.05 0 2.83L4 21.41c.39.39.9.59 1.41.59.51 0 1.02-.2 1.41-.59l7.78-7.78 2.81-2.81c.8-.78.8-2.07 0-2.86zM5.41 20L4 18.59l7.72-7.72 1.47 1.35L5.41 20z\"/>\n",
              "  </svg>\n",
              "      </button>\n",
              "      \n",
              "  <style>\n",
              "    .colab-df-container {\n",
              "      display:flex;\n",
              "      flex-wrap:wrap;\n",
              "      gap: 12px;\n",
              "    }\n",
              "\n",
              "    .colab-df-convert {\n",
              "      background-color: #E8F0FE;\n",
              "      border: none;\n",
              "      border-radius: 50%;\n",
              "      cursor: pointer;\n",
              "      display: none;\n",
              "      fill: #1967D2;\n",
              "      height: 32px;\n",
              "      padding: 0 0 0 0;\n",
              "      width: 32px;\n",
              "    }\n",
              "\n",
              "    .colab-df-convert:hover {\n",
              "      background-color: #E2EBFA;\n",
              "      box-shadow: 0px 1px 2px rgba(60, 64, 67, 0.3), 0px 1px 3px 1px rgba(60, 64, 67, 0.15);\n",
              "      fill: #174EA6;\n",
              "    }\n",
              "\n",
              "    [theme=dark] .colab-df-convert {\n",
              "      background-color: #3B4455;\n",
              "      fill: #D2E3FC;\n",
              "    }\n",
              "\n",
              "    [theme=dark] .colab-df-convert:hover {\n",
              "      background-color: #434B5C;\n",
              "      box-shadow: 0px 1px 3px 1px rgba(0, 0, 0, 0.15);\n",
              "      filter: drop-shadow(0px 1px 2px rgba(0, 0, 0, 0.3));\n",
              "      fill: #FFFFFF;\n",
              "    }\n",
              "  </style>\n",
              "\n",
              "      <script>\n",
              "        const buttonEl =\n",
              "          document.querySelector('#df-d36c2788-9b42-4129-984c-733816eb53e8 button.colab-df-convert');\n",
              "        buttonEl.style.display =\n",
              "          google.colab.kernel.accessAllowed ? 'block' : 'none';\n",
              "\n",
              "        async function convertToInteractive(key) {\n",
              "          const element = document.querySelector('#df-d36c2788-9b42-4129-984c-733816eb53e8');\n",
              "          const dataTable =\n",
              "            await google.colab.kernel.invokeFunction('convertToInteractive',\n",
              "                                                     [key], {});\n",
              "          if (!dataTable) return;\n",
              "\n",
              "          const docLinkHtml = 'Like what you see? Visit the ' +\n",
              "            '<a target=\"_blank\" href=https://colab.research.google.com/notebooks/data_table.ipynb>data table notebook</a>'\n",
              "            + ' to learn more about interactive tables.';\n",
              "          element.innerHTML = '';\n",
              "          dataTable['output_type'] = 'display_data';\n",
              "          await google.colab.output.renderOutput(dataTable, element);\n",
              "          const docLink = document.createElement('div');\n",
              "          docLink.innerHTML = docLinkHtml;\n",
              "          element.appendChild(docLink);\n",
              "        }\n",
              "      </script>\n",
              "    </div>\n",
              "  </div>\n",
              "  "
            ]
          },
          "metadata": {},
          "execution_count": 41
        }
      ]
    },
    {
      "cell_type": "code",
      "source": [
        "# TODO: Perform a short EDA\n",
        "\n",
        "\n",
        "# Display the first few rows of the dataset\n",
        "print(\"First few rows:\")\n",
        "\n",
        "# Check the dimensions of the dataset (rows, columns)\n",
        "print(\"\\nDataset dimensions:\")\n",
        "print(data.shape)\n",
        "\n",
        "# Check the summary statistics of numerical columns\n",
        "print(\"\\nSummary statistics:\")\n",
        "print(data.describe())\n",
        "\n",
        "# Check the data types of each column\n",
        "print(\"\\nData types:\")\n",
        "print(data.dtypes)\n",
        "\n",
        "# Check for missing values\n",
        "print(\"\\nMissing values:\")\n",
        "print(data.isnull().sum())\n",
        "\n",
        "# Check unique values in categorical columns\n",
        "print(\"\\nUnique values in categorical columns:\")\n",
        "for column in data.select_dtypes(include=['object']):\n",
        "    print(f\"{column}: {data[column].unique()}\")\n",
        "\n"
      ],
      "metadata": {
        "colab": {
          "base_uri": "https://localhost:8080/"
        },
        "id": "wYX4wJfz3O4I",
        "outputId": "f8d85d47-4100-45dd-8db4-592ecad53a32"
      },
      "execution_count": 12,
      "outputs": [
        {
          "output_type": "stream",
          "name": "stdout",
          "text": [
            "First few rows:\n",
            "\n",
            "Dataset dimensions:\n",
            "(20000, 2)\n",
            "\n",
            "Summary statistics:\n",
            "       publish_date\n",
            "count  2.000000e+04\n",
            "mean   2.009558e+07\n",
            "std    3.875403e+04\n",
            "min    2.003022e+07\n",
            "25%    2.006082e+07\n",
            "50%    2.010022e+07\n",
            "75%    2.013042e+07\n",
            "max    2.017072e+07\n",
            "\n",
            "Data types:\n",
            "publish_date      int64\n",
            "headline_text    object\n",
            "dtype: object\n",
            "\n",
            "Missing values:\n",
            "publish_date     0\n",
            "headline_text    0\n",
            "dtype: int64\n",
            "\n",
            "Unique values in categorical columns:\n",
            "headline_text: ['ute driver hurt in intersection crash' '6yo dies in cycling accident'\n",
            " 'bumper olive harvest expected' ... 'the drum friday may 29'\n",
            " 'winterbottom on bathurst provisional pole'\n",
            " 'pulled pork and pawpaw salad are a local success story']\n"
          ]
        }
      ]
    },
    {
      "cell_type": "code",
      "source": [
        "# TODO: Preprocess the input data\n",
        "\n",
        "import nltk\n",
        "from nltk.tokenize import word_tokenize\n",
        "from nltk.corpus import stopwords\n",
        "from nltk.stem import PorterStemmer, WordNetLemmatizer\n",
        "import string\n",
        "\n",
        "# Download NLTK resources (if not already downloaded)\n",
        "nltk.download('punkt')\n",
        "nltk.download('stopwords')\n",
        "nltk.download('wordnet')\n",
        "\n",
        "# Define preprocessing function\n",
        "def preprocess_text(text):\n",
        "    # Case lowering\n",
        "    text = text.lower()\n",
        "\n",
        "    # Tokenization\n",
        "    tokens = word_tokenize(text)\n",
        "\n",
        "    # Punctuation removal\n",
        "    tokens = [token for token in tokens if token not in string.punctuation]\n",
        "\n",
        "    # Stopwords removal\n",
        "    stop_words = set(stopwords.words('english'))\n",
        "    tokens = [token for token in tokens if token not in stop_words]\n",
        "\n",
        "    # Lemmatization or stemming\n",
        "    lemmatizer = WordNetLemmatizer()\n",
        "    # stemmer = PorterStemmer()  # Uncomment this line for stemming instead of lemmatization\n",
        "\n",
        "    preprocessed_text = []\n",
        "    for token in tokens:\n",
        "        # Lemmatization\n",
        "        lemma = lemmatizer.lemmatize(token)\n",
        "        preprocessed_text.append(lemma)\n",
        "\n",
        "        # Stemming (alternative to lemmatization)\n",
        "        # stem = stemmer.stem(token)\n",
        "        # preprocessed_text.append(stem)\n",
        "\n",
        "    return preprocessed_text\n",
        "\n",
        "# Example usage\n",
        "input_text = \"Preprocessing the input data involves various steps like tokenization, punctuation removal, and stemming or lemmatization.\"\n",
        "preprocessed_input = preprocess_text(input_text)\n",
        "print(preprocessed_input)\n"
      ],
      "metadata": {
        "colab": {
          "base_uri": "https://localhost:8080/"
        },
        "id": "Nk7DPTes4BML",
        "outputId": "681a614f-caa8-44cd-bc81-c0531e8c6f6a"
      },
      "execution_count": 13,
      "outputs": [
        {
          "output_type": "stream",
          "name": "stdout",
          "text": [
            "['preprocessing', 'input', 'data', 'involves', 'various', 'step', 'like', 'tokenization', 'punctuation', 'removal', 'stemming', 'lemmatization']\n"
          ]
        },
        {
          "output_type": "stream",
          "name": "stderr",
          "text": [
            "[nltk_data] Downloading package punkt to /root/nltk_data...\n",
            "[nltk_data]   Package punkt is already up-to-date!\n",
            "[nltk_data] Downloading package stopwords to /root/nltk_data...\n",
            "[nltk_data]   Package stopwords is already up-to-date!\n",
            "[nltk_data] Downloading package wordnet to /root/nltk_data...\n",
            "[nltk_data]   Package wordnet is already up-to-date!\n"
          ]
        }
      ]
    },
    {
      "cell_type": "code",
      "source": [
        "# TODO: Compute the BOW using Gensim\n",
        "\n",
        "from gensim import corpora\n",
        "\n",
        "# Example list of preprocessed texts\n",
        "preprocessed_texts = [\n",
        "    \"This is an example sentence\",\n",
        "    \"Another example sentence\",\n",
        "    \"Yet another example\"\n",
        "]\n",
        "\n",
        "# Create a list of tokenized texts\n",
        "tokenized_texts = [text.split() for text in preprocessed_texts]\n",
        "\n",
        "# Create a dictionary mapping tokens to unique IDs\n",
        "dictionary = corpora.Dictionary(tokenized_texts)\n",
        "\n",
        "# Create a BOW corpus\n",
        "bow_corpus = [dictionary.doc2bow(tokens) for tokens in tokenized_texts]\n",
        "\n",
        "# Print BOW representation\n",
        "for doc in bow_corpus:\n",
        "    print(doc)"
      ],
      "metadata": {
        "colab": {
          "base_uri": "https://localhost:8080/"
        },
        "id": "7Jy_HrEZ4b5_",
        "outputId": "475395fc-0939-4fb1-a162-318abe39b024"
      },
      "execution_count": 24,
      "outputs": [
        {
          "output_type": "stream",
          "name": "stdout",
          "text": [
            "[(0, 1), (1, 1), (2, 1), (3, 1), (4, 1)]\n",
            "[(2, 1), (4, 1), (5, 1)]\n",
            "[(2, 1), (6, 1), (7, 1)]\n"
          ]
        }
      ]
    },
    {
      "cell_type": "code",
      "source": [
        "# TODO: Compute TF-IDF\n",
        "\n",
        "from gensim import corpora\n",
        "from gensim.models import TfidfModel\n",
        "\n",
        "# Example list of preprocessed texts\n",
        "preprocessed_texts = [\n",
        "    \"This is an example sentence\",\n",
        "    \"Another example sentence\",\n",
        "    \"Yet another example\"\n",
        "]\n",
        "\n",
        "# Create a list of tokenized texts\n",
        "tokenized_texts = [text.split() for text in preprocessed_texts]\n",
        "\n",
        "# Create a dictionary mapping tokens to unique IDs\n",
        "dictionary = corpora.Dictionary(tokenized_texts)\n",
        "\n",
        "# Create a bag-of-words corpus\n",
        "bow_corpus = [dictionary.doc2bow(tokens) for tokens in tokenized_texts]\n",
        "\n",
        "# Compute TF-IDF representation\n",
        "tfidf_model = TfidfModel(bow_corpus)\n",
        "tfidf_corpus = tfidf_model[bow_corpus]\n",
        "\n",
        "# Print TF-IDF representation\n",
        "for doc in tfidf_corpus:\n",
        "    print(doc)"
      ],
      "metadata": {
        "colab": {
          "base_uri": "https://localhost:8080/"
        },
        "id": "rGUTXG175aAL",
        "outputId": "a0380ab5-cbc8-4ea1-b234-dc8c8447999b"
      },
      "execution_count": 23,
      "outputs": [
        {
          "output_type": "stream",
          "name": "stdout",
          "text": [
            "[(0, 0.5646732768699807), (1, 0.5646732768699807), (3, 0.5646732768699807), (4, 0.2084041054460164)]\n",
            "[(4, 0.34624155305796134), (5, 0.9381453975456102)]\n",
            "[(6, 0.7071067811865475), (7, 0.7071067811865475)]\n"
          ]
        }
      ]
    },
    {
      "cell_type": "code",
      "source": [
        "# TODO: Compute LSA\n",
        "\n",
        "from gensim import corpora, models\n",
        "\n",
        "num_topics = 2  # Number of topics\n",
        "lsa_model = models.LsiModel(bow_corpus, num_topics=num_topics, id2word=dictionary)\n",
        "\n",
        "# Print the topics and their top words\n",
        "for topic_idx, topic in lsa_model.show_topics():\n",
        "    print(f\"Topic {topic_idx + 1}: {topic}\")\n"
      ],
      "metadata": {
        "colab": {
          "base_uri": "https://localhost:8080/"
        },
        "id": "e14vvYpH7MWC",
        "outputId": "4ed304ff-f32e-4ae1-ffb3-25beeb269446"
      },
      "execution_count": 26,
      "outputs": [
        {
          "output_type": "stream",
          "name": "stdout",
          "text": [
            "Topic 1: 0.633*\"example\" + 0.500*\"sentence\" + 0.303*\"is\" + 0.303*\"an\" + 0.303*\"This\" + 0.197*\"Another\" + 0.133*\"Yet\" + 0.133*\"another\"\n",
            "Topic 2: 0.545*\"Yet\" + 0.545*\"another\" + 0.329*\"example\" + -0.286*\"This\" + -0.286*\"is\" + -0.286*\"an\" + -0.216*\"sentence\" + 0.071*\"Another\"\n"
          ]
        }
      ]
    },
    {
      "cell_type": "code",
      "source": [
        "# TODO: Print the 3 or 4 most significant words of each topic\n",
        "for topic_idx, topic in lsa_model.show_topics():\n",
        "    print(f\"Topic {topic_idx + 1}:\")\n",
        "    words = topic.split(\"+\")\n",
        "    top_words = [word.split(\"*\")[1].replace('\"', '').strip() for word in words[:4]]\n",
        "    for word in top_words:\n",
        "        print(word)\n",
        "    print()"
      ],
      "metadata": {
        "colab": {
          "base_uri": "https://localhost:8080/"
        },
        "id": "4-LEDkoJ7mbc",
        "outputId": "bb5e34a5-69c2-497e-ac21-44327f59f682"
      },
      "execution_count": 27,
      "outputs": [
        {
          "output_type": "stream",
          "name": "stdout",
          "text": [
            "Topic 1:\n",
            "example\n",
            "sentence\n",
            "is\n",
            "an\n",
            "\n",
            "Topic 2:\n",
            "Yet\n",
            "another\n",
            "example\n",
            "This\n",
            "\n"
          ]
        }
      ]
    },
    {
      "cell_type": "code",
      "source": [
        "# TODO: Compute LDA\n",
        "num_topics = 2  # Number of topics\n",
        "lda_model = models.LdaModel(bow_corpus, num_topics=num_topics, id2word=dictionary)\n"
      ],
      "metadata": {
        "colab": {
          "base_uri": "https://localhost:8080/"
        },
        "id": "cbvhx9Im8BY5",
        "outputId": "fa3d1b9e-b349-42a3-94ae-83d067ff88d3"
      },
      "execution_count": 29,
      "outputs": [
        {
          "output_type": "stream",
          "name": "stderr",
          "text": [
            "WARNING:gensim.models.ldamodel:too few updates, training might not converge; consider increasing the number of passes or iterations to improve accuracy\n"
          ]
        }
      ]
    },
    {
      "cell_type": "code",
      "source": [
        "# TODO: print the most frequent words of each topic\n",
        "for topic_idx in range(num_topics):\n",
        "    print(f\"Topic {topic_idx + 1}:\")\n",
        "    topic_terms = lda_model.get_topic_terms(topic_idx, topn=5)\n",
        "    for term_id, weight in topic_terms:\n",
        "        term = dictionary.get(term_id)\n",
        "        print(f\"{term}: {weight}\")\n",
        "    print()"
      ],
      "metadata": {
        "colab": {
          "base_uri": "https://localhost:8080/"
        },
        "id": "IbocSAFk8jpY",
        "outputId": "b6fffbeb-a475-448e-c402-fb36f21b32b3"
      },
      "execution_count": 30,
      "outputs": [
        {
          "output_type": "stream",
          "name": "stdout",
          "text": [
            "Topic 1:\n",
            "example: 0.20496664941310883\n",
            "another: 0.1374443769454956\n",
            "Yet: 0.12917403876781464\n",
            "sentence: 0.12115602940320969\n",
            "This: 0.11227208375930786\n",
            "\n",
            "Topic 2:\n",
            "example: 0.215157151222229\n",
            "sentence: 0.18849632143974304\n",
            "Another: 0.12405470013618469\n",
            "is: 0.1093030795454979\n",
            "an: 0.09975937753915787\n",
            "\n"
          ]
        }
      ]
    },
    {
      "cell_type": "code",
      "source": [
        "pip install pyLDAvis"
      ],
      "metadata": {
        "colab": {
          "base_uri": "https://localhost:8080/",
          "height": 817
        },
        "id": "uFMs4KD_9iYx",
        "outputId": "0c182092-34a3-4654-a19e-baf0a31b4938"
      },
      "execution_count": 32,
      "outputs": [
        {
          "output_type": "stream",
          "name": "stdout",
          "text": [
            "Looking in indexes: https://pypi.org/simple, https://us-python.pkg.dev/colab-wheels/public/simple/\n",
            "Collecting pyLDAvis\n",
            "  Downloading pyLDAvis-3.4.1-py3-none-any.whl (2.6 MB)\n",
            "\u001b[2K     \u001b[90m━━━━━━━━━━━━━━━━━━━━━━━━━━━━━━━━━━━━━━━━\u001b[0m \u001b[32m2.6/2.6 MB\u001b[0m \u001b[31m30.8 MB/s\u001b[0m eta \u001b[36m0:00:00\u001b[0m\n",
            "\u001b[?25hCollecting numpy>=1.24.2 (from pyLDAvis)\n",
            "  Downloading numpy-1.24.3-cp310-cp310-manylinux_2_17_x86_64.manylinux2014_x86_64.whl (17.3 MB)\n",
            "\u001b[2K     \u001b[90m━━━━━━━━━━━━━━━━━━━━━━━━━━━━━━━━━━━━━━━━\u001b[0m \u001b[32m17.3/17.3 MB\u001b[0m \u001b[31m53.8 MB/s\u001b[0m eta \u001b[36m0:00:00\u001b[0m\n",
            "\u001b[?25hRequirement already satisfied: scipy in /usr/local/lib/python3.10/dist-packages (from pyLDAvis) (1.10.1)\n",
            "Collecting pandas>=2.0.0 (from pyLDAvis)\n",
            "  Downloading pandas-2.0.1-cp310-cp310-manylinux_2_17_x86_64.manylinux2014_x86_64.whl (12.3 MB)\n",
            "\u001b[2K     \u001b[90m━━━━━━━━━━━━━━━━━━━━━━━━━━━━━━━━━━━━━━━━\u001b[0m \u001b[32m12.3/12.3 MB\u001b[0m \u001b[31m64.1 MB/s\u001b[0m eta \u001b[36m0:00:00\u001b[0m\n",
            "\u001b[?25hRequirement already satisfied: joblib>=1.2.0 in /usr/local/lib/python3.10/dist-packages (from pyLDAvis) (1.2.0)\n",
            "Requirement already satisfied: jinja2 in /usr/local/lib/python3.10/dist-packages (from pyLDAvis) (3.1.2)\n",
            "Requirement already satisfied: numexpr in /usr/local/lib/python3.10/dist-packages (from pyLDAvis) (2.8.4)\n",
            "Collecting funcy (from pyLDAvis)\n",
            "  Downloading funcy-2.0-py2.py3-none-any.whl (30 kB)\n",
            "Requirement already satisfied: scikit-learn>=1.0.0 in /usr/local/lib/python3.10/dist-packages (from pyLDAvis) (1.2.2)\n",
            "Requirement already satisfied: gensim in /usr/local/lib/python3.10/dist-packages (from pyLDAvis) (4.3.1)\n",
            "Requirement already satisfied: setuptools in /usr/local/lib/python3.10/dist-packages (from pyLDAvis) (67.7.2)\n",
            "Requirement already satisfied: python-dateutil>=2.8.2 in /usr/local/lib/python3.10/dist-packages (from pandas>=2.0.0->pyLDAvis) (2.8.2)\n",
            "Requirement already satisfied: pytz>=2020.1 in /usr/local/lib/python3.10/dist-packages (from pandas>=2.0.0->pyLDAvis) (2022.7.1)\n",
            "Requirement already satisfied: tzdata>=2022.1 in /usr/local/lib/python3.10/dist-packages (from pandas>=2.0.0->pyLDAvis) (2023.3)\n",
            "Requirement already satisfied: threadpoolctl>=2.0.0 in /usr/local/lib/python3.10/dist-packages (from scikit-learn>=1.0.0->pyLDAvis) (3.1.0)\n",
            "Requirement already satisfied: smart-open>=1.8.1 in /usr/local/lib/python3.10/dist-packages (from gensim->pyLDAvis) (6.3.0)\n",
            "Requirement already satisfied: MarkupSafe>=2.0 in /usr/local/lib/python3.10/dist-packages (from jinja2->pyLDAvis) (2.1.2)\n",
            "Requirement already satisfied: six>=1.5 in /usr/local/lib/python3.10/dist-packages (from python-dateutil>=2.8.2->pandas>=2.0.0->pyLDAvis) (1.16.0)\n",
            "Installing collected packages: funcy, numpy, pandas, pyLDAvis\n",
            "  Attempting uninstall: numpy\n",
            "    Found existing installation: numpy 1.22.4\n",
            "    Uninstalling numpy-1.22.4:\n",
            "      Successfully uninstalled numpy-1.22.4\n",
            "  Attempting uninstall: pandas\n",
            "    Found existing installation: pandas 1.5.3\n",
            "    Uninstalling pandas-1.5.3:\n",
            "      Successfully uninstalled pandas-1.5.3\n",
            "\u001b[31mERROR: pip's dependency resolver does not currently take into account all the packages that are installed. This behaviour is the source of the following dependency conflicts.\n",
            "google-colab 1.0.0 requires pandas==1.5.3, but you have pandas 2.0.1 which is incompatible.\n",
            "numba 0.56.4 requires numpy<1.24,>=1.18, but you have numpy 1.24.3 which is incompatible.\n",
            "tensorflow 2.12.0 requires numpy<1.24,>=1.22, but you have numpy 1.24.3 which is incompatible.\u001b[0m\u001b[31m\n",
            "\u001b[0mSuccessfully installed funcy-2.0 numpy-1.24.3 pandas-2.0.1 pyLDAvis-3.4.1\n"
          ]
        },
        {
          "output_type": "display_data",
          "data": {
            "application/vnd.colab-display-data+json": {
              "pip_warning": {
                "packages": [
                  "numpy",
                  "pandas"
                ]
              }
            }
          },
          "metadata": {}
        }
      ]
    },
    {
      "cell_type": "code",
      "source": [
        "# TODO: show visualization results of the LDA\n",
        "\n",
        "import pyLDAvis.gensim_models as gensimvis\n",
        "import pyLDAvis\n",
        "\n",
        "# Prepare data for visualization\n",
        "vis_data = gensimvis.prepare(lda_model, bow_corpus, dictionary)\n",
        "\n",
        "# Display the visualization\n",
        "if __name__ == '__main__':\n",
        "    pyLDAvis.display(vis_data)\n",
        "\n"
      ],
      "metadata": {
        "colab": {
          "base_uri": "https://localhost:8080/",
          "height": 1000
        },
        "id": "QJVsH1kH9BK8",
        "outputId": "15738db3-c300-487e-9338-563972a1cea5"
      },
      "execution_count": 37,
      "outputs": [
        {
          "output_type": "stream",
          "name": "stderr",
          "text": [
            "/usr/local/lib/python3.10/dist-packages/ipykernel/ipkernel.py:283: DeprecationWarning: `should_run_async` will not call `transform_cell` automatically in the future. Please pass the result to `transformed_cell` argument and any exception that happen during thetransform in `preprocessing_exc_tuple` in IPython 7.17 and above.\n",
            "  and should_run_async(code)\n",
            "ERROR:concurrent.futures:exception calling callback for <Future at 0x7f88c4a9f850 state=finished raised BrokenProcessPool>\n",
            "joblib.externals.loky.process_executor._RemoteTraceback: \n",
            "\"\"\"\n",
            "Traceback (most recent call last):\n",
            "  File \"/usr/local/lib/python3.10/dist-packages/joblib/externals/loky/process_executor.py\", line 391, in _process_worker\n",
            "    call_item = call_queue.get(block=True, timeout=timeout)\n",
            "  File \"/usr/lib/python3.10/multiprocessing/queues.py\", line 122, in get\n",
            "    return _ForkingPickler.loads(res)\n",
            "ModuleNotFoundError: No module named 'pandas.core.indexes.numeric'\n",
            "\"\"\"\n",
            "\n",
            "The above exception was the direct cause of the following exception:\n",
            "\n",
            "Traceback (most recent call last):\n",
            "  File \"/usr/local/lib/python3.10/dist-packages/joblib/externals/loky/_base.py\", line 26, in _invoke_callbacks\n",
            "    callback(self)\n",
            "  File \"/usr/local/lib/python3.10/dist-packages/joblib/parallel.py\", line 385, in __call__\n",
            "    self.parallel.dispatch_next()\n",
            "  File \"/usr/local/lib/python3.10/dist-packages/joblib/parallel.py\", line 834, in dispatch_next\n",
            "    if not self.dispatch_one_batch(self._original_iterator):\n",
            "  File \"/usr/local/lib/python3.10/dist-packages/joblib/parallel.py\", line 901, in dispatch_one_batch\n",
            "    self._dispatch(tasks)\n",
            "  File \"/usr/local/lib/python3.10/dist-packages/joblib/parallel.py\", line 819, in _dispatch\n",
            "    job = self._backend.apply_async(batch, callback=cb)\n",
            "  File \"/usr/local/lib/python3.10/dist-packages/joblib/_parallel_backends.py\", line 556, in apply_async\n",
            "    future = self._workers.submit(SafeFunction(func))\n",
            "  File \"/usr/local/lib/python3.10/dist-packages/joblib/externals/loky/reusable_executor.py\", line 176, in submit\n",
            "    return super().submit(fn, *args, **kwargs)\n",
            "  File \"/usr/local/lib/python3.10/dist-packages/joblib/externals/loky/process_executor.py\", line 1129, in submit\n",
            "    raise self._flags.broken\n",
            "joblib.externals.loky.process_executor.BrokenProcessPool: A task has failed to un-serialize. Please ensure that the arguments of the function are all picklable.\n"
          ]
        },
        {
          "output_type": "error",
          "ename": "BrokenProcessPool",
          "evalue": "ignored",
          "traceback": [
            "\u001b[0;31m---------------------------------------------------------------------------\u001b[0m",
            "\u001b[0;31m_RemoteTraceback\u001b[0m                          Traceback (most recent call last)",
            "\u001b[0;31m_RemoteTraceback\u001b[0m: \n\"\"\"\nTraceback (most recent call last):\n  File \"/usr/local/lib/python3.10/dist-packages/joblib/externals/loky/process_executor.py\", line 391, in _process_worker\n    call_item = call_queue.get(block=True, timeout=timeout)\n  File \"/usr/lib/python3.10/multiprocessing/queues.py\", line 122, in get\n    return _ForkingPickler.loads(res)\nModuleNotFoundError: No module named 'pandas.core.indexes.numeric'\n\"\"\"",
            "\nThe above exception was the direct cause of the following exception:\n",
            "\u001b[0;31mBrokenProcessPool\u001b[0m                         Traceback (most recent call last)",
            "\u001b[0;32m<ipython-input-37-5c2e01af6d51>\u001b[0m in \u001b[0;36m<cell line: 7>\u001b[0;34m()\u001b[0m\n\u001b[1;32m      5\u001b[0m \u001b[0;34m\u001b[0m\u001b[0m\n\u001b[1;32m      6\u001b[0m \u001b[0;31m# Prepare data for visualization\u001b[0m\u001b[0;34m\u001b[0m\u001b[0;34m\u001b[0m\u001b[0m\n\u001b[0;32m----> 7\u001b[0;31m \u001b[0mvis_data\u001b[0m \u001b[0;34m=\u001b[0m \u001b[0mgensimvis\u001b[0m\u001b[0;34m.\u001b[0m\u001b[0mprepare\u001b[0m\u001b[0;34m(\u001b[0m\u001b[0mlda_model\u001b[0m\u001b[0;34m,\u001b[0m \u001b[0mbow_corpus\u001b[0m\u001b[0;34m,\u001b[0m \u001b[0mdictionary\u001b[0m\u001b[0;34m)\u001b[0m\u001b[0;34m\u001b[0m\u001b[0;34m\u001b[0m\u001b[0m\n\u001b[0m\u001b[1;32m      8\u001b[0m \u001b[0;34m\u001b[0m\u001b[0m\n\u001b[1;32m      9\u001b[0m \u001b[0;31m# Display the visualization\u001b[0m\u001b[0;34m\u001b[0m\u001b[0;34m\u001b[0m\u001b[0m\n",
            "\u001b[0;32m/usr/local/lib/python3.10/dist-packages/pyLDAvis/gensim_models.py\u001b[0m in \u001b[0;36mprepare\u001b[0;34m(topic_model, corpus, dictionary, doc_topic_dist, **kwargs)\u001b[0m\n\u001b[1;32m    121\u001b[0m     \"\"\"\n\u001b[1;32m    122\u001b[0m     \u001b[0mopts\u001b[0m \u001b[0;34m=\u001b[0m \u001b[0mfp\u001b[0m\u001b[0;34m.\u001b[0m\u001b[0mmerge\u001b[0m\u001b[0;34m(\u001b[0m\u001b[0m_extract_data\u001b[0m\u001b[0;34m(\u001b[0m\u001b[0mtopic_model\u001b[0m\u001b[0;34m,\u001b[0m \u001b[0mcorpus\u001b[0m\u001b[0;34m,\u001b[0m \u001b[0mdictionary\u001b[0m\u001b[0;34m,\u001b[0m \u001b[0mdoc_topic_dist\u001b[0m\u001b[0;34m)\u001b[0m\u001b[0;34m,\u001b[0m \u001b[0mkwargs\u001b[0m\u001b[0;34m)\u001b[0m\u001b[0;34m\u001b[0m\u001b[0;34m\u001b[0m\u001b[0m\n\u001b[0;32m--> 123\u001b[0;31m     \u001b[0;32mreturn\u001b[0m \u001b[0mpyLDAvis\u001b[0m\u001b[0;34m.\u001b[0m\u001b[0mprepare\u001b[0m\u001b[0;34m(\u001b[0m\u001b[0;34m**\u001b[0m\u001b[0mopts\u001b[0m\u001b[0;34m)\u001b[0m\u001b[0;34m\u001b[0m\u001b[0;34m\u001b[0m\u001b[0m\n\u001b[0m",
            "\u001b[0;32m/usr/local/lib/python3.10/dist-packages/pyLDAvis/_prepare.py\u001b[0m in \u001b[0;36mprepare\u001b[0;34m(topic_term_dists, doc_topic_dists, doc_lengths, vocab, term_frequency, R, lambda_step, mds, n_jobs, plot_opts, sort_topics, start_index)\u001b[0m\n\u001b[1;32m    430\u001b[0m     \u001b[0mterm_frequency\u001b[0m \u001b[0;34m=\u001b[0m \u001b[0mnp\u001b[0m\u001b[0;34m.\u001b[0m\u001b[0msum\u001b[0m\u001b[0;34m(\u001b[0m\u001b[0mterm_topic_freq\u001b[0m\u001b[0;34m,\u001b[0m \u001b[0maxis\u001b[0m\u001b[0;34m=\u001b[0m\u001b[0;36m0\u001b[0m\u001b[0;34m)\u001b[0m\u001b[0;34m\u001b[0m\u001b[0;34m\u001b[0m\u001b[0m\n\u001b[1;32m    431\u001b[0m \u001b[0;34m\u001b[0m\u001b[0m\n\u001b[0;32m--> 432\u001b[0;31m     topic_info = _topic_info(topic_term_dists, topic_proportion,\n\u001b[0m\u001b[1;32m    433\u001b[0m                              \u001b[0mterm_frequency\u001b[0m\u001b[0;34m,\u001b[0m \u001b[0mterm_topic_freq\u001b[0m\u001b[0;34m,\u001b[0m \u001b[0mvocab\u001b[0m\u001b[0;34m,\u001b[0m \u001b[0mlambda_step\u001b[0m\u001b[0;34m,\u001b[0m \u001b[0mR\u001b[0m\u001b[0;34m,\u001b[0m\u001b[0;34m\u001b[0m\u001b[0;34m\u001b[0m\u001b[0m\n\u001b[1;32m    434\u001b[0m                              n_jobs, start_index)\n",
            "\u001b[0;32m/usr/local/lib/python3.10/dist-packages/pyLDAvis/_prepare.py\u001b[0m in \u001b[0;36m_topic_info\u001b[0;34m(topic_term_dists, topic_proportion, term_frequency, term_topic_freq, vocab, lambda_step, R, n_jobs, start_index)\u001b[0m\n\u001b[1;32m    271\u001b[0m         ])\n\u001b[1;32m    272\u001b[0m \u001b[0;34m\u001b[0m\u001b[0m\n\u001b[0;32m--> 273\u001b[0;31m     top_terms = pd.concat(Parallel(n_jobs=n_jobs)\n\u001b[0m\u001b[1;32m    274\u001b[0m                           (delayed(_find_relevance_chunks)(log_ttd, log_lift, R, ls)\n\u001b[1;32m    275\u001b[0m                           for ls in _job_chunks(lambda_seq, n_jobs)))\n",
            "\u001b[0;32m/usr/local/lib/python3.10/dist-packages/joblib/parallel.py\u001b[0m in \u001b[0;36m__call__\u001b[0;34m(self, iterable)\u001b[0m\n\u001b[1;32m   1096\u001b[0m \u001b[0;34m\u001b[0m\u001b[0m\n\u001b[1;32m   1097\u001b[0m             \u001b[0;32mwith\u001b[0m \u001b[0mself\u001b[0m\u001b[0;34m.\u001b[0m\u001b[0m_backend\u001b[0m\u001b[0;34m.\u001b[0m\u001b[0mretrieval_context\u001b[0m\u001b[0;34m(\u001b[0m\u001b[0;34m)\u001b[0m\u001b[0;34m:\u001b[0m\u001b[0;34m\u001b[0m\u001b[0;34m\u001b[0m\u001b[0m\n\u001b[0;32m-> 1098\u001b[0;31m                 \u001b[0mself\u001b[0m\u001b[0;34m.\u001b[0m\u001b[0mretrieve\u001b[0m\u001b[0;34m(\u001b[0m\u001b[0;34m)\u001b[0m\u001b[0;34m\u001b[0m\u001b[0;34m\u001b[0m\u001b[0m\n\u001b[0m\u001b[1;32m   1099\u001b[0m             \u001b[0;31m# Make sure that we get a last message telling us we are done\u001b[0m\u001b[0;34m\u001b[0m\u001b[0;34m\u001b[0m\u001b[0m\n\u001b[1;32m   1100\u001b[0m             \u001b[0melapsed_time\u001b[0m \u001b[0;34m=\u001b[0m \u001b[0mtime\u001b[0m\u001b[0;34m.\u001b[0m\u001b[0mtime\u001b[0m\u001b[0;34m(\u001b[0m\u001b[0;34m)\u001b[0m \u001b[0;34m-\u001b[0m \u001b[0mself\u001b[0m\u001b[0;34m.\u001b[0m\u001b[0m_start_time\u001b[0m\u001b[0;34m\u001b[0m\u001b[0;34m\u001b[0m\u001b[0m\n",
            "\u001b[0;32m/usr/local/lib/python3.10/dist-packages/joblib/parallel.py\u001b[0m in \u001b[0;36mretrieve\u001b[0;34m(self)\u001b[0m\n\u001b[1;32m    973\u001b[0m             \u001b[0;32mtry\u001b[0m\u001b[0;34m:\u001b[0m\u001b[0;34m\u001b[0m\u001b[0;34m\u001b[0m\u001b[0m\n\u001b[1;32m    974\u001b[0m                 \u001b[0;32mif\u001b[0m \u001b[0mgetattr\u001b[0m\u001b[0;34m(\u001b[0m\u001b[0mself\u001b[0m\u001b[0;34m.\u001b[0m\u001b[0m_backend\u001b[0m\u001b[0;34m,\u001b[0m \u001b[0;34m'supports_timeout'\u001b[0m\u001b[0;34m,\u001b[0m \u001b[0;32mFalse\u001b[0m\u001b[0;34m)\u001b[0m\u001b[0;34m:\u001b[0m\u001b[0;34m\u001b[0m\u001b[0;34m\u001b[0m\u001b[0m\n\u001b[0;32m--> 975\u001b[0;31m                     \u001b[0mself\u001b[0m\u001b[0;34m.\u001b[0m\u001b[0m_output\u001b[0m\u001b[0;34m.\u001b[0m\u001b[0mextend\u001b[0m\u001b[0;34m(\u001b[0m\u001b[0mjob\u001b[0m\u001b[0;34m.\u001b[0m\u001b[0mget\u001b[0m\u001b[0;34m(\u001b[0m\u001b[0mtimeout\u001b[0m\u001b[0;34m=\u001b[0m\u001b[0mself\u001b[0m\u001b[0;34m.\u001b[0m\u001b[0mtimeout\u001b[0m\u001b[0;34m)\u001b[0m\u001b[0;34m)\u001b[0m\u001b[0;34m\u001b[0m\u001b[0;34m\u001b[0m\u001b[0m\n\u001b[0m\u001b[1;32m    976\u001b[0m                 \u001b[0;32melse\u001b[0m\u001b[0;34m:\u001b[0m\u001b[0;34m\u001b[0m\u001b[0;34m\u001b[0m\u001b[0m\n\u001b[1;32m    977\u001b[0m                     \u001b[0mself\u001b[0m\u001b[0;34m.\u001b[0m\u001b[0m_output\u001b[0m\u001b[0;34m.\u001b[0m\u001b[0mextend\u001b[0m\u001b[0;34m(\u001b[0m\u001b[0mjob\u001b[0m\u001b[0;34m.\u001b[0m\u001b[0mget\u001b[0m\u001b[0;34m(\u001b[0m\u001b[0;34m)\u001b[0m\u001b[0;34m)\u001b[0m\u001b[0;34m\u001b[0m\u001b[0;34m\u001b[0m\u001b[0m\n",
            "\u001b[0;32m/usr/local/lib/python3.10/dist-packages/joblib/_parallel_backends.py\u001b[0m in \u001b[0;36mwrap_future_result\u001b[0;34m(future, timeout)\u001b[0m\n\u001b[1;32m    565\u001b[0m         AsyncResults.get from multiprocessing.\"\"\"\n\u001b[1;32m    566\u001b[0m         \u001b[0;32mtry\u001b[0m\u001b[0;34m:\u001b[0m\u001b[0;34m\u001b[0m\u001b[0;34m\u001b[0m\u001b[0m\n\u001b[0;32m--> 567\u001b[0;31m             \u001b[0;32mreturn\u001b[0m \u001b[0mfuture\u001b[0m\u001b[0;34m.\u001b[0m\u001b[0mresult\u001b[0m\u001b[0;34m(\u001b[0m\u001b[0mtimeout\u001b[0m\u001b[0;34m=\u001b[0m\u001b[0mtimeout\u001b[0m\u001b[0;34m)\u001b[0m\u001b[0;34m\u001b[0m\u001b[0;34m\u001b[0m\u001b[0m\n\u001b[0m\u001b[1;32m    568\u001b[0m         \u001b[0;32mexcept\u001b[0m \u001b[0mCfTimeoutError\u001b[0m \u001b[0;32mas\u001b[0m \u001b[0me\u001b[0m\u001b[0;34m:\u001b[0m\u001b[0;34m\u001b[0m\u001b[0;34m\u001b[0m\u001b[0m\n\u001b[1;32m    569\u001b[0m             \u001b[0;32mraise\u001b[0m \u001b[0mTimeoutError\u001b[0m \u001b[0;32mfrom\u001b[0m \u001b[0me\u001b[0m\u001b[0;34m\u001b[0m\u001b[0;34m\u001b[0m\u001b[0m\n",
            "\u001b[0;32m/usr/lib/python3.10/concurrent/futures/_base.py\u001b[0m in \u001b[0;36mresult\u001b[0;34m(self, timeout)\u001b[0m\n\u001b[1;32m    456\u001b[0m                     \u001b[0;32mraise\u001b[0m \u001b[0mCancelledError\u001b[0m\u001b[0;34m(\u001b[0m\u001b[0;34m)\u001b[0m\u001b[0;34m\u001b[0m\u001b[0;34m\u001b[0m\u001b[0m\n\u001b[1;32m    457\u001b[0m                 \u001b[0;32melif\u001b[0m \u001b[0mself\u001b[0m\u001b[0;34m.\u001b[0m\u001b[0m_state\u001b[0m \u001b[0;34m==\u001b[0m \u001b[0mFINISHED\u001b[0m\u001b[0;34m:\u001b[0m\u001b[0;34m\u001b[0m\u001b[0;34m\u001b[0m\u001b[0m\n\u001b[0;32m--> 458\u001b[0;31m                     \u001b[0;32mreturn\u001b[0m \u001b[0mself\u001b[0m\u001b[0;34m.\u001b[0m\u001b[0m__get_result\u001b[0m\u001b[0;34m(\u001b[0m\u001b[0;34m)\u001b[0m\u001b[0;34m\u001b[0m\u001b[0;34m\u001b[0m\u001b[0m\n\u001b[0m\u001b[1;32m    459\u001b[0m                 \u001b[0;32melse\u001b[0m\u001b[0;34m:\u001b[0m\u001b[0;34m\u001b[0m\u001b[0;34m\u001b[0m\u001b[0m\n\u001b[1;32m    460\u001b[0m                     \u001b[0;32mraise\u001b[0m \u001b[0mTimeoutError\u001b[0m\u001b[0;34m(\u001b[0m\u001b[0;34m)\u001b[0m\u001b[0;34m\u001b[0m\u001b[0;34m\u001b[0m\u001b[0m\n",
            "\u001b[0;32m/usr/lib/python3.10/concurrent/futures/_base.py\u001b[0m in \u001b[0;36m__get_result\u001b[0;34m(self)\u001b[0m\n\u001b[1;32m    401\u001b[0m         \u001b[0;32mif\u001b[0m \u001b[0mself\u001b[0m\u001b[0;34m.\u001b[0m\u001b[0m_exception\u001b[0m\u001b[0;34m:\u001b[0m\u001b[0;34m\u001b[0m\u001b[0;34m\u001b[0m\u001b[0m\n\u001b[1;32m    402\u001b[0m             \u001b[0;32mtry\u001b[0m\u001b[0;34m:\u001b[0m\u001b[0;34m\u001b[0m\u001b[0;34m\u001b[0m\u001b[0m\n\u001b[0;32m--> 403\u001b[0;31m                 \u001b[0;32mraise\u001b[0m \u001b[0mself\u001b[0m\u001b[0;34m.\u001b[0m\u001b[0m_exception\u001b[0m\u001b[0;34m\u001b[0m\u001b[0;34m\u001b[0m\u001b[0m\n\u001b[0m\u001b[1;32m    404\u001b[0m             \u001b[0;32mfinally\u001b[0m\u001b[0;34m:\u001b[0m\u001b[0;34m\u001b[0m\u001b[0;34m\u001b[0m\u001b[0m\n\u001b[1;32m    405\u001b[0m                 \u001b[0;31m# Break a reference cycle with the exception in self._exception\u001b[0m\u001b[0;34m\u001b[0m\u001b[0;34m\u001b[0m\u001b[0m\n",
            "\u001b[0;32m/usr/local/lib/python3.10/dist-packages/joblib/externals/loky/_base.py\u001b[0m in \u001b[0;36m_invoke_callbacks\u001b[0;34m(self)\u001b[0m\n\u001b[1;32m     24\u001b[0m         \u001b[0;32mfor\u001b[0m \u001b[0mcallback\u001b[0m \u001b[0;32min\u001b[0m \u001b[0mself\u001b[0m\u001b[0;34m.\u001b[0m\u001b[0m_done_callbacks\u001b[0m\u001b[0;34m:\u001b[0m\u001b[0;34m\u001b[0m\u001b[0;34m\u001b[0m\u001b[0m\n\u001b[1;32m     25\u001b[0m             \u001b[0;32mtry\u001b[0m\u001b[0;34m:\u001b[0m\u001b[0;34m\u001b[0m\u001b[0;34m\u001b[0m\u001b[0m\n\u001b[0;32m---> 26\u001b[0;31m                 \u001b[0mcallback\u001b[0m\u001b[0;34m(\u001b[0m\u001b[0mself\u001b[0m\u001b[0;34m)\u001b[0m\u001b[0;34m\u001b[0m\u001b[0;34m\u001b[0m\u001b[0m\n\u001b[0m\u001b[1;32m     27\u001b[0m             \u001b[0;32mexcept\u001b[0m \u001b[0mBaseException\u001b[0m\u001b[0;34m:\u001b[0m\u001b[0;34m\u001b[0m\u001b[0;34m\u001b[0m\u001b[0m\n\u001b[1;32m     28\u001b[0m                 \u001b[0mLOGGER\u001b[0m\u001b[0;34m.\u001b[0m\u001b[0mexception\u001b[0m\u001b[0;34m(\u001b[0m\u001b[0;34mf'exception calling callback for {self!r}'\u001b[0m\u001b[0;34m)\u001b[0m\u001b[0;34m\u001b[0m\u001b[0;34m\u001b[0m\u001b[0m\n",
            "\u001b[0;32m/usr/local/lib/python3.10/dist-packages/joblib/parallel.py\u001b[0m in \u001b[0;36m__call__\u001b[0;34m(self, out)\u001b[0m\n\u001b[1;32m    383\u001b[0m         \u001b[0;32mwith\u001b[0m \u001b[0mself\u001b[0m\u001b[0;34m.\u001b[0m\u001b[0mparallel\u001b[0m\u001b[0;34m.\u001b[0m\u001b[0m_lock\u001b[0m\u001b[0;34m:\u001b[0m\u001b[0;34m\u001b[0m\u001b[0;34m\u001b[0m\u001b[0m\n\u001b[1;32m    384\u001b[0m             \u001b[0;32mif\u001b[0m \u001b[0mself\u001b[0m\u001b[0;34m.\u001b[0m\u001b[0mparallel\u001b[0m\u001b[0;34m.\u001b[0m\u001b[0m_original_iterator\u001b[0m \u001b[0;32mis\u001b[0m \u001b[0;32mnot\u001b[0m \u001b[0;32mNone\u001b[0m\u001b[0;34m:\u001b[0m\u001b[0;34m\u001b[0m\u001b[0;34m\u001b[0m\u001b[0m\n\u001b[0;32m--> 385\u001b[0;31m                 \u001b[0mself\u001b[0m\u001b[0;34m.\u001b[0m\u001b[0mparallel\u001b[0m\u001b[0;34m.\u001b[0m\u001b[0mdispatch_next\u001b[0m\u001b[0;34m(\u001b[0m\u001b[0;34m)\u001b[0m\u001b[0;34m\u001b[0m\u001b[0;34m\u001b[0m\u001b[0m\n\u001b[0m\u001b[1;32m    386\u001b[0m \u001b[0;34m\u001b[0m\u001b[0m\n\u001b[1;32m    387\u001b[0m \u001b[0;34m\u001b[0m\u001b[0m\n",
            "\u001b[0;32m/usr/local/lib/python3.10/dist-packages/joblib/parallel.py\u001b[0m in \u001b[0;36mdispatch_next\u001b[0;34m(self)\u001b[0m\n\u001b[1;32m    832\u001b[0m \u001b[0;34m\u001b[0m\u001b[0m\n\u001b[1;32m    833\u001b[0m         \"\"\"\n\u001b[0;32m--> 834\u001b[0;31m         \u001b[0;32mif\u001b[0m \u001b[0;32mnot\u001b[0m \u001b[0mself\u001b[0m\u001b[0;34m.\u001b[0m\u001b[0mdispatch_one_batch\u001b[0m\u001b[0;34m(\u001b[0m\u001b[0mself\u001b[0m\u001b[0;34m.\u001b[0m\u001b[0m_original_iterator\u001b[0m\u001b[0;34m)\u001b[0m\u001b[0;34m:\u001b[0m\u001b[0;34m\u001b[0m\u001b[0;34m\u001b[0m\u001b[0m\n\u001b[0m\u001b[1;32m    835\u001b[0m             \u001b[0mself\u001b[0m\u001b[0;34m.\u001b[0m\u001b[0m_iterating\u001b[0m \u001b[0;34m=\u001b[0m \u001b[0;32mFalse\u001b[0m\u001b[0;34m\u001b[0m\u001b[0;34m\u001b[0m\u001b[0m\n\u001b[1;32m    836\u001b[0m             \u001b[0mself\u001b[0m\u001b[0;34m.\u001b[0m\u001b[0m_original_iterator\u001b[0m \u001b[0;34m=\u001b[0m \u001b[0;32mNone\u001b[0m\u001b[0;34m\u001b[0m\u001b[0;34m\u001b[0m\u001b[0m\n",
            "\u001b[0;32m/usr/local/lib/python3.10/dist-packages/joblib/parallel.py\u001b[0m in \u001b[0;36mdispatch_one_batch\u001b[0;34m(self, iterator)\u001b[0m\n\u001b[1;32m    899\u001b[0m                 \u001b[0;32mreturn\u001b[0m \u001b[0;32mFalse\u001b[0m\u001b[0;34m\u001b[0m\u001b[0;34m\u001b[0m\u001b[0m\n\u001b[1;32m    900\u001b[0m             \u001b[0;32melse\u001b[0m\u001b[0;34m:\u001b[0m\u001b[0;34m\u001b[0m\u001b[0;34m\u001b[0m\u001b[0m\n\u001b[0;32m--> 901\u001b[0;31m                 \u001b[0mself\u001b[0m\u001b[0;34m.\u001b[0m\u001b[0m_dispatch\u001b[0m\u001b[0;34m(\u001b[0m\u001b[0mtasks\u001b[0m\u001b[0;34m)\u001b[0m\u001b[0;34m\u001b[0m\u001b[0;34m\u001b[0m\u001b[0m\n\u001b[0m\u001b[1;32m    902\u001b[0m                 \u001b[0;32mreturn\u001b[0m \u001b[0;32mTrue\u001b[0m\u001b[0;34m\u001b[0m\u001b[0;34m\u001b[0m\u001b[0m\n\u001b[1;32m    903\u001b[0m \u001b[0;34m\u001b[0m\u001b[0m\n",
            "\u001b[0;32m/usr/local/lib/python3.10/dist-packages/joblib/parallel.py\u001b[0m in \u001b[0;36m_dispatch\u001b[0;34m(self, batch)\u001b[0m\n\u001b[1;32m    817\u001b[0m         \u001b[0;32mwith\u001b[0m \u001b[0mself\u001b[0m\u001b[0;34m.\u001b[0m\u001b[0m_lock\u001b[0m\u001b[0;34m:\u001b[0m\u001b[0;34m\u001b[0m\u001b[0;34m\u001b[0m\u001b[0m\n\u001b[1;32m    818\u001b[0m             \u001b[0mjob_idx\u001b[0m \u001b[0;34m=\u001b[0m \u001b[0mlen\u001b[0m\u001b[0;34m(\u001b[0m\u001b[0mself\u001b[0m\u001b[0;34m.\u001b[0m\u001b[0m_jobs\u001b[0m\u001b[0;34m)\u001b[0m\u001b[0;34m\u001b[0m\u001b[0;34m\u001b[0m\u001b[0m\n\u001b[0;32m--> 819\u001b[0;31m             \u001b[0mjob\u001b[0m \u001b[0;34m=\u001b[0m \u001b[0mself\u001b[0m\u001b[0;34m.\u001b[0m\u001b[0m_backend\u001b[0m\u001b[0;34m.\u001b[0m\u001b[0mapply_async\u001b[0m\u001b[0;34m(\u001b[0m\u001b[0mbatch\u001b[0m\u001b[0;34m,\u001b[0m \u001b[0mcallback\u001b[0m\u001b[0;34m=\u001b[0m\u001b[0mcb\u001b[0m\u001b[0;34m)\u001b[0m\u001b[0;34m\u001b[0m\u001b[0;34m\u001b[0m\u001b[0m\n\u001b[0m\u001b[1;32m    820\u001b[0m             \u001b[0;31m# A job can complete so quickly than its callback is\u001b[0m\u001b[0;34m\u001b[0m\u001b[0;34m\u001b[0m\u001b[0m\n\u001b[1;32m    821\u001b[0m             \u001b[0;31m# called before we get here, causing self._jobs to\u001b[0m\u001b[0;34m\u001b[0m\u001b[0;34m\u001b[0m\u001b[0m\n",
            "\u001b[0;32m/usr/local/lib/python3.10/dist-packages/joblib/_parallel_backends.py\u001b[0m in \u001b[0;36mapply_async\u001b[0;34m(self, func, callback)\u001b[0m\n\u001b[1;32m    554\u001b[0m     \u001b[0;32mdef\u001b[0m \u001b[0mapply_async\u001b[0m\u001b[0;34m(\u001b[0m\u001b[0mself\u001b[0m\u001b[0;34m,\u001b[0m \u001b[0mfunc\u001b[0m\u001b[0;34m,\u001b[0m \u001b[0mcallback\u001b[0m\u001b[0;34m=\u001b[0m\u001b[0;32mNone\u001b[0m\u001b[0;34m)\u001b[0m\u001b[0;34m:\u001b[0m\u001b[0;34m\u001b[0m\u001b[0;34m\u001b[0m\u001b[0m\n\u001b[1;32m    555\u001b[0m         \u001b[0;34m\"\"\"Schedule a func to be run\"\"\"\u001b[0m\u001b[0;34m\u001b[0m\u001b[0;34m\u001b[0m\u001b[0m\n\u001b[0;32m--> 556\u001b[0;31m         \u001b[0mfuture\u001b[0m \u001b[0;34m=\u001b[0m \u001b[0mself\u001b[0m\u001b[0;34m.\u001b[0m\u001b[0m_workers\u001b[0m\u001b[0;34m.\u001b[0m\u001b[0msubmit\u001b[0m\u001b[0;34m(\u001b[0m\u001b[0mSafeFunction\u001b[0m\u001b[0;34m(\u001b[0m\u001b[0mfunc\u001b[0m\u001b[0;34m)\u001b[0m\u001b[0;34m)\u001b[0m\u001b[0;34m\u001b[0m\u001b[0;34m\u001b[0m\u001b[0m\n\u001b[0m\u001b[1;32m    557\u001b[0m         \u001b[0mfuture\u001b[0m\u001b[0;34m.\u001b[0m\u001b[0mget\u001b[0m \u001b[0;34m=\u001b[0m \u001b[0mfunctools\u001b[0m\u001b[0;34m.\u001b[0m\u001b[0mpartial\u001b[0m\u001b[0;34m(\u001b[0m\u001b[0mself\u001b[0m\u001b[0;34m.\u001b[0m\u001b[0mwrap_future_result\u001b[0m\u001b[0;34m,\u001b[0m \u001b[0mfuture\u001b[0m\u001b[0;34m)\u001b[0m\u001b[0;34m\u001b[0m\u001b[0;34m\u001b[0m\u001b[0m\n\u001b[1;32m    558\u001b[0m         \u001b[0;32mif\u001b[0m \u001b[0mcallback\u001b[0m \u001b[0;32mis\u001b[0m \u001b[0;32mnot\u001b[0m \u001b[0;32mNone\u001b[0m\u001b[0;34m:\u001b[0m\u001b[0;34m\u001b[0m\u001b[0;34m\u001b[0m\u001b[0m\n",
            "\u001b[0;32m/usr/local/lib/python3.10/dist-packages/joblib/externals/loky/reusable_executor.py\u001b[0m in \u001b[0;36msubmit\u001b[0;34m(self, fn, *args, **kwargs)\u001b[0m\n\u001b[1;32m    174\u001b[0m     \u001b[0;32mdef\u001b[0m \u001b[0msubmit\u001b[0m\u001b[0;34m(\u001b[0m\u001b[0mself\u001b[0m\u001b[0;34m,\u001b[0m \u001b[0mfn\u001b[0m\u001b[0;34m,\u001b[0m \u001b[0;34m*\u001b[0m\u001b[0margs\u001b[0m\u001b[0;34m,\u001b[0m \u001b[0;34m**\u001b[0m\u001b[0mkwargs\u001b[0m\u001b[0;34m)\u001b[0m\u001b[0;34m:\u001b[0m\u001b[0;34m\u001b[0m\u001b[0;34m\u001b[0m\u001b[0m\n\u001b[1;32m    175\u001b[0m         \u001b[0;32mwith\u001b[0m \u001b[0mself\u001b[0m\u001b[0;34m.\u001b[0m\u001b[0m_submit_resize_lock\u001b[0m\u001b[0;34m:\u001b[0m\u001b[0;34m\u001b[0m\u001b[0;34m\u001b[0m\u001b[0m\n\u001b[0;32m--> 176\u001b[0;31m             \u001b[0;32mreturn\u001b[0m \u001b[0msuper\u001b[0m\u001b[0;34m(\u001b[0m\u001b[0;34m)\u001b[0m\u001b[0;34m.\u001b[0m\u001b[0msubmit\u001b[0m\u001b[0;34m(\u001b[0m\u001b[0mfn\u001b[0m\u001b[0;34m,\u001b[0m \u001b[0;34m*\u001b[0m\u001b[0margs\u001b[0m\u001b[0;34m,\u001b[0m \u001b[0;34m**\u001b[0m\u001b[0mkwargs\u001b[0m\u001b[0;34m)\u001b[0m\u001b[0;34m\u001b[0m\u001b[0;34m\u001b[0m\u001b[0m\n\u001b[0m\u001b[1;32m    177\u001b[0m \u001b[0;34m\u001b[0m\u001b[0m\n\u001b[1;32m    178\u001b[0m     \u001b[0;32mdef\u001b[0m \u001b[0m_resize\u001b[0m\u001b[0;34m(\u001b[0m\u001b[0mself\u001b[0m\u001b[0;34m,\u001b[0m \u001b[0mmax_workers\u001b[0m\u001b[0;34m)\u001b[0m\u001b[0;34m:\u001b[0m\u001b[0;34m\u001b[0m\u001b[0;34m\u001b[0m\u001b[0m\n",
            "\u001b[0;32m/usr/local/lib/python3.10/dist-packages/joblib/externals/loky/process_executor.py\u001b[0m in \u001b[0;36msubmit\u001b[0;34m(self, fn, *args, **kwargs)\u001b[0m\n\u001b[1;32m   1127\u001b[0m         \u001b[0;32mwith\u001b[0m \u001b[0mself\u001b[0m\u001b[0;34m.\u001b[0m\u001b[0m_flags\u001b[0m\u001b[0;34m.\u001b[0m\u001b[0mshutdown_lock\u001b[0m\u001b[0;34m:\u001b[0m\u001b[0;34m\u001b[0m\u001b[0;34m\u001b[0m\u001b[0m\n\u001b[1;32m   1128\u001b[0m             \u001b[0;32mif\u001b[0m \u001b[0mself\u001b[0m\u001b[0;34m.\u001b[0m\u001b[0m_flags\u001b[0m\u001b[0;34m.\u001b[0m\u001b[0mbroken\u001b[0m \u001b[0;32mis\u001b[0m \u001b[0;32mnot\u001b[0m \u001b[0;32mNone\u001b[0m\u001b[0;34m:\u001b[0m\u001b[0;34m\u001b[0m\u001b[0;34m\u001b[0m\u001b[0m\n\u001b[0;32m-> 1129\u001b[0;31m                 \u001b[0;32mraise\u001b[0m \u001b[0mself\u001b[0m\u001b[0;34m.\u001b[0m\u001b[0m_flags\u001b[0m\u001b[0;34m.\u001b[0m\u001b[0mbroken\u001b[0m\u001b[0;34m\u001b[0m\u001b[0;34m\u001b[0m\u001b[0m\n\u001b[0m\u001b[1;32m   1130\u001b[0m             \u001b[0;32mif\u001b[0m \u001b[0mself\u001b[0m\u001b[0;34m.\u001b[0m\u001b[0m_flags\u001b[0m\u001b[0;34m.\u001b[0m\u001b[0mshutdown\u001b[0m\u001b[0;34m:\u001b[0m\u001b[0;34m\u001b[0m\u001b[0;34m\u001b[0m\u001b[0m\n\u001b[1;32m   1131\u001b[0m                 raise ShutdownExecutorError(\n",
            "\u001b[0;31mBrokenProcessPool\u001b[0m: A task has failed to un-serialize. Please ensure that the arguments of the function are all picklable."
          ]
        }
      ]
    },
    {
      "cell_type": "markdown",
      "source": [
        "5. Named Entity Recognition"
      ],
      "metadata": {
        "id": "Icn7OdCC-7WH"
      }
    },
    {
      "cell_type": "code",
      "source": [
        "# TODO : Imports\n",
        "import nltk\n",
        "import numpy as np\n",
        "import pandas as pd\n",
        "from sklearn.feature_extraction.text import CountVectorizer"
      ],
      "metadata": {
        "colab": {
          "base_uri": "https://localhost:8080/"
        },
        "id": "b47HFBNy-8DP",
        "outputId": "208463f4-4843-4ee6-de98-7952cb503e9f"
      },
      "execution_count": 38,
      "outputs": [
        {
          "output_type": "stream",
          "name": "stderr",
          "text": [
            "/usr/local/lib/python3.10/dist-packages/ipykernel/ipkernel.py:283: DeprecationWarning: `should_run_async` will not call `transform_cell` automatically in the future. Please pass the result to `transformed_cell` argument and any exception that happen during thetransform in `preprocessing_exc_tuple` in IPython 7.17 and above.\n",
            "  and should_run_async(code)\n"
          ]
        }
      ]
    },
    {
      "cell_type": "code",
      "source": [
        "# TODO : load file and have a look at it\n",
        "data = pd.read_csv('ada_lovelace.txt')\n",
        "data"
      ],
      "metadata": {
        "colab": {
          "base_uri": "https://localhost:8080/",
          "height": 335
        },
        "id": "mXIUvEBjAYqH",
        "outputId": "4caed16d-570a-44fb-c54c-cf7ca3a38899"
      },
      "execution_count": 40,
      "outputs": [
        {
          "output_type": "stream",
          "name": "stderr",
          "text": [
            "/usr/local/lib/python3.10/dist-packages/ipykernel/ipkernel.py:283: DeprecationWarning: `should_run_async` will not call `transform_cell` automatically in the future. Please pass the result to `transformed_cell` argument and any exception that happen during thetransform in `preprocessing_exc_tuple` in IPython 7.17 and above.\n",
            "  and should_run_async(code)\n"
          ]
        },
        {
          "output_type": "execute_result",
          "data": {
            "text/plain": [
              "                                    Augusta Ada King  \\\n",
              "0  Lovelace became close friends with her tutor M...   \n",
              "\n",
              "   Countess of Lovelace (née Byron; 10 December 1815 – 27 November 1852) was an English mathematician and writer  \\\n",
              "0   who introduced her to Charles Babbage in 1833...                                                               \n",
              "\n",
              "   chiefly known for her work on Charles Babbage's proposed mechanical general-purpose computer  \\\n",
              "0   and they corresponded for many years. Other a...                                              \n",
              "\n",
              "   the Analytical Engine. She was the first to recognise that the machine had applications beyond pure calculation  \\\n",
              "0                                 Sir David Brewster                                                                 \n",
              "\n",
              "   and published the first algorithm intended to be carried out by such a machine. As a result  \\\n",
              "0                                 Charles Wheatstone                                             \n",
              "\n",
              "   she is sometimes regarded as the first to recognise the full potential of a \"computing machine\" and one of the first computer programmers.   \n",
              "0    Michael Faraday and the author Charles Dickens.                                                                                            "
            ],
            "text/html": [
              "\n",
              "  <div id=\"df-f953f2cc-7d6c-49d9-8bfa-c97d57843edb\">\n",
              "    <div class=\"colab-df-container\">\n",
              "      <div>\n",
              "<style scoped>\n",
              "    .dataframe tbody tr th:only-of-type {\n",
              "        vertical-align: middle;\n",
              "    }\n",
              "\n",
              "    .dataframe tbody tr th {\n",
              "        vertical-align: top;\n",
              "    }\n",
              "\n",
              "    .dataframe thead th {\n",
              "        text-align: right;\n",
              "    }\n",
              "</style>\n",
              "<table border=\"1\" class=\"dataframe\">\n",
              "  <thead>\n",
              "    <tr style=\"text-align: right;\">\n",
              "      <th></th>\n",
              "      <th>Augusta Ada King</th>\n",
              "      <th>Countess of Lovelace (née Byron; 10 December 1815 – 27 November 1852) was an English mathematician and writer</th>\n",
              "      <th>chiefly known for her work on Charles Babbage's proposed mechanical general-purpose computer</th>\n",
              "      <th>the Analytical Engine. She was the first to recognise that the machine had applications beyond pure calculation</th>\n",
              "      <th>and published the first algorithm intended to be carried out by such a machine. As a result</th>\n",
              "      <th>she is sometimes regarded as the first to recognise the full potential of a \"computing machine\" and one of the first computer programmers.</th>\n",
              "    </tr>\n",
              "  </thead>\n",
              "  <tbody>\n",
              "    <tr>\n",
              "      <th>0</th>\n",
              "      <td>Lovelace became close friends with her tutor M...</td>\n",
              "      <td>who introduced her to Charles Babbage in 1833...</td>\n",
              "      <td>and they corresponded for many years. Other a...</td>\n",
              "      <td>Sir David Brewster</td>\n",
              "      <td>Charles Wheatstone</td>\n",
              "      <td>Michael Faraday and the author Charles Dickens.</td>\n",
              "    </tr>\n",
              "  </tbody>\n",
              "</table>\n",
              "</div>\n",
              "      <button class=\"colab-df-convert\" onclick=\"convertToInteractive('df-f953f2cc-7d6c-49d9-8bfa-c97d57843edb')\"\n",
              "              title=\"Convert this dataframe to an interactive table.\"\n",
              "              style=\"display:none;\">\n",
              "        \n",
              "  <svg xmlns=\"http://www.w3.org/2000/svg\" height=\"24px\"viewBox=\"0 0 24 24\"\n",
              "       width=\"24px\">\n",
              "    <path d=\"M0 0h24v24H0V0z\" fill=\"none\"/>\n",
              "    <path d=\"M18.56 5.44l.94 2.06.94-2.06 2.06-.94-2.06-.94-.94-2.06-.94 2.06-2.06.94zm-11 1L8.5 8.5l.94-2.06 2.06-.94-2.06-.94L8.5 2.5l-.94 2.06-2.06.94zm10 10l.94 2.06.94-2.06 2.06-.94-2.06-.94-.94-2.06-.94 2.06-2.06.94z\"/><path d=\"M17.41 7.96l-1.37-1.37c-.4-.4-.92-.59-1.43-.59-.52 0-1.04.2-1.43.59L10.3 9.45l-7.72 7.72c-.78.78-.78 2.05 0 2.83L4 21.41c.39.39.9.59 1.41.59.51 0 1.02-.2 1.41-.59l7.78-7.78 2.81-2.81c.8-.78.8-2.07 0-2.86zM5.41 20L4 18.59l7.72-7.72 1.47 1.35L5.41 20z\"/>\n",
              "  </svg>\n",
              "      </button>\n",
              "      \n",
              "  <style>\n",
              "    .colab-df-container {\n",
              "      display:flex;\n",
              "      flex-wrap:wrap;\n",
              "      gap: 12px;\n",
              "    }\n",
              "\n",
              "    .colab-df-convert {\n",
              "      background-color: #E8F0FE;\n",
              "      border: none;\n",
              "      border-radius: 50%;\n",
              "      cursor: pointer;\n",
              "      display: none;\n",
              "      fill: #1967D2;\n",
              "      height: 32px;\n",
              "      padding: 0 0 0 0;\n",
              "      width: 32px;\n",
              "    }\n",
              "\n",
              "    .colab-df-convert:hover {\n",
              "      background-color: #E2EBFA;\n",
              "      box-shadow: 0px 1px 2px rgba(60, 64, 67, 0.3), 0px 1px 3px 1px rgba(60, 64, 67, 0.15);\n",
              "      fill: #174EA6;\n",
              "    }\n",
              "\n",
              "    [theme=dark] .colab-df-convert {\n",
              "      background-color: #3B4455;\n",
              "      fill: #D2E3FC;\n",
              "    }\n",
              "\n",
              "    [theme=dark] .colab-df-convert:hover {\n",
              "      background-color: #434B5C;\n",
              "      box-shadow: 0px 1px 3px 1px rgba(0, 0, 0, 0.15);\n",
              "      filter: drop-shadow(0px 1px 2px rgba(0, 0, 0, 0.3));\n",
              "      fill: #FFFFFF;\n",
              "    }\n",
              "  </style>\n",
              "\n",
              "      <script>\n",
              "        const buttonEl =\n",
              "          document.querySelector('#df-f953f2cc-7d6c-49d9-8bfa-c97d57843edb button.colab-df-convert');\n",
              "        buttonEl.style.display =\n",
              "          google.colab.kernel.accessAllowed ? 'block' : 'none';\n",
              "\n",
              "        async function convertToInteractive(key) {\n",
              "          const element = document.querySelector('#df-f953f2cc-7d6c-49d9-8bfa-c97d57843edb');\n",
              "          const dataTable =\n",
              "            await google.colab.kernel.invokeFunction('convertToInteractive',\n",
              "                                                     [key], {});\n",
              "          if (!dataTable) return;\n",
              "\n",
              "          const docLinkHtml = 'Like what you see? Visit the ' +\n",
              "            '<a target=\"_blank\" href=https://colab.research.google.com/notebooks/data_table.ipynb>data table notebook</a>'\n",
              "            + ' to learn more about interactive tables.';\n",
              "          element.innerHTML = '';\n",
              "          dataTable['output_type'] = 'display_data';\n",
              "          await google.colab.output.renderOutput(dataTable, element);\n",
              "          const docLink = document.createElement('div');\n",
              "          docLink.innerHTML = docLinkHtml;\n",
              "          element.appendChild(docLink);\n",
              "        }\n",
              "      </script>\n",
              "    </div>\n",
              "  </div>\n",
              "  "
            ]
          },
          "metadata": {},
          "execution_count": 40
        }
      ]
    },
    {
      "cell_type": "code",
      "source": [
        "# TODO : Named Entities Recognition\n",
        "import spacy\n",
        "\n",
        "# Load the SpaCy English language model\n",
        "nlp = spacy.load('en_core_web_sm')\n",
        "\n",
        "# Example document\n",
        "document = \"Apple Inc. was founded by Steve Jobs and Steve Wozniak in 1976. It is headquartered in Cupertino, California.\"\n",
        "\n",
        "# Process the document\n",
        "doc = nlp(document)\n",
        "\n",
        "# Extract entities and their tags\n",
        "entities = [(entity.text, entity.label_) for entity in doc.ents]\n",
        "\n",
        "# Print the entities and their tags\n",
        "for entity, tag in entities:\n",
        "    print(f\"Entity: {entity}, Tag: {tag}\")\n"
      ],
      "metadata": {
        "colab": {
          "base_uri": "https://localhost:8080/"
        },
        "id": "7cvhfpWoBahP",
        "outputId": "3558d2de-f8f3-4bba-be6c-7c7e62cb3273"
      },
      "execution_count": 43,
      "outputs": [
        {
          "output_type": "stream",
          "name": "stderr",
          "text": [
            "/usr/local/lib/python3.10/dist-packages/ipykernel/ipkernel.py:283: DeprecationWarning: `should_run_async` will not call `transform_cell` automatically in the future. Please pass the result to `transformed_cell` argument and any exception that happen during thetransform in `preprocessing_exc_tuple` in IPython 7.17 and above.\n",
            "  and should_run_async(code)\n"
          ]
        },
        {
          "output_type": "stream",
          "name": "stdout",
          "text": [
            "Entity: Apple Inc., Tag: ORG\n",
            "Entity: Steve Jobs, Tag: PERSON\n",
            "Entity: Steve Wozniak, Tag: PERSON\n",
            "Entity: 1976, Tag: DATE\n",
            "Entity: Cupertino, Tag: GPE\n",
            "Entity: California, Tag: GPE\n"
          ]
        }
      ]
    },
    {
      "cell_type": "code",
      "source": [
        "# TODO : NER visualization\n",
        "\n",
        "from spacy import displacy\n",
        "\n",
        "# Generate the NER visualization\n",
        "html = displacy.render(doc, style='ent')\n",
        "\n",
        "# Save the visualization to an HTML file\n",
        "with open('ner_visualization.html', 'w', encoding='utf-8') as file:\n",
        "    file.write(html)\n",
        "\n",
        "# Start a web server to display the visualization\n",
        "displacy.serve(doc, style='ent')\n"
      ],
      "metadata": {
        "id": "o4NpcIhWJgJR"
      },
      "execution_count": null,
      "outputs": []
    },
    {
      "cell_type": "code",
      "source": [
        "# TODO : `replace_name_by_redacted`\n",
        "\n",
        "# Load the SpaCy English language model\n",
        "nlp = spacy.load('en_core_web_sm')\n",
        "\n",
        "def replace_name_by_redacted(document):\n",
        "    # Process the document\n",
        "    doc = nlp(document)\n",
        "    \n",
        "    # Iterate over the entities in the document\n",
        "    for entity in doc.ents:\n",
        "        if entity.label_ == \"PERSON\":\n",
        "            # Replace the entity text with \"[REDACTED]\"\n",
        "            document = document.replace(entity.text, \"[REDACTED]\")\n",
        "    \n",
        "    return document\n",
        "\n",
        "# Example document\n",
        "document = \"Apple Inc. was founded by Steve Jobs and Steve Wozniak in 1976.\"\n",
        "\n",
        "# Apply the function to the document\n",
        "redacted_document = replace_name_by_redacted(document)\n",
        "\n",
        "# Print the redacted document\n",
        "print(redacted_document)\n"
      ],
      "metadata": {
        "colab": {
          "base_uri": "https://localhost:8080/"
        },
        "id": "yZCJ9jaeJhlk",
        "outputId": "61f9b369-bb76-4336-bbcb-7ff247d54046"
      },
      "execution_count": 46,
      "outputs": [
        {
          "output_type": "stream",
          "name": "stderr",
          "text": [
            "/usr/local/lib/python3.10/dist-packages/ipykernel/ipkernel.py:283: DeprecationWarning: `should_run_async` will not call `transform_cell` automatically in the future. Please pass the result to `transformed_cell` argument and any exception that happen during thetransform in `preprocessing_exc_tuple` in IPython 7.17 and above.\n",
            "  and should_run_async(code)\n"
          ]
        },
        {
          "output_type": "stream",
          "name": "stdout",
          "text": [
            "Apple Inc. was founded by [REDACTED] and [REDACTED] in 1976.\n"
          ]
        }
      ]
    },
    {
      "cell_type": "code",
      "source": [
        "def make_doc_GDPR_compliant(document):\n",
        "    # Process the document\n",
        "    doc = nlp(document)\n",
        "\n",
        "    # Iterate over the entities in the document\n",
        "    for entity in doc.ents:\n",
        "        if entity.label_ == \"PERSON\":\n",
        "            # Replace the entity text with \"[REDACTED]\"\n",
        "            document = document.replace(entity.text, \"[REDACTED]\")\n",
        "\n",
        "    return document\n",
        "\n",
        "# Read the document from a file\n",
        "with open('ada_lovelace.txt', 'r', encoding='utf-8') as file:\n",
        "    document = file.read()\n",
        "\n",
        "# Apply the function to the document\n",
        "gdpr_compliant_document = make_doc_GDPR_compliant(document)\n",
        "\n",
        "# Write the GDPR compliant document back to the file\n",
        "with open('output.txt', 'w', encoding='utf-8') as file:\n",
        "    file.write(gdpr_compliant_document)\n",
        "\n",
        "print(\"GDPR compliant document written to output.txt.\")\n"
      ],
      "metadata": {
        "colab": {
          "base_uri": "https://localhost:8080/"
        },
        "id": "MbKbIqddKEDx",
        "outputId": "7f918d62-da00-4df1-8d3d-ac7f7fda1e43"
      },
      "execution_count": 50,
      "outputs": [
        {
          "output_type": "stream",
          "name": "stdout",
          "text": [
            "GDPR compliant document written to output.txt.\n"
          ]
        },
        {
          "output_type": "stream",
          "name": "stderr",
          "text": [
            "/usr/local/lib/python3.10/dist-packages/ipykernel/ipkernel.py:283: DeprecationWarning: `should_run_async` will not call `transform_cell` automatically in the future. Please pass the result to `transformed_cell` argument and any exception that happen during thetransform in `preprocessing_exc_tuple` in IPython 7.17 and above.\n",
            "  and should_run_async(code)\n"
          ]
        }
      ]
    },
    {
      "cell_type": "markdown",
      "source": [
        "**VI. Exercise**\n",
        "<br>1/ By using the job market data, finish the following task to analyze the top important keywords\n",
        "for IT sector."
      ],
      "metadata": {
        "id": "2AYxlKjrL72a"
      }
    },
    {
      "cell_type": "code",
      "source": [
        "import pandas as pd\n",
        "from sklearn.feature_extraction.text import CountVectorizer\n",
        "from sklearn.feature_extraction.text import TfidfTransformer\n",
        "from sklearn.feature_selection import SelectKBest, chi2\n",
        "\n",
        "# Read the CSV file into a DataFrame\n",
        "df = pd.read_csv('job-market.csv')\n",
        "df\n"
      ],
      "metadata": {
        "colab": {
          "base_uri": "https://localhost:8080/",
          "height": 869
        },
        "id": "PWeT3jjPL964",
        "outputId": "78dbd626-eb00-4b7e-9616-165ec2edd9d2"
      },
      "execution_count": 55,
      "outputs": [
        {
          "output_type": "stream",
          "name": "stderr",
          "text": [
            "/usr/local/lib/python3.10/dist-packages/ipykernel/ipkernel.py:283: DeprecationWarning: `should_run_async` will not call `transform_cell` automatically in the future. Please pass the result to `transformed_cell` argument and any exception that happen during thetransform in `preprocessing_exc_tuple` in IPython 7.17 and above.\n",
            "  and should_run_async(code)\n"
          ]
        },
        {
          "output_type": "execute_result",
          "data": {
            "text/plain": [
              "               Id                                              Title  \\\n",
              "0      37404348.0                           Casual Stock Replenisher   \n",
              "1      37404337.0                           Casual Stock Replenisher   \n",
              "2      37404356.0  RETAIL SALES SUPERSTARS and STYLISTS Wanted - ...   \n",
              "3      37404330.0                              Team member - Belrose   \n",
              "4      37404308.0  Business Banking Contact Centre Specialist, Ni...   \n",
              "...           ...                                                ...   \n",
              "40784         NaN                                                NaN   \n",
              "40785         NaN                                                NaN   \n",
              "40786         NaN                                                NaN   \n",
              "40787         NaN                                                NaN   \n",
              "40788         NaN                                                NaN   \n",
              "\n",
              "                                              Company  \\\n",
              "0                                         Aldi Stores   \n",
              "1                                         Aldi Stores   \n",
              "2                                 LB Creative Pty Ltd   \n",
              "3                              Anaconda Group Pty Ltd   \n",
              "4      Commonwealth Bank - Business & Private Banking   \n",
              "...                                               ...   \n",
              "40784                                             NaN   \n",
              "40785                                             NaN   \n",
              "40786                                             NaN   \n",
              "40787                                             NaN   \n",
              "40788                                             NaN   \n",
              "\n",
              "                           Date                 Location  \\\n",
              "0      2018-10-07T00:00:00.000Z                   Sydney   \n",
              "1      2018-10-07T00:00:00.000Z    Richmond & Hawkesbury   \n",
              "2      2018-10-07T00:00:00.000Z                 Brisbane   \n",
              "3      2018-10-07T00:00:00.000Z  Gosford & Central Coast   \n",
              "4      2018-10-07T00:00:00.000Z                   Sydney   \n",
              "...                         ...                      ...   \n",
              "40784                       NaN                      NaN   \n",
              "40785                       NaN                      NaN   \n",
              "40786                       NaN                      NaN   \n",
              "40787                       NaN                      NaN   \n",
              "40788                       NaN                      NaN   \n",
              "\n",
              "                              Area                  Classification  \\\n",
              "0      North West & Hills District      Retail & Consumer Products   \n",
              "1                              NaN      Retail & Consumer Products   \n",
              "2              CBD & Inner Suburbs      Retail & Consumer Products   \n",
              "3                              NaN      Retail & Consumer Products   \n",
              "4            Ryde & Macquarie Park  Call Centre & Customer Service   \n",
              "...                            ...                             ...   \n",
              "40784                          NaN                             NaN   \n",
              "40785                          NaN                             NaN   \n",
              "40786                          NaN                             NaN   \n",
              "40787                          NaN                             NaN   \n",
              "40788                          NaN                             NaN   \n",
              "\n",
              "       SubClassification                                        Requirement  \\\n",
              "0      Retail Assistants  Our Casual Stock Replenishers pride themselves...   \n",
              "1      Retail Assistants  Our Casual Stock Replenishers pride themselves...   \n",
              "2      Retail Assistants  BRAND NEW FLAGSHIP STORE OPENING - SUNSHINE PLAZA   \n",
              "3      Retail Assistants  Bring it on - do you love the great outdoors a...   \n",
              "4        Sales - Inbound  We are seeking highly articulate, enthusiastic...   \n",
              "...                  ...                                                ...   \n",
              "40784                NaN                                                NaN   \n",
              "40785                NaN                                                NaN   \n",
              "40786                NaN                                                NaN   \n",
              "40787                NaN                                                NaN   \n",
              "40788                NaN                                                NaN   \n",
              "\n",
              "      FullDescription  LowestSalary  HighestSalary JobType  \n",
              "0                 NaN           0.0           30.0     NaN  \n",
              "1                 NaN           0.0           30.0     NaN  \n",
              "2                 NaN           0.0           30.0     NaN  \n",
              "3                 NaN           0.0           30.0     NaN  \n",
              "4                 NaN           0.0           30.0     NaN  \n",
              "...               ...           ...            ...     ...  \n",
              "40784             NaN           NaN            NaN     NaN  \n",
              "40785             NaN           NaN            NaN     NaN  \n",
              "40786             NaN           NaN            NaN     NaN  \n",
              "40787             NaN           NaN            NaN     NaN  \n",
              "40788             NaN           NaN            NaN     NaN  \n",
              "\n",
              "[40789 rows x 13 columns]"
            ],
            "text/html": [
              "\n",
              "  <div id=\"df-f632cdc6-c3dc-457b-bc8b-9092fd091da0\">\n",
              "    <div class=\"colab-df-container\">\n",
              "      <div>\n",
              "<style scoped>\n",
              "    .dataframe tbody tr th:only-of-type {\n",
              "        vertical-align: middle;\n",
              "    }\n",
              "\n",
              "    .dataframe tbody tr th {\n",
              "        vertical-align: top;\n",
              "    }\n",
              "\n",
              "    .dataframe thead th {\n",
              "        text-align: right;\n",
              "    }\n",
              "</style>\n",
              "<table border=\"1\" class=\"dataframe\">\n",
              "  <thead>\n",
              "    <tr style=\"text-align: right;\">\n",
              "      <th></th>\n",
              "      <th>Id</th>\n",
              "      <th>Title</th>\n",
              "      <th>Company</th>\n",
              "      <th>Date</th>\n",
              "      <th>Location</th>\n",
              "      <th>Area</th>\n",
              "      <th>Classification</th>\n",
              "      <th>SubClassification</th>\n",
              "      <th>Requirement</th>\n",
              "      <th>FullDescription</th>\n",
              "      <th>LowestSalary</th>\n",
              "      <th>HighestSalary</th>\n",
              "      <th>JobType</th>\n",
              "    </tr>\n",
              "  </thead>\n",
              "  <tbody>\n",
              "    <tr>\n",
              "      <th>0</th>\n",
              "      <td>37404348.0</td>\n",
              "      <td>Casual Stock Replenisher</td>\n",
              "      <td>Aldi Stores</td>\n",
              "      <td>2018-10-07T00:00:00.000Z</td>\n",
              "      <td>Sydney</td>\n",
              "      <td>North West &amp; Hills District</td>\n",
              "      <td>Retail &amp; Consumer Products</td>\n",
              "      <td>Retail Assistants</td>\n",
              "      <td>Our Casual Stock Replenishers pride themselves...</td>\n",
              "      <td>NaN</td>\n",
              "      <td>0.0</td>\n",
              "      <td>30.0</td>\n",
              "      <td>NaN</td>\n",
              "    </tr>\n",
              "    <tr>\n",
              "      <th>1</th>\n",
              "      <td>37404337.0</td>\n",
              "      <td>Casual Stock Replenisher</td>\n",
              "      <td>Aldi Stores</td>\n",
              "      <td>2018-10-07T00:00:00.000Z</td>\n",
              "      <td>Richmond &amp; Hawkesbury</td>\n",
              "      <td>NaN</td>\n",
              "      <td>Retail &amp; Consumer Products</td>\n",
              "      <td>Retail Assistants</td>\n",
              "      <td>Our Casual Stock Replenishers pride themselves...</td>\n",
              "      <td>NaN</td>\n",
              "      <td>0.0</td>\n",
              "      <td>30.0</td>\n",
              "      <td>NaN</td>\n",
              "    </tr>\n",
              "    <tr>\n",
              "      <th>2</th>\n",
              "      <td>37404356.0</td>\n",
              "      <td>RETAIL SALES SUPERSTARS and STYLISTS Wanted - ...</td>\n",
              "      <td>LB Creative Pty Ltd</td>\n",
              "      <td>2018-10-07T00:00:00.000Z</td>\n",
              "      <td>Brisbane</td>\n",
              "      <td>CBD &amp; Inner Suburbs</td>\n",
              "      <td>Retail &amp; Consumer Products</td>\n",
              "      <td>Retail Assistants</td>\n",
              "      <td>BRAND NEW FLAGSHIP STORE OPENING - SUNSHINE PLAZA</td>\n",
              "      <td>NaN</td>\n",
              "      <td>0.0</td>\n",
              "      <td>30.0</td>\n",
              "      <td>NaN</td>\n",
              "    </tr>\n",
              "    <tr>\n",
              "      <th>3</th>\n",
              "      <td>37404330.0</td>\n",
              "      <td>Team member - Belrose</td>\n",
              "      <td>Anaconda Group Pty Ltd</td>\n",
              "      <td>2018-10-07T00:00:00.000Z</td>\n",
              "      <td>Gosford &amp; Central Coast</td>\n",
              "      <td>NaN</td>\n",
              "      <td>Retail &amp; Consumer Products</td>\n",
              "      <td>Retail Assistants</td>\n",
              "      <td>Bring it on - do you love the great outdoors a...</td>\n",
              "      <td>NaN</td>\n",
              "      <td>0.0</td>\n",
              "      <td>30.0</td>\n",
              "      <td>NaN</td>\n",
              "    </tr>\n",
              "    <tr>\n",
              "      <th>4</th>\n",
              "      <td>37404308.0</td>\n",
              "      <td>Business Banking Contact Centre Specialist, Ni...</td>\n",
              "      <td>Commonwealth Bank - Business &amp; Private Banking</td>\n",
              "      <td>2018-10-07T00:00:00.000Z</td>\n",
              "      <td>Sydney</td>\n",
              "      <td>Ryde &amp; Macquarie Park</td>\n",
              "      <td>Call Centre &amp; Customer Service</td>\n",
              "      <td>Sales - Inbound</td>\n",
              "      <td>We are seeking highly articulate, enthusiastic...</td>\n",
              "      <td>NaN</td>\n",
              "      <td>0.0</td>\n",
              "      <td>30.0</td>\n",
              "      <td>NaN</td>\n",
              "    </tr>\n",
              "    <tr>\n",
              "      <th>...</th>\n",
              "      <td>...</td>\n",
              "      <td>...</td>\n",
              "      <td>...</td>\n",
              "      <td>...</td>\n",
              "      <td>...</td>\n",
              "      <td>...</td>\n",
              "      <td>...</td>\n",
              "      <td>...</td>\n",
              "      <td>...</td>\n",
              "      <td>...</td>\n",
              "      <td>...</td>\n",
              "      <td>...</td>\n",
              "      <td>...</td>\n",
              "    </tr>\n",
              "    <tr>\n",
              "      <th>40784</th>\n",
              "      <td>NaN</td>\n",
              "      <td>NaN</td>\n",
              "      <td>NaN</td>\n",
              "      <td>NaN</td>\n",
              "      <td>NaN</td>\n",
              "      <td>NaN</td>\n",
              "      <td>NaN</td>\n",
              "      <td>NaN</td>\n",
              "      <td>NaN</td>\n",
              "      <td>NaN</td>\n",
              "      <td>NaN</td>\n",
              "      <td>NaN</td>\n",
              "      <td>NaN</td>\n",
              "    </tr>\n",
              "    <tr>\n",
              "      <th>40785</th>\n",
              "      <td>NaN</td>\n",
              "      <td>NaN</td>\n",
              "      <td>NaN</td>\n",
              "      <td>NaN</td>\n",
              "      <td>NaN</td>\n",
              "      <td>NaN</td>\n",
              "      <td>NaN</td>\n",
              "      <td>NaN</td>\n",
              "      <td>NaN</td>\n",
              "      <td>NaN</td>\n",
              "      <td>NaN</td>\n",
              "      <td>NaN</td>\n",
              "      <td>NaN</td>\n",
              "    </tr>\n",
              "    <tr>\n",
              "      <th>40786</th>\n",
              "      <td>NaN</td>\n",
              "      <td>NaN</td>\n",
              "      <td>NaN</td>\n",
              "      <td>NaN</td>\n",
              "      <td>NaN</td>\n",
              "      <td>NaN</td>\n",
              "      <td>NaN</td>\n",
              "      <td>NaN</td>\n",
              "      <td>NaN</td>\n",
              "      <td>NaN</td>\n",
              "      <td>NaN</td>\n",
              "      <td>NaN</td>\n",
              "      <td>NaN</td>\n",
              "    </tr>\n",
              "    <tr>\n",
              "      <th>40787</th>\n",
              "      <td>NaN</td>\n",
              "      <td>NaN</td>\n",
              "      <td>NaN</td>\n",
              "      <td>NaN</td>\n",
              "      <td>NaN</td>\n",
              "      <td>NaN</td>\n",
              "      <td>NaN</td>\n",
              "      <td>NaN</td>\n",
              "      <td>NaN</td>\n",
              "      <td>NaN</td>\n",
              "      <td>NaN</td>\n",
              "      <td>NaN</td>\n",
              "      <td>NaN</td>\n",
              "    </tr>\n",
              "    <tr>\n",
              "      <th>40788</th>\n",
              "      <td>NaN</td>\n",
              "      <td>NaN</td>\n",
              "      <td>NaN</td>\n",
              "      <td>NaN</td>\n",
              "      <td>NaN</td>\n",
              "      <td>NaN</td>\n",
              "      <td>NaN</td>\n",
              "      <td>NaN</td>\n",
              "      <td>NaN</td>\n",
              "      <td>NaN</td>\n",
              "      <td>NaN</td>\n",
              "      <td>NaN</td>\n",
              "      <td>NaN</td>\n",
              "    </tr>\n",
              "  </tbody>\n",
              "</table>\n",
              "<p>40789 rows × 13 columns</p>\n",
              "</div>\n",
              "      <button class=\"colab-df-convert\" onclick=\"convertToInteractive('df-f632cdc6-c3dc-457b-bc8b-9092fd091da0')\"\n",
              "              title=\"Convert this dataframe to an interactive table.\"\n",
              "              style=\"display:none;\">\n",
              "        \n",
              "  <svg xmlns=\"http://www.w3.org/2000/svg\" height=\"24px\"viewBox=\"0 0 24 24\"\n",
              "       width=\"24px\">\n",
              "    <path d=\"M0 0h24v24H0V0z\" fill=\"none\"/>\n",
              "    <path d=\"M18.56 5.44l.94 2.06.94-2.06 2.06-.94-2.06-.94-.94-2.06-.94 2.06-2.06.94zm-11 1L8.5 8.5l.94-2.06 2.06-.94-2.06-.94L8.5 2.5l-.94 2.06-2.06.94zm10 10l.94 2.06.94-2.06 2.06-.94-2.06-.94-.94-2.06-.94 2.06-2.06.94z\"/><path d=\"M17.41 7.96l-1.37-1.37c-.4-.4-.92-.59-1.43-.59-.52 0-1.04.2-1.43.59L10.3 9.45l-7.72 7.72c-.78.78-.78 2.05 0 2.83L4 21.41c.39.39.9.59 1.41.59.51 0 1.02-.2 1.41-.59l7.78-7.78 2.81-2.81c.8-.78.8-2.07 0-2.86zM5.41 20L4 18.59l7.72-7.72 1.47 1.35L5.41 20z\"/>\n",
              "  </svg>\n",
              "      </button>\n",
              "      \n",
              "  <style>\n",
              "    .colab-df-container {\n",
              "      display:flex;\n",
              "      flex-wrap:wrap;\n",
              "      gap: 12px;\n",
              "    }\n",
              "\n",
              "    .colab-df-convert {\n",
              "      background-color: #E8F0FE;\n",
              "      border: none;\n",
              "      border-radius: 50%;\n",
              "      cursor: pointer;\n",
              "      display: none;\n",
              "      fill: #1967D2;\n",
              "      height: 32px;\n",
              "      padding: 0 0 0 0;\n",
              "      width: 32px;\n",
              "    }\n",
              "\n",
              "    .colab-df-convert:hover {\n",
              "      background-color: #E2EBFA;\n",
              "      box-shadow: 0px 1px 2px rgba(60, 64, 67, 0.3), 0px 1px 3px 1px rgba(60, 64, 67, 0.15);\n",
              "      fill: #174EA6;\n",
              "    }\n",
              "\n",
              "    [theme=dark] .colab-df-convert {\n",
              "      background-color: #3B4455;\n",
              "      fill: #D2E3FC;\n",
              "    }\n",
              "\n",
              "    [theme=dark] .colab-df-convert:hover {\n",
              "      background-color: #434B5C;\n",
              "      box-shadow: 0px 1px 3px 1px rgba(0, 0, 0, 0.15);\n",
              "      filter: drop-shadow(0px 1px 2px rgba(0, 0, 0, 0.3));\n",
              "      fill: #FFFFFF;\n",
              "    }\n",
              "  </style>\n",
              "\n",
              "      <script>\n",
              "        const buttonEl =\n",
              "          document.querySelector('#df-f632cdc6-c3dc-457b-bc8b-9092fd091da0 button.colab-df-convert');\n",
              "        buttonEl.style.display =\n",
              "          google.colab.kernel.accessAllowed ? 'block' : 'none';\n",
              "\n",
              "        async function convertToInteractive(key) {\n",
              "          const element = document.querySelector('#df-f632cdc6-c3dc-457b-bc8b-9092fd091da0');\n",
              "          const dataTable =\n",
              "            await google.colab.kernel.invokeFunction('convertToInteractive',\n",
              "                                                     [key], {});\n",
              "          if (!dataTable) return;\n",
              "\n",
              "          const docLinkHtml = 'Like what you see? Visit the ' +\n",
              "            '<a target=\"_blank\" href=https://colab.research.google.com/notebooks/data_table.ipynb>data table notebook</a>'\n",
              "            + ' to learn more about interactive tables.';\n",
              "          element.innerHTML = '';\n",
              "          dataTable['output_type'] = 'display_data';\n",
              "          await google.colab.output.renderOutput(dataTable, element);\n",
              "          const docLink = document.createElement('div');\n",
              "          docLink.innerHTML = docLinkHtml;\n",
              "          element.appendChild(docLink);\n",
              "        }\n",
              "      </script>\n",
              "    </div>\n",
              "  </div>\n",
              "  "
            ]
          },
          "metadata": {},
          "execution_count": 55
        }
      ]
    },
    {
      "cell_type": "markdown",
      "source": [
        "Put the description of all jobs into a list."
      ],
      "metadata": {
        "id": "GzGaUf_zSUO3"
      }
    },
    {
      "cell_type": "code",
      "source": [
        "# Filter jobs for IT sector\n",
        "it_jobs = df[df['Classification'].str.contains('IT', case=False, na=False)]"
      ],
      "metadata": {
        "colab": {
          "base_uri": "https://localhost:8080/"
        },
        "id": "AqpmNPFqPCJw",
        "outputId": "0e1050ad-dc16-4cfc-9f70-d62704f67f15"
      },
      "execution_count": 57,
      "outputs": [
        {
          "output_type": "stream",
          "name": "stderr",
          "text": [
            "/usr/local/lib/python3.10/dist-packages/ipykernel/ipkernel.py:283: DeprecationWarning: `should_run_async` will not call `transform_cell` automatically in the future. Please pass the result to `transformed_cell` argument and any exception that happen during thetransform in `preprocessing_exc_tuple` in IPython 7.17 and above.\n",
            "  and should_run_async(code)\n"
          ]
        }
      ]
    },
    {
      "cell_type": "markdown",
      "source": [
        "Put the description of all jobs into a list."
      ],
      "metadata": {
        "id": "gxhFWBWHSQWn"
      }
    },
    {
      "cell_type": "code",
      "source": [
        "# Drop rows with missing values in the 'FullDescription' column\n",
        "it_jobs = it_jobs.dropna(subset=['FullDescription'])\n",
        "# Extract job descriptions into a list\n",
        "job_descriptions = it_jobs['FullDescription'].tolist()"
      ],
      "metadata": {
        "colab": {
          "base_uri": "https://localhost:8080/"
        },
        "id": "TdHyeFJuQWuI",
        "outputId": "98ab58e3-f36d-40e0-e34b-7922baa9c386"
      },
      "execution_count": 64,
      "outputs": [
        {
          "output_type": "stream",
          "name": "stderr",
          "text": [
            "/usr/local/lib/python3.10/dist-packages/ipykernel/ipkernel.py:283: DeprecationWarning: `should_run_async` will not call `transform_cell` automatically in the future. Please pass the result to `transformed_cell` argument and any exception that happen during thetransform in `preprocessing_exc_tuple` in IPython 7.17 and above.\n",
            "  and should_run_async(code)\n"
          ]
        }
      ]
    },
    {
      "cell_type": "markdown",
      "source": [
        "Use scikit-learn to get top 20 important keywords."
      ],
      "metadata": {
        "id": "wrcN_ZyQSFyK"
      }
    },
    {
      "cell_type": "code",
      "source": [
        "import numpy as np\n",
        "from sklearn.feature_extraction.text import CountVectorizer, TfidfTransformer\n",
        "\n",
        "# Remove NaN values from the list\n",
        "job_descriptions = [desc for desc in job_descriptions if desc != 'nan']\n",
        "# Use scikit-learn to get top 20 important keywords\n",
        "vectorizer = CountVectorizer()\n",
        "X = vectorizer.fit_transform(job_descriptions)\n",
        "feature_names = vectorizer.get_feature_names()\n",
        "tfidf_transformer = TfidfTransformer()\n",
        "X_tfidf = tfidf_transformer.fit_transform(X)\n",
        "\n",
        "# Get top 20 important keywords\n",
        "feature_indices = X_tfidf.argsort(axis=1)[:, -20:].tolist()\n",
        "top_keywords = [[feature_names[idx] for idx in indices] for indices in feature_indices]"
      ],
      "metadata": {
        "colab": {
          "base_uri": "https://localhost:8080/",
          "height": 289
        },
        "id": "hr3UW5FZQm9x",
        "outputId": "0488db77-f9ee-49c0-8021-c19c3b710872"
      },
      "execution_count": 65,
      "outputs": [
        {
          "output_type": "stream",
          "name": "stderr",
          "text": [
            "/usr/local/lib/python3.10/dist-packages/ipykernel/ipkernel.py:283: DeprecationWarning: `should_run_async` will not call `transform_cell` automatically in the future. Please pass the result to `transformed_cell` argument and any exception that happen during thetransform in `preprocessing_exc_tuple` in IPython 7.17 and above.\n",
            "  and should_run_async(code)\n"
          ]
        },
        {
          "output_type": "error",
          "ename": "AttributeError",
          "evalue": "ignored",
          "traceback": [
            "\u001b[0;31m---------------------------------------------------------------------------\u001b[0m",
            "\u001b[0;31mAttributeError\u001b[0m                            Traceback (most recent call last)",
            "\u001b[0;32m<ipython-input-65-35be04900bfe>\u001b[0m in \u001b[0;36m<cell line: 9>\u001b[0;34m()\u001b[0m\n\u001b[1;32m      7\u001b[0m \u001b[0mvectorizer\u001b[0m \u001b[0;34m=\u001b[0m \u001b[0mCountVectorizer\u001b[0m\u001b[0;34m(\u001b[0m\u001b[0;34m)\u001b[0m\u001b[0;34m\u001b[0m\u001b[0;34m\u001b[0m\u001b[0m\n\u001b[1;32m      8\u001b[0m \u001b[0mX\u001b[0m \u001b[0;34m=\u001b[0m \u001b[0mvectorizer\u001b[0m\u001b[0;34m.\u001b[0m\u001b[0mfit_transform\u001b[0m\u001b[0;34m(\u001b[0m\u001b[0mjob_descriptions\u001b[0m\u001b[0;34m)\u001b[0m\u001b[0;34m\u001b[0m\u001b[0;34m\u001b[0m\u001b[0m\n\u001b[0;32m----> 9\u001b[0;31m \u001b[0mfeature_names\u001b[0m \u001b[0;34m=\u001b[0m \u001b[0mvectorizer\u001b[0m\u001b[0;34m.\u001b[0m\u001b[0mget_feature_names\u001b[0m\u001b[0;34m(\u001b[0m\u001b[0;34m)\u001b[0m\u001b[0;34m\u001b[0m\u001b[0;34m\u001b[0m\u001b[0m\n\u001b[0m\u001b[1;32m     10\u001b[0m \u001b[0mtfidf_transformer\u001b[0m \u001b[0;34m=\u001b[0m \u001b[0mTfidfTransformer\u001b[0m\u001b[0;34m(\u001b[0m\u001b[0;34m)\u001b[0m\u001b[0;34m\u001b[0m\u001b[0;34m\u001b[0m\u001b[0m\n\u001b[1;32m     11\u001b[0m \u001b[0mX_tfidf\u001b[0m \u001b[0;34m=\u001b[0m \u001b[0mtfidf_transformer\u001b[0m\u001b[0;34m.\u001b[0m\u001b[0mfit_transform\u001b[0m\u001b[0;34m(\u001b[0m\u001b[0mX\u001b[0m\u001b[0;34m)\u001b[0m\u001b[0;34m\u001b[0m\u001b[0;34m\u001b[0m\u001b[0m\n",
            "\u001b[0;31mAttributeError\u001b[0m: 'CountVectorizer' object has no attribute 'get_feature_names'"
          ]
        }
      ]
    },
    {
      "cell_type": "markdown",
      "source": [
        "Choose one favourite keyword and perform information retrieval with scikit-learn"
      ],
      "metadata": {
        "id": "MZjEadf5SLEi"
      }
    },
    {
      "cell_type": "code",
      "source": [
        "favorite_keyword = 'software'\n",
        "matching_jobs = it_jobs[it_jobs['FullDescription'].str.contains(favorite_keyword, case=False, na=False)]\n",
        "\n",
        "print(\"Matching Jobs for the keyword '{}'\".format(favorite_keyword))\n",
        "print(matching_jobs)"
      ],
      "metadata": {
        "colab": {
          "base_uri": "https://localhost:8080/"
        },
        "id": "7Hgt7RnYR34F",
        "outputId": "7b1af882-42ef-41b0-84c3-7461704ce4fc"
      },
      "execution_count": 66,
      "outputs": [
        {
          "output_type": "stream",
          "name": "stderr",
          "text": [
            "/usr/local/lib/python3.10/dist-packages/ipykernel/ipkernel.py:283: DeprecationWarning: `should_run_async` will not call `transform_cell` automatically in the future. Please pass the result to `transformed_cell` argument and any exception that happen during thetransform in `preprocessing_exc_tuple` in IPython 7.17 and above.\n",
            "  and should_run_async(code)\n"
          ]
        },
        {
          "output_type": "stream",
          "name": "stdout",
          "text": [
            "Matching Jobs for the keyword 'software'\n",
            "              Id                                              Title  \\\n",
            "159   37404264.0  Human Capital Transformation - Engagement Manager   \n",
            "243   37404114.0                                          Architect   \n",
            "244   37404113.0                                          Architect   \n",
            "469   37403860.0               Rostering Coordinator/Client Service   \n",
            "721   37403562.0                     Nursing Recruitment Consultant   \n",
            "1106  37403126.0            Recruiter - Sales and Leadership Hiring   \n",
            "1262  37402951.0                                          Sous Chef   \n",
            "1347  37402860.0                                 Restaurant Manager   \n",
            "1373  37402829.0  People & Culture Consultant - Operations & Pro...   \n",
            "1638  37402548.0  Roster Coordinator / Staffing Co-ordinator | H...   \n",
            "1688  37402503.0  Recruitment Consultant / Senior Consultant  - ...   \n",
            "1771  37402416.0  Principal Consultant - IT Sales Recruitment [W...   \n",
            "1986  37402174.0                           Graduate of Architecture   \n",
            "2267  37401814.0                           People & Culture Manager   \n",
            "2306  37401769.0  iplanit Inside Sales Position – Australia/New ...   \n",
            "2352  37401701.0                  iplanit Client Consultant/Manager   \n",
            "2627  37401389.0  Office Manager - Human Resources (HR), Finance...   \n",
            "3371  37400632.0                   Learning and Development Officer   \n",
            "3505  37400495.0      Interior Design Lead - Workspace or Education   \n",
            "3879  37400130.0                                  Project Architect   \n",
            "4285  37390362.0                 Child Life Therapist - Paediatrics   \n",
            "5356  37363647.0               Community Committees Project Officer   \n",
            "6435  37393529.0         Recruitment Coordinator - 6 month contract   \n",
            "7131  37386379.0                     Content and Design Coordinator   \n",
            "7215  37385607.0                Events and Administrative Assistant   \n",
            "8332  37399794.0                                Multimedia Designer   \n",
            "9336  37394052.0                                          Resourcer   \n",
            "9337  37394044.0                              Entry Level Resourcer   \n",
            "9615  37392368.0                   Intake Officer DES - Rockhampton   \n",
            "9716  37391723.0                            GROUP TRAVEL CONSULTANT   \n",
            "9907  37390051.0                             Recruitment Consultant   \n",
            "\n",
            "                                                Company  \\\n",
            "159                                            Deloitte   \n",
            "243                                     SSA Pty Limited   \n",
            "244                                     SSA Pty Limited   \n",
            "469                                           Only Care   \n",
            "721                       Caring for You Nursing Agency   \n",
            "1106                          Digital Recruiter Pty Ltd   \n",
            "1262                      Employees Only Sydney PTY LTD   \n",
            "1347                              The Scarborough Hotel   \n",
            "1373                                    AC3 Pty Limited   \n",
            "1638                        Alseasons Hospitality Staff   \n",
            "1688                                    Lime Resourcing   \n",
            "1771                                       Harlow Group   \n",
            "1986                                        Ivory Group   \n",
            "2267                                           Capitalb   \n",
            "2306                                           Aspirico   \n",
            "2352                                           Aspirico   \n",
            "2627                        Tradewind Australia Pty Ltd   \n",
            "3371                       Australian Military Bank Ltd   \n",
            "3505                                       Gray Puksand   \n",
            "3879                                  Hays Architecture   \n",
            "4285                             Goulburn Valley Health   \n",
            "5356                           Wellington Shire Council   \n",
            "6435  Datacom is one of Australasia’s largest profes...   \n",
            "7131                                   Barbeques Galore   \n",
            "7215            Sydney Mechanics' School of Arts (SMSA)   \n",
            "8332                                      Currumbin RSL   \n",
            "9336                                      ManpowerGroup   \n",
            "9337                                      ManpowerGroup   \n",
            "9615  CPL - Choice, Passion, Life (formerly Cerebral...   \n",
            "9716                     Terra Nova Coach Tours Pty Ltd   \n",
            "9907                        Hays Information Technology   \n",
            "\n",
            "                          Date                             Location  \\\n",
            "159   2018-10-07T00:00:00.000Z                               Sydney   \n",
            "243   2018-10-07T00:00:00.000Z                            Melbourne   \n",
            "244   2018-10-07T00:00:00.000Z                               Sydney   \n",
            "469   2018-10-07T00:00:00.000Z                               Sydney   \n",
            "721   2018-10-07T00:00:00.000Z                            Melbourne   \n",
            "1106  2018-10-06T00:00:00.000Z                               Sydney   \n",
            "1262  2018-10-06T00:00:00.000Z                               Sydney   \n",
            "1347  2018-10-06T00:00:00.000Z  Wollongong, Illawarra & South Coast   \n",
            "1373  2018-10-06T00:00:00.000Z                               Sydney   \n",
            "1638  2018-10-05T00:00:00.000Z                               Sydney   \n",
            "1688  2018-10-05T00:00:00.000Z                             Brisbane   \n",
            "1771  2018-10-05T00:00:00.000Z                            Melbourne   \n",
            "1986  2018-10-05T00:00:00.000Z                            Melbourne   \n",
            "2267  2018-10-05T00:00:00.000Z                             Brisbane   \n",
            "2306  2018-10-05T00:00:00.000Z                               Sydney   \n",
            "2352  2018-10-05T00:00:00.000Z                               Sydney   \n",
            "2627  2018-10-05T00:00:00.000Z                            Melbourne   \n",
            "3371  2018-10-05T00:00:00.000Z                               Sydney   \n",
            "3505  2018-10-05T00:00:00.000Z                            Melbourne   \n",
            "3879  2018-10-05T00:00:00.000Z                                  ACT   \n",
            "4285  2018-10-04T00:00:00.000Z         Shepparton & Goulburn Valley   \n",
            "5356  2018-10-02T00:00:00.000Z               Bairnsdale & Gippsland   \n",
            "6435  2018-10-04T00:00:00.000Z                            Melbourne   \n",
            "7131  2018-10-04T00:00:00.000Z                               Sydney   \n",
            "7215  2018-10-04T00:00:00.000Z                               Sydney   \n",
            "8332  2018-10-05T00:00:00.000Z                           Gold Coast   \n",
            "9336  2018-10-04T00:00:00.000Z                               Sydney   \n",
            "9337  2018-10-04T00:00:00.000Z                               Sydney   \n",
            "9615  2018-10-04T00:00:00.000Z        Rockhampton & Capricorn Coast   \n",
            "9716  2018-10-04T00:00:00.000Z                               Sydney   \n",
            "9907  2018-10-04T00:00:00.000Z                                Perth   \n",
            "\n",
            "                                   Area                    Classification  \\\n",
            "159                                 NaN     Human Resources & Recruitment   \n",
            "243                                 NaN             Design & Architecture   \n",
            "244   CBD, Inner West & Eastern Suburbs             Design & Architecture   \n",
            "469   CBD, Inner West & Eastern Suburbs  Community Services & Development   \n",
            "721                                 NaN     Human Resources & Recruitment   \n",
            "1106     North Shore & Northern Beaches     Human Resources & Recruitment   \n",
            "1262  CBD, Inner West & Eastern Suburbs             Hospitality & Tourism   \n",
            "1347                                NaN             Hospitality & Tourism   \n",
            "1373  CBD, Inner West & Eastern Suburbs     Human Resources & Recruitment   \n",
            "1638  CBD, Inner West & Eastern Suburbs             Hospitality & Tourism   \n",
            "1688                CBD & Inner Suburbs     Human Resources & Recruitment   \n",
            "1771                CBD & Inner Suburbs     Human Resources & Recruitment   \n",
            "1986                CBD & Inner Suburbs             Design & Architecture   \n",
            "2267                CBD & Inner Suburbs     Human Resources & Recruitment   \n",
            "2306                                NaN  Community Services & Development   \n",
            "2352                                NaN  Community Services & Development   \n",
            "2627                CBD & Inner Suburbs     Human Resources & Recruitment   \n",
            "3371  CBD, Inner West & Eastern Suburbs     Human Resources & Recruitment   \n",
            "3505                CBD & Inner Suburbs             Design & Architecture   \n",
            "3879                                NaN             Design & Architecture   \n",
            "4285                                NaN  Community Services & Development   \n",
            "5356                                NaN  Community Services & Development   \n",
            "6435                CBD & Inner Suburbs     Human Resources & Recruitment   \n",
            "7131       Parramatta & Western Suburbs             Design & Architecture   \n",
            "7215  CBD, Inner West & Eastern Suburbs  Community Services & Development   \n",
            "8332                                NaN             Design & Architecture   \n",
            "9336  CBD, Inner West & Eastern Suburbs     Human Resources & Recruitment   \n",
            "9337  CBD, Inner West & Eastern Suburbs     Human Resources & Recruitment   \n",
            "9615                                NaN  Community Services & Development   \n",
            "9716     North Shore & Northern Beaches             Hospitality & Tourism   \n",
            "9907                                NaN     Human Resources & Recruitment   \n",
            "\n",
            "                           SubClassification  \\\n",
            "159                                    Other   \n",
            "243                             Architecture   \n",
            "244                             Architecture   \n",
            "469                Aged & Disability Support   \n",
            "721                     Recruitment - Agency   \n",
            "1106                    Recruitment - Agency   \n",
            "1262                             Chefs/Cooks   \n",
            "1347                              Management   \n",
            "1373              Consulting & Generalist HR   \n",
            "1638                              Management   \n",
            "1688                    Recruitment - Agency   \n",
            "1771                    Recruitment - Agency   \n",
            "1986                            Architecture   \n",
            "2267                   Management - Internal   \n",
            "2306               Aged & Disability Support   \n",
            "2352               Aged & Disability Support   \n",
            "2627              Consulting & Generalist HR   \n",
            "3371                  Training & Development   \n",
            "3505                         Interior Design   \n",
            "3879                            Architecture   \n",
            "4285  Child Welfare, Youth & Family Services   \n",
            "5356                   Community Development   \n",
            "6435                  Recruitment - Internal   \n",
            "7131                          Graphic Design   \n",
            "7215                                   Other   \n",
            "8332                          Graphic Design   \n",
            "9336                    Recruitment - Agency   \n",
            "9337                    Recruitment - Agency   \n",
            "9615                     Employment Services   \n",
            "9716               Travel Agents/Consultants   \n",
            "9907                    Recruitment - Agency   \n",
            "\n",
            "                                            Requirement  \\\n",
            "159   Join a high performing culture of talented peo...   \n",
            "243   Join a Nationally Registered Architectural Com...   \n",
            "244   Join a Nationally Registered Architectural Com...   \n",
            "469   A person with strong rostering/people skills a...   \n",
            "721   Fabulous opportunity for a Recruiter to join A...   \n",
            "1106  The Digital Recruiter is on the hunt for a hig...   \n",
            "1262  We seek two qualified, motivated and creative ...   \n",
            "1347  Lead a team of over 20 staff. Big focus on tra...   \n",
            "1373  Join THE team responsible for conceiving, plan...   \n",
            "1638  Move off the hospitality floor and into our ho...   \n",
            "1688  Lime Resourcing is Brisbane's leading Rec2Rec ...   \n",
            "1771  Is it time to take your recruiting skills to t...   \n",
            "1986  Internationally renowned Architectural Studio ...   \n",
            "2267  Looking for an opportunity to make your mark? ...   \n",
            "2306  Aspirico are seeking an iplanit Inside Sales l...   \n",
            "2352  Aspirico are actively growing the iplanit pres...   \n",
            "2627  T.C.L. are world famous landscape architects. ...   \n",
            "3371  Interested in joining our team? If so, we look...   \n",
            "3505  Passionate, Experienced Interior Designers bec...   \n",
            "3879  Senior position available for the right person...   \n",
            "4285  Permanent Part Time, 40 hours per fortnight, $...   \n",
            "5356  Community Committees Project Officer Position ...   \n",
            "6435  This is a great opportunity to kick-start a ca...   \n",
            "7131  We are now seeking a Content and Design Coordi...   \n",
            "7215  Dynamic and varied role with lots of room for ...   \n",
            "8332  We are looking for a creative thinker to produ...   \n",
            "9336  • Full time permanent role \\n• Healthy Commiss...   \n",
            "9337  • Full time permanent role\\n• Healthy Commissi...   \n",
            "9615  Coordinate and complete participant intakes wi...   \n",
            "9716  Working from a pleasant, modern office prepare...   \n",
            "9907  Recruitment Consultant job with leading and aw...   \n",
            "\n",
            "                                        FullDescription  LowestSalary  \\\n",
            "159   <p><strong>Workday Engagement Manager (Full ti...           0.0   \n",
            "243   <strong>About the company:&nbsp;</strong><br> ...           0.0   \n",
            "244   <strong>About the company:&nbsp;</strong><br> ...           0.0   \n",
            "469   <h2><strong>About us</strong></h2> <p>Only Car...           0.0   \n",
            "721   <p>Nursing Recruitment Officer<br><br>\"Differe...           0.0   \n",
            "1106  <p>The Digital Recruiter is laser-focused on f...           0.0   \n",
            "1262  <p>We are on the look-out for two talented Sou...           0.0   \n",
            "1347  <h2>Scarborough&nbsp; Hotel - Northern Illawar...           0.0   \n",
            "1373  <ul>\\n          <li><strong>Contribute to our ...           0.0   \n",
            "1638  <p><strong>About us:</strong></p>\\n        <p>...           0.0   \n",
            "1688  <br>At Lime resourcing we specialise in the pl...           0.0   \n",
            "1771  <div id=\"FlashContent\" class=\"videoembed\"><ifr...           0.0   \n",
            "1986  <strong>ABOUT THE COMPANY.</strong><br>&nbsp;<...           0.0   \n",
            "2267  <p><strong>Cloudscene - Who are we?</strong><b...           0.0   \n",
            "2306  <p> </p><p><strong>About the business and the ...           0.0   \n",
            "2352  <p> </p><p><strong>About the business and the ...           0.0   \n",
            "2627  <p>Taylor Cullity Lethlean is one&nbsp;of Aust...           0.0   \n",
            "3371  <ul>\\n          <li>Exciting opportunity exist...           0.0   \n",
            "3505  <strong>About Gray Puksand:</strong><br>&nbsp;...           0.0   \n",
            "3879  <p><strong>Your new company</strong><br> Our c...           0.0   \n",
            "4285  <br>\\n        <p>An opportunity exists for a m...          30.0   \n",
            "5356  <p><strong>Community Committees Project Office...          30.0   \n",
            "6435  <p>With over 5,200 people, and annual revenues...          40.0   \n",
            "7131  <p>Barbeques Galore, Australia's largest barbe...          40.0   \n",
            "7215  <ul> <li><strong>Dynamic and varied role with ...          40.0   \n",
            "8332  <p><strong>the best little club in the world i...          50.0   \n",
            "9336  <p><strong>About Us&nbsp;<br></strong>Experis ...          50.0   \n",
            "9337  <p><strong>About Us </strong><strong><br></str...          50.0   \n",
            "9615  <p>Mylestones has been part of CPL - Choice, P...          50.0   \n",
            "9716  <p>Our company is a national leader in tourism...          50.0   \n",
            "9907  <p>Recruitment Consultant job with leading and...          50.0   \n",
            "\n",
            "      HighestSalary          JobType  \n",
            "159            30.0        Full Time  \n",
            "243            30.0        Full Time  \n",
            "244            30.0        Full Time  \n",
            "469            30.0        Full Time  \n",
            "721            30.0  Casual/Vacation  \n",
            "1106           30.0    Contract/Temp  \n",
            "1262           30.0        Full Time  \n",
            "1347           30.0        Full Time  \n",
            "1373           30.0        Full Time  \n",
            "1638           30.0        Full Time  \n",
            "1688           30.0        Full Time  \n",
            "1771           30.0        Full Time  \n",
            "1986           30.0        Full Time  \n",
            "2267           30.0        Full Time  \n",
            "2306           30.0        Part Time  \n",
            "2352           30.0        Full Time  \n",
            "2627           30.0        Full Time  \n",
            "3371           30.0        Full Time  \n",
            "3505           30.0        Full Time  \n",
            "3879           30.0        Full Time  \n",
            "4285           40.0        Part Time  \n",
            "5356           40.0    Contract/Temp  \n",
            "6435           50.0    Contract/Temp  \n",
            "7131           50.0        Full Time  \n",
            "7215           50.0        Full Time  \n",
            "8332           60.0    Contract/Temp  \n",
            "9336           60.0        Full Time  \n",
            "9337           60.0        Full Time  \n",
            "9615           60.0        Full Time  \n",
            "9716           60.0        Full Time  \n",
            "9907           60.0        Full Time  \n"
          ]
        }
      ]
    },
    {
      "cell_type": "markdown",
      "source": [
        "2. Implement a method capable of extracting n-grams from a given sequence object (e.g., string and list). Utilize this feature to produce word tri-grams, letter tri-grams based on the sentence \"I like deadline and want to immerse myself in deadline.\""
      ],
      "metadata": {
        "id": "ADHWIn0SSfHs"
      }
    },
    {
      "cell_type": "code",
      "source": [
        "from typing import List\n",
        "\n",
        "\n",
        "def extract_ngrams(sequence: str or List[str], n: int) -> List[str]:\n",
        "    \"\"\"\n",
        "    Extracts n-grams from a given sequence.\n",
        "    \n",
        "    Args:\n",
        "        sequence: The input sequence (string or list of strings).\n",
        "        n: The length of n-grams to extract.\n",
        "    \n",
        "    Returns:\n",
        "        A list of n-grams extracted from the sequence.\n",
        "    \"\"\"\n",
        "    ngrams = []\n",
        "    if isinstance(sequence, str):\n",
        "        sequence = sequence.split()\n",
        "    for i in range(len(sequence) - n + 1):\n",
        "        ngrams.append(' '.join(sequence[i:i+n]))\n",
        "    return ngrams\n",
        "\n",
        "\n",
        "# Example usage\n",
        "sentence = \"I like deadline and want to immerse myself in deadline.\"\n",
        "\n",
        "# Extract word tri-grams\n",
        "word_trigrams = extract_ngrams(sentence, 3)\n",
        "print(\"Word Tri-grams:\", word_trigrams)\n",
        "\n",
        "# Extract letter tri-grams\n",
        "letter_trigrams = extract_ngrams(sentence.replace(\" \", \"\"), 3)\n",
        "print(\"Letter Tri-grams:\", letter_trigrams)\n"
      ],
      "metadata": {
        "colab": {
          "base_uri": "https://localhost:8080/"
        },
        "id": "hLsKS5ziSgpz",
        "outputId": "edce2748-f3bc-4b06-b044-4d93278c91f3"
      },
      "execution_count": 67,
      "outputs": [
        {
          "output_type": "stream",
          "name": "stdout",
          "text": [
            "Word Tri-grams: ['I like deadline', 'like deadline and', 'deadline and want', 'and want to', 'want to immerse', 'to immerse myself', 'immerse myself in', 'myself in deadline.']\n",
            "Letter Tri-grams: []\n"
          ]
        },
        {
          "output_type": "stream",
          "name": "stderr",
          "text": [
            "/usr/local/lib/python3.10/dist-packages/ipykernel/ipkernel.py:283: DeprecationWarning: `should_run_async` will not call `transform_cell` automatically in the future. Please pass the result to `transformed_cell` argument and any exception that happen during thetransform in `preprocessing_exc_tuple` in IPython 7.17 and above.\n",
            "  and should_run_async(code)\n"
          ]
        }
      ]
    },
    {
      "cell_type": "markdown",
      "source": [
        "Construct a program that satisfies these criteria in line with them:\n",
        "You will be provided with a string of words that are separated by a certain amount of space.\n",
        "Every time one of the following words occurs in this order:\n",
        "If the phrase can be written with no more than four letters, then its original form should be maintained. In any other circumstance, the opening letter and the final letter should both be kept the same. Switch out some of the letters for others and rearrange them in a chaotic sequence (in the middle of the word)\n",
        "Using a statement such as \"I couldn't believe that I could completely understand what I was reading: the astounding power of the human mind\" as an example, describe the results by providing a statement such as \"I couldn't believe that I could truly comprehend what I was\n",
        "reading.\""
      ],
      "metadata": {
        "id": "p_q2rfLlS-bD"
      }
    },
    {
      "cell_type": "code",
      "source": [
        "import random\n",
        "\n",
        "def modify_phrase(phrase):\n",
        "    words = phrase.split()\n",
        "    modified_words = []\n",
        "    \n",
        "    for word in words:\n",
        "        if len(word) <= 4:\n",
        "            modified_words.append(word)\n",
        "        else:\n",
        "            first_letter = word[0]\n",
        "            last_letter = word[-1]\n",
        "            middle_letters = list(word[1:-1])\n",
        "            random.shuffle(middle_letters)\n",
        "            modified_word = first_letter + ''.join(middle_letters) + last_letter\n",
        "            modified_words.append(modified_word)\n",
        "    \n",
        "    modified_phrase = ' '.join(modified_words)\n",
        "    return modified_phrase\n",
        "\n",
        "\n",
        "# Example usage\n",
        "input_phrase = \"I couldn't believe that I could completely understand what I was reading: the astounding power of the human mind\"\n",
        "modified_phrase = modify_phrase(input_phrase)\n",
        "print(\"Original Phrase:\", input_phrase)\n",
        "print(\"Modified Phrase:\", modified_phrase)\n"
      ],
      "metadata": {
        "colab": {
          "base_uri": "https://localhost:8080/"
        },
        "id": "aU_6PQooUqVO",
        "outputId": "3de04d37-a099-4f19-9652-b102350e56ca"
      },
      "execution_count": 68,
      "outputs": [
        {
          "output_type": "stream",
          "name": "stdout",
          "text": [
            "Original Phrase: I couldn't believe that I could completely understand what I was reading: the astounding power of the human mind\n",
            "Modified Phrase: I clon'udt beveile that I could cptllmeoey urnstaednd what I was rgeaidn: the autoinsdng peowr of the human mind\n"
          ]
        },
        {
          "output_type": "stream",
          "name": "stderr",
          "text": [
            "/usr/local/lib/python3.10/dist-packages/ipykernel/ipkernel.py:283: DeprecationWarning: `should_run_async` will not call `transform_cell` automatically in the future. Please pass the result to `transformed_cell` argument and any exception that happen during thetransform in `preprocessing_exc_tuple` in IPython 7.17 and above.\n",
            "  and should_run_async(code)\n"
          ]
        }
      ]
    },
    {
      "cell_type": "markdown",
      "source": [
        "T4. he zip file alice.zip includes the text file alice.txt containing Lewis Carroll's book Alice's Adventures in Wonderland, which is available on Project Gutenberg. Apply a part-of-speech (POS) tagger to the text file, then save the output to a separate file. Implement programmes that read the results of POS tagging and carry out the tasks."
      ],
      "metadata": {
        "id": "hAPCot8_Uxxs"
      }
    },
    {
      "cell_type": "code",
      "source": [
        "!pip install nltk matplotlib\n"
      ],
      "metadata": {
        "colab": {
          "base_uri": "https://localhost:8080/"
        },
        "id": "O9KKa3jqVlqo",
        "outputId": "83f52eba-ff4e-40a3-faeb-6b63ce707e2a"
      },
      "execution_count": 69,
      "outputs": [
        {
          "output_type": "stream",
          "name": "stderr",
          "text": [
            "/usr/local/lib/python3.10/dist-packages/ipykernel/ipkernel.py:283: DeprecationWarning: `should_run_async` will not call `transform_cell` automatically in the future. Please pass the result to `transformed_cell` argument and any exception that happen during thetransform in `preprocessing_exc_tuple` in IPython 7.17 and above.\n",
            "  and should_run_async(code)\n"
          ]
        },
        {
          "output_type": "stream",
          "name": "stdout",
          "text": [
            "Looking in indexes: https://pypi.org/simple, https://us-python.pkg.dev/colab-wheels/public/simple/\n",
            "Requirement already satisfied: nltk in /usr/local/lib/python3.10/dist-packages (3.8.1)\n",
            "Requirement already satisfied: matplotlib in /usr/local/lib/python3.10/dist-packages (3.7.1)\n",
            "Requirement already satisfied: click in /usr/local/lib/python3.10/dist-packages (from nltk) (8.1.3)\n",
            "Requirement already satisfied: joblib in /usr/local/lib/python3.10/dist-packages (from nltk) (1.2.0)\n",
            "Requirement already satisfied: regex>=2021.8.3 in /usr/local/lib/python3.10/dist-packages (from nltk) (2022.10.31)\n",
            "Requirement already satisfied: tqdm in /usr/local/lib/python3.10/dist-packages (from nltk) (4.65.0)\n",
            "Requirement already satisfied: contourpy>=1.0.1 in /usr/local/lib/python3.10/dist-packages (from matplotlib) (1.0.7)\n",
            "Requirement already satisfied: cycler>=0.10 in /usr/local/lib/python3.10/dist-packages (from matplotlib) (0.11.0)\n",
            "Requirement already satisfied: fonttools>=4.22.0 in /usr/local/lib/python3.10/dist-packages (from matplotlib) (4.39.3)\n",
            "Requirement already satisfied: kiwisolver>=1.0.1 in /usr/local/lib/python3.10/dist-packages (from matplotlib) (1.4.4)\n",
            "Requirement already satisfied: numpy>=1.20 in /usr/local/lib/python3.10/dist-packages (from matplotlib) (1.24.3)\n",
            "Requirement already satisfied: packaging>=20.0 in /usr/local/lib/python3.10/dist-packages (from matplotlib) (23.1)\n",
            "Requirement already satisfied: pillow>=6.2.0 in /usr/local/lib/python3.10/dist-packages (from matplotlib) (8.4.0)\n",
            "Requirement already satisfied: pyparsing>=2.3.1 in /usr/local/lib/python3.10/dist-packages (from matplotlib) (3.0.9)\n",
            "Requirement already satisfied: python-dateutil>=2.7 in /usr/local/lib/python3.10/dist-packages (from matplotlib) (2.8.2)\n",
            "Requirement already satisfied: six>=1.5 in /usr/local/lib/python3.10/dist-packages (from python-dateutil>=2.7->matplotlib) (1.16.0)\n"
          ]
        }
      ]
    },
    {
      "cell_type": "code",
      "source": [
        "import zipfile\n",
        "import nltk\n",
        "from nltk import pos_tag\n",
        "from nltk.tokenize import sent_tokenize, word_tokenize\n",
        "from nltk.corpus import stopwords\n",
        "from collections import Counter\n",
        "import matplotlib.pyplot as plt\n",
        "import numpy as np"
      ],
      "metadata": {
        "colab": {
          "base_uri": "https://localhost:8080/"
        },
        "id": "74O7yga9Vqey",
        "outputId": "9a607406-656b-4d88-859d-252e3baf6370"
      },
      "execution_count": 70,
      "outputs": [
        {
          "output_type": "stream",
          "name": "stderr",
          "text": [
            "/usr/local/lib/python3.10/dist-packages/ipykernel/ipkernel.py:283: DeprecationWarning: `should_run_async` will not call `transform_cell` automatically in the future. Please pass the result to `transformed_cell` argument and any exception that happen during thetransform in `preprocessing_exc_tuple` in IPython 7.17 and above.\n",
            "  and should_run_async(code)\n"
          ]
        }
      ]
    },
    {
      "cell_type": "code",
      "source": [
        "#Extract the text from the zip file:\n",
        "\n",
        "with zipfile.ZipFile(\"alice.zip\", \"r\") as zip_ref:\n",
        "    zip_ref.extractall()\n",
        "    \n",
        "with open(\"alice.txt\", \"r\") as file:\n",
        "    text = file.read()"
      ],
      "metadata": {
        "colab": {
          "base_uri": "https://localhost:8080/"
        },
        "id": "gdVJdagDV2mo",
        "outputId": "684a4d4e-6655-4f01-fe7f-e7a529db6a06"
      },
      "execution_count": 71,
      "outputs": [
        {
          "output_type": "stream",
          "name": "stderr",
          "text": [
            "/usr/local/lib/python3.10/dist-packages/ipykernel/ipkernel.py:283: DeprecationWarning: `should_run_async` will not call `transform_cell` automatically in the future. Please pass the result to `transformed_cell` argument and any exception that happen during thetransform in `preprocessing_exc_tuple` in IPython 7.17 and above.\n",
            "  and should_run_async(code)\n"
          ]
        }
      ]
    },
    {
      "cell_type": "code",
      "source": [
        "#Tokenize the text into sentences and words:\n",
        "sentences = sent_tokenize(text)\n",
        "words = word_tokenize(text)\n"
      ],
      "metadata": {
        "colab": {
          "base_uri": "https://localhost:8080/"
        },
        "id": "fBmXwaN5WChA",
        "outputId": "c0b562e1-1020-4864-d2bb-e5838e81db04"
      },
      "execution_count": 72,
      "outputs": [
        {
          "output_type": "stream",
          "name": "stderr",
          "text": [
            "/usr/local/lib/python3.10/dist-packages/ipykernel/ipkernel.py:283: DeprecationWarning: `should_run_async` will not call `transform_cell` automatically in the future. Please pass the result to `transformed_cell` argument and any exception that happen during thetransform in `preprocessing_exc_tuple` in IPython 7.17 and above.\n",
            "  and should_run_async(code)\n"
          ]
        }
      ]
    },
    {
      "cell_type": "code",
      "source": [
        "import nltk\n",
        "nltk.download('averaged_perceptron_tagger')\n",
        "#Apply part-of-speech tagging:\n",
        "tagged_words = pos_tag(words)\n"
      ],
      "metadata": {
        "colab": {
          "base_uri": "https://localhost:8080/"
        },
        "id": "SycbkVSYWPHH",
        "outputId": "9af383a2-a9a0-408a-93fa-0c575819e0dd"
      },
      "execution_count": 74,
      "outputs": [
        {
          "output_type": "stream",
          "name": "stderr",
          "text": [
            "/usr/local/lib/python3.10/dist-packages/ipykernel/ipkernel.py:283: DeprecationWarning: `should_run_async` will not call `transform_cell` automatically in the future. Please pass the result to `transformed_cell` argument and any exception that happen during thetransform in `preprocessing_exc_tuple` in IPython 7.17 and above.\n",
            "  and should_run_async(code)\n",
            "[nltk_data] Downloading package averaged_perceptron_tagger to\n",
            "[nltk_data]     /root/nltk_data...\n",
            "[nltk_data]   Unzipping taggers/averaged_perceptron_tagger.zip.\n"
          ]
        }
      ]
    },
    {
      "cell_type": "code",
      "source": [
        "#Save the tagged output to a separate file:\n",
        "with open(\"tagged_output.txt\", \"w\") as file:\n",
        "    for word, tag in tagged_words:\n",
        "        file.write(f\"{word}\\t{tag}\\n\")\n"
      ],
      "metadata": {
        "colab": {
          "base_uri": "https://localhost:8080/"
        },
        "id": "jAbZauICWewk",
        "outputId": "94b20256-78cb-417e-9931-9a3033b7bf8b"
      },
      "execution_count": 75,
      "outputs": [
        {
          "output_type": "stream",
          "name": "stderr",
          "text": [
            "/usr/local/lib/python3.10/dist-packages/ipykernel/ipkernel.py:283: DeprecationWarning: `should_run_async` will not call `transform_cell` automatically in the future. Please pass the result to `transformed_cell` argument and any exception that happen during thetransform in `preprocessing_exc_tuple` in IPython 7.17 and above.\n",
            "  and should_run_async(code)\n"
          ]
        }
      ]
    },
    {
      "cell_type": "code",
      "source": [
        "#Find all surface forms and lemmas of verbs:\n",
        "from nltk.stem import WordNetLemmatizer\n",
        "lemmatizer = WordNetLemmatizer()\n",
        "\n",
        "verbs_surface = [word for word, tag in tagged_words if tag.startswith(\"VB\")]\n",
        "verbs_lemmas = [lemmatizer.lemmatize(word, pos='v') for word, tag in tagged_words if tag.startswith(\"VB\")]\n"
      ],
      "metadata": {
        "colab": {
          "base_uri": "https://localhost:8080/"
        },
        "id": "IyhAflhQWpfb",
        "outputId": "de89c4b5-46b7-405f-be7b-95592ddf6ca6"
      },
      "execution_count": 78,
      "outputs": [
        {
          "output_type": "stream",
          "name": "stderr",
          "text": [
            "/usr/local/lib/python3.10/dist-packages/ipykernel/ipkernel.py:283: DeprecationWarning: `should_run_async` will not call `transform_cell` automatically in the future. Please pass the result to `transformed_cell` argument and any exception that happen during thetransform in `preprocessing_exc_tuple` in IPython 7.17 and above.\n",
            "  and should_run_async(code)\n"
          ]
        }
      ]
    },
    {
      "cell_type": "code",
      "source": [
        "#Extract sentences of the pattern \"A of B\" where A and B are nouns:\n",
        "noun_phrases = [sentence for sentence in sentences if \"A of B\" in sentence]"
      ],
      "metadata": {
        "colab": {
          "base_uri": "https://localhost:8080/"
        },
        "id": "PDspsSLLXJbB",
        "outputId": "45fd83a7-d3e6-45c8-b6e0-f3714153387a"
      },
      "execution_count": 79,
      "outputs": [
        {
          "output_type": "stream",
          "name": "stderr",
          "text": [
            "/usr/local/lib/python3.10/dist-packages/ipykernel/ipkernel.py:283: DeprecationWarning: `should_run_async` will not call `transform_cell` automatically in the future. Please pass the result to `transformed_cell` argument and any exception that happen during thetransform in `preprocessing_exc_tuple` in IPython 7.17 and above.\n",
            "  and should_run_async(code)\n"
          ]
        }
      ]
    },
    {
      "cell_type": "code",
      "source": [
        "#Find and eliminate the longest noun phrase consisting of consecutive nouns:\n",
        "\n",
        "noun_chunks = nltk.ne_chunk(tagged_words)\n",
        "longest_noun_phrase = None\n",
        "for subtree in noun_chunks.subtrees():\n",
        "    if subtree.label() == \"NP\":\n",
        "        if longest_noun_phrase is None or len(subtree) > len(longest_noun_phrase):\n",
        "            longest_noun_phrase = subtree\n",
        "\n",
        "if longest_noun_phrase is not None:\n",
        "    words_without_longest_noun_phrase = [word for word, tag in tagged_words if word not in longest_noun_phrase.leaves()]\n",
        "else:\n",
        "    words_without_longest_noun_phrase = [word for word, tag in tagged_words]\n",
        "\n"
      ],
      "metadata": {
        "colab": {
          "base_uri": "https://localhost:8080/"
        },
        "id": "D9vfzMUhXQqX",
        "outputId": "724fa1b3-874b-4649-88e6-bfb7e2506a9a"
      },
      "execution_count": 85,
      "outputs": [
        {
          "output_type": "stream",
          "name": "stderr",
          "text": [
            "/usr/local/lib/python3.10/dist-packages/ipykernel/ipkernel.py:283: DeprecationWarning: `should_run_async` will not call `transform_cell` automatically in the future. Please pass the result to `transformed_cell` argument and any exception that happen during thetransform in `preprocessing_exc_tuple` in IPython 7.17 and above.\n",
            "  and should_run_async(code)\n"
          ]
        }
      ]
    },
    {
      "cell_type": "code",
      "source": [
        "#Obtain a list of terms and their frequencies:\n",
        "terms = [word.lower() for word, _ in tagged_words if word.isalpha()]\n",
        "term_frequencies = Counter(terms)"
      ],
      "metadata": {
        "colab": {
          "base_uri": "https://localhost:8080/"
        },
        "id": "T9K5RQBbYZQl",
        "outputId": "196bb1fb-1bb0-422e-ccb2-456d68ea6efb"
      },
      "execution_count": 86,
      "outputs": [
        {
          "output_type": "stream",
          "name": "stderr",
          "text": [
            "/usr/local/lib/python3.10/dist-packages/ipykernel/ipkernel.py:283: DeprecationWarning: `should_run_async` will not call `transform_cell` automatically in the future. Please pass the result to `transformed_cell` argument and any exception that happen during thetransform in `preprocessing_exc_tuple` in IPython 7.17 and above.\n",
            "  and should_run_async(code)\n"
          ]
        }
      ]
    },
    {
      "cell_type": "code",
      "source": [
        "#Create a chart showing the frequency of the ten most popular terms:\n",
        "top_ten_terms = term_frequencies.most_common(10)\n",
        "terms, frequencies = zip(*top_ten_terms)\n",
        "plt.bar(terms, frequencies)\n",
        "plt.xlabel(\"Terms\")\n",
        "plt.ylabel(\"Frequency\")\n",
        "plt.title(\"Top 10 Term Frequencies\")\n",
        "plt.xticks(rotation=45)\n",
        "plt.show()"
      ],
      "metadata": {
        "colab": {
          "base_uri": "https://localhost:8080/",
          "height": 546
        },
        "id": "WqMkduJCYeyb",
        "outputId": "f7aa901a-641d-45ea-984c-1c0f3ae090cb"
      },
      "execution_count": 87,
      "outputs": [
        {
          "output_type": "stream",
          "name": "stderr",
          "text": [
            "/usr/local/lib/python3.10/dist-packages/ipykernel/ipkernel.py:283: DeprecationWarning: `should_run_async` will not call `transform_cell` automatically in the future. Please pass the result to `transformed_cell` argument and any exception that happen during thetransform in `preprocessing_exc_tuple` in IPython 7.17 and above.\n",
            "  and should_run_async(code)\n"
          ]
        },
        {
          "output_type": "display_data",
          "data": {
            "text/plain": [
              "<Figure size 640x480 with 1 Axes>"
            ],
            "image/png": "[encoded data removed]"
          },
          "metadata": {}
        }
      ]
    },
    {
      "cell_type": "code",
      "source": [
        "#Compile a list of words often seen in the same context as \"Alice\":\n",
        "context_words = [word for word, _ in tagged_words if word.lower() == \"alice\"]\n",
        "adjacent_words = []\n",
        "for i in range(len(context_words)):\n",
        "    if i > 0:\n",
        "        adjacent_words.append(tagged_words[i-1][0])\n",
        "    if i < len(context_words) - 1:\n",
        "        adjacent_words.append(tagged_words[i+1][0])\n",
        "adjacent_word_frequencies = Counter(adjacent_words)"
      ],
      "metadata": {
        "colab": {
          "base_uri": "https://localhost:8080/"
        },
        "id": "btobXfW2YocB",
        "outputId": "62e78d23-2d5d-4ef2-d2b8-4f410a57c0bd"
      },
      "execution_count": 88,
      "outputs": [
        {
          "output_type": "stream",
          "name": "stderr",
          "text": [
            "/usr/local/lib/python3.10/dist-packages/ipykernel/ipkernel.py:283: DeprecationWarning: `should_run_async` will not call `transform_cell` automatically in the future. Please pass the result to `transformed_cell` argument and any exception that happen during thetransform in `preprocessing_exc_tuple` in IPython 7.17 and above.\n",
            "  and should_run_async(code)\n"
          ]
        }
      ]
    },
    {
      "cell_type": "code",
      "source": [
        "#Create a chart showing the top 10 words often seen in the same context as \"Alice\":\n",
        "top_ten_context_words = adjacent_word_frequencies.most_common(10)\n",
        "\n",
        "# Extract the words and their frequencies\n",
        "words = [word for word, _ in top_ten_context_words]\n",
        "frequencies = [freq for _, freq in top_ten_context_words]\n",
        "\n",
        "# Create a bar chart to visualize the top 10 context words\n",
        "plt.bar(words, frequencies)\n",
        "plt.xlabel('Words')\n",
        "plt.ylabel('Frequency')\n",
        "plt.title('Top 10 Words in the Context of \"Alice\"')\n",
        "plt.show()"
      ],
      "metadata": {
        "colab": {
          "base_uri": "https://localhost:8080/",
          "height": 527
        },
        "id": "BZnzl4uEYuAp",
        "outputId": "43ddca53-8928-4316-dd26-8731a13a83c7"
      },
      "execution_count": 89,
      "outputs": [
        {
          "output_type": "stream",
          "name": "stderr",
          "text": [
            "/usr/local/lib/python3.10/dist-packages/ipykernel/ipkernel.py:283: DeprecationWarning: `should_run_async` will not call `transform_cell` automatically in the future. Please pass the result to `transformed_cell` argument and any exception that happen during thetransform in `preprocessing_exc_tuple` in IPython 7.17 and above.\n",
            "  and should_run_async(code)\n"
          ]
        },
        {
          "output_type": "display_data",
          "data": {
            "text/plain": [
              "<Figure size 640x480 with 1 Axes>"
            ],
            "image/png": "[encoded data removed]"
          },
          "metadata": {}
        }
      ]
    },
    {
      "cell_type": "code",
      "source": [
        "#create a word frequency histogram:\n",
        "bins = list(range(1, max_frequency + 2))\n",
        "word_frequencies = [sum(1 for count in word_counts.values() if count == bin) for bin in bins]\n",
        "\n",
        "plt.bar(bins[:-1], word_frequencies, width=1)\n",
        "plt.xlabel('Frequency')\n",
        "plt.ylabel('Count of Unique Words')\n",
        "plt.title('Word Frequency Histogram')\n",
        "plt.show()"
      ],
      "metadata": {
        "colab": {
          "base_uri": "https://localhost:8080/",
          "height": 527
        },
        "id": "oLQvfAstZhhT",
        "outputId": "ae0c2c66-2ba8-4f11-fdfe-b50486e0250a"
      },
      "execution_count": 94,
      "outputs": [
        {
          "output_type": "stream",
          "name": "stderr",
          "text": [
            "/usr/local/lib/python3.10/dist-packages/ipykernel/ipkernel.py:283: DeprecationWarning: `should_run_async` will not call `transform_cell` automatically in the future. Please pass the result to `transformed_cell` argument and any exception that happen during thetransform in `preprocessing_exc_tuple` in IPython 7.17 and above.\n",
            "  and should_run_async(code)\n"
          ]
        },
        {
          "output_type": "display_data",
          "data": {
            "text/plain": [
              "<Figure size 640x480 with 1 Axes>"
            ],
            "image/png": "[encoded data removed]"
          },
          "metadata": {}
        }
      ]
    },
    {
      "cell_type": "code",
      "source": [
        "#a log-log scale, plot the rank order along the x-axis and the frequency along the yaxis.\n",
        "import numpy as np\n",
        "\n",
        "# Calculate the rank order of word frequencies\n",
        "rank_order = np.arange(1, len(word_frequencies) + 1)\n",
        "\n",
        "# Plot the rank order and word frequencies on a log-log scale\n",
        "plt.loglog(rank_order, word_frequencies, marker='o')\n",
        "plt.xlabel('Rank Order (log)')\n",
        "plt.ylabel('Frequency (log)')\n",
        "plt.title('Word Frequency Rank Order')\n",
        "plt.show()\n"
      ],
      "metadata": {
        "colab": {
          "base_uri": "https://localhost:8080/",
          "height": 531
        },
        "id": "PGkn6IPjaCaC",
        "outputId": "96605b11-be19-4b00-e27d-ef7c39fe6245"
      },
      "execution_count": 91,
      "outputs": [
        {
          "output_type": "stream",
          "name": "stderr",
          "text": [
            "/usr/local/lib/python3.10/dist-packages/ipykernel/ipkernel.py:283: DeprecationWarning: `should_run_async` will not call `transform_cell` automatically in the future. Please pass the result to `transformed_cell` argument and any exception that happen during thetransform in `preprocessing_exc_tuple` in IPython 7.17 and above.\n",
            "  and should_run_async(code)\n"
          ]
        },
        {
          "output_type": "display_data",
          "data": {
            "text/plain": [
              "<Figure size 640x480 with 1 Axes>"
            ],
            "image/png": "[encoded data removed]"
          },
          "metadata": {}
        }
      ]
    }
  ]
}